{
 "cells": [
  {
   "cell_type": "code",
   "execution_count": 1,
   "id": "a2131b10-a275-4c58-b6ac-36d3c353a566",
   "metadata": {},
   "outputs": [],
   "source": [
    "%load_ext autoreload\n",
    "%autoreload 2     "
   ]
  },
  {
   "cell_type": "code",
   "execution_count": 2,
   "id": "542b0358-28c9-4b99-888a-72f6c447ea31",
   "metadata": {},
   "outputs": [
    {
     "ename": "ModuleNotFoundError",
     "evalue": "No module named 'voting_mechanism_design'",
     "output_type": "error",
     "traceback": [
      "\u001b[1;31m---------------------------------------------------------------------------\u001b[0m",
      "\u001b[1;31mModuleNotFoundError\u001b[0m                       Traceback (most recent call last)",
      "Cell \u001b[1;32mIn[2], line 1\u001b[0m\n\u001b[1;32m----> 1\u001b[0m \u001b[38;5;28;01mfrom\u001b[39;00m \u001b[38;5;21;01mvoting_mechanism_design\u001b[39;00m\u001b[38;5;21;01m.\u001b[39;00m\u001b[38;5;21;01magents\u001b[39;00m\u001b[38;5;21;01m.\u001b[39;00m\u001b[38;5;21;01mquorum_badgeholder\u001b[39;00m \u001b[38;5;28;01mimport\u001b[39;00m QuorumBadgeholder, QuorumBadgeholderPopulation\n\u001b[0;32m      2\u001b[0m \u001b[38;5;28;01mfrom\u001b[39;00m \u001b[38;5;21;01mvoting_mechanism_design\u001b[39;00m\u001b[38;5;21;01m.\u001b[39;00m\u001b[38;5;21;01mprojects\u001b[39;00m\u001b[38;5;21;01m.\u001b[39;00m\u001b[38;5;21;01mproject\u001b[39;00m \u001b[38;5;28;01mimport\u001b[39;00m Project, ProjectPopulation\n\u001b[0;32m      3\u001b[0m \u001b[38;5;28;01mfrom\u001b[39;00m \u001b[38;5;21;01mvoting_mechanism_design\u001b[39;00m\u001b[38;5;21;01m.\u001b[39;00m\u001b[38;5;21;01mfunds_distribution\u001b[39;00m\u001b[38;5;21;01m.\u001b[39;00m\u001b[38;5;21;01mthreshold_and_aggregate\u001b[39;00m \u001b[38;5;28;01mimport\u001b[39;00m ThresholdAndAggregate\n",
      "\u001b[1;31mModuleNotFoundError\u001b[0m: No module named 'voting_mechanism_design'"
     ]
    }
   ],
   "source": [
    "from voting_mechanism_design.agents.quorum_badgeholder import QuorumBadgeholder, QuorumBadgeholderPopulation\n",
    "from voting_mechanism_design.projects.project import Project, ProjectPopulation\n",
    "from voting_mechanism_design.funds_distribution.threshold_and_aggregate import ThresholdAndAggregate\n",
    "from voting_mechanism_design.sim import RoundSimulation\n",
    "\n",
    "import matplotlib.pyplot as plt\n",
    "import numpy as np\n",
    "import seaborn as sns\n",
    "import itertools\n",
    "from collections import defaultdict\n",
    "from tqdm import tqdm\n",
    "import pandas as pd\n",
    "import warnings\n",
    "import random\n",
    "\n",
    "# OP simulator configuration\n",
    "from voting_mechanism_design.legacy.op_simulator import Simulation as OPSimulation\n",
    "from voting_mechanism_design.legacy.op_simulator import Voter as OPVoter\n",
    "from voting_mechanism_design.legacy.op_simulator import Project as OPProject\n"
   ]
  },
  {
   "cell_type": "code",
   "execution_count": null,
   "id": "cdc35a3a-b651-45e4-a2ae-120c85215a01",
   "metadata": {},
   "outputs": [],
   "source": [
    "def single_sim_new(badgeholders,projects):\n",
    "    badgeholder_pop=QuorumBadgeholderPopulation()\n",
    "    project_population = ProjectPopulation()\n",
    "    fund_distribution_model = ThresholdAndAggregate()\n",
    "\n",
    "    badgeholder_pop.add_badgeholders(badgeholders)\n",
    "    project_population.add_projects(projects)\n",
    "    \n",
    "    simulation_obj = RoundSimulation(\n",
    "        badgeholder_population=badgeholder_pop,\n",
    "        projects=project_population,\n",
    "        funding_design=fund_distribution_model,\n",
    "    )\n",
    "    projects = project_population.get_projects()\n",
    "    simulation_obj.run(cast_votes_kwargs={'projects': projects})\n",
    "    return simulation_obj"
   ]
  }
 ],
 "metadata": {
  "kernelspec": {
   "display_name": "Python 3 (ipykernel)",
   "language": "python",
   "name": "python3"
  },
  "language_info": {
   "codemirror_mode": {
    "name": "ipython",
    "version": 3
   },
   "file_extension": ".py",
   "mimetype": "text/x-python",
   "name": "python",
   "nbconvert_exporter": "python",
   "pygments_lexer": "ipython3",
   "version": "3.11.7"
  }
 },
 "nbformat": 4,
 "nbformat_minor": 5
}

{
 "cells": [
  {
   "cell_type": "code",
   "execution_count": 27,
   "metadata": {},
   "outputs": [
    {
     "name": "stdout",
     "output_type": "stream",
     "text": [
      "The autoreload extension is already loaded. To reload it, use:\n",
      "  %reload_ext autoreload\n"
     ]
    }
   ],
   "source": [
    "%load_ext autoreload\n",
    "%autoreload 2     "
   ]
  },
  {
   "cell_type": "code",
   "execution_count": 28,
   "metadata": {},
   "outputs": [],
   "source": [
    "from voting_mechanism_design.agents.quorum_badgeholder import QuorumBadgeholder, QuorumBadgeholderPopulation\n",
    "from voting_mechanism_design.projects.project import Project, ProjectPopulation\n",
    "from voting_mechanism_design.funds_distribution.threshold_and_aggregate import ThresholdAndAggregate\n",
    "from voting_mechanism_design.sim import RoundSimulation\n",
    "\n",
    "import matplotlib.pyplot as plt\n",
    "import numpy as np\n",
    "import seaborn as sns\n",
    "import itertools\n",
    "from collections import defaultdict\n",
    "from tqdm import tqdm\n",
    "import pandas as pd\n",
    "import warnings\n",
    "import random\n",
    "\n",
    "# OP simulator configuration\n",
    "from voting_mechanism_design.legacy.op_simulator import Simulation as OPSimulation\n",
    "from voting_mechanism_design.legacy.op_simulator import Voter as OPVoter\n",
    "from voting_mechanism_design.legacy.op_simulator import Project as OPProject\n"
   ]
  },
  {
   "cell_type": "code",
   "execution_count": 29,
   "metadata": {},
   "outputs": [],
   "source": [
    "def create_badgeholders(\n",
    "    n_badgeholders,\n",
    "    total_funds,\n",
    "    min_vote,\n",
    "    max_vote,\n",
    "    badgeholder_expertise_vec,\n",
    "    badgeholder_laziness_vec,\n",
    "    expertise_model\n",
    "):\n",
    "    badgeholders_n = []\n",
    "    badgeholders_o = []\n",
    "    for ii in range(n_badgeholders):\n",
    "        agent = QuorumBadgeholder(\n",
    "            badgeholder_id=ii,\n",
    "            total_funds=total_funds,\n",
    "            min_vote=min_vote,  \n",
    "            max_vote=max_vote,\n",
    "            laziness=badgeholder_laziness_vec[ii],\n",
    "            expertise=badgeholder_expertise_vec[ii],\n",
    "            coi_factor=0,\n",
    "            expertise_model=\"carl\"\n",
    "        )\n",
    "        agent2 = OPVoter(\n",
    "            voter_id = ii,\n",
    "            op_available=total_funds, \n",
    "            laziness=badgeholder_laziness_vec[ii],\n",
    "            expertise=badgeholder_expertise_vec[ii],\n",
    "        )\n",
    "        badgeholders_n.append(agent)\n",
    "        badgeholders_o.append(agent2)        \n",
    "    return badgeholders_n,badgeholders_o\n",
    "\n",
    "def create_projects(n_projects,project_impact_vec):\n",
    "    projects_n = []\n",
    "    projects_o = []\n",
    "    for ii in range(n_projects):\n",
    "        project = Project(\n",
    "            project_id=ii,\n",
    "            true_impact=project_impact_vec[ii],  \n",
    "            owner_id=None,  \n",
    "        )\n",
    "        project2 = OPProject(\n",
    "            project_id=ii,\n",
    "            rating=project_impact_vec[ii],\n",
    "            owner_id=None,  # No COI modeling here\n",
    "        )\n",
    "        projects_n.append(project)\n",
    "        projects_o.append(project2)\n",
    "    return projects_n,projects_o\n",
    "\n",
    "def single_sim_old(badgeholders,projects,q,scoring_fn,total_funds,min_amount,n_projects):\n",
    "    simulation=OPSimulation()\n",
    "    simulation.initialize_round(max_funding=total_funds)\n",
    "    simulation.round.add_voters(badgeholders)\n",
    "    simulation.round.add_projects(projects)\n",
    "    results = simulation.simulate_voting_and_scoring(\n",
    "        n=total_funds,\n",
    "        scoring_method=scoring_fn,\n",
    "        quorum=q,\n",
    "        min_amount=min_amount,\n",
    "        normalize=False\n",
    "    )\n",
    "    return results\n",
    "\n",
    "def single_sim_new(badgeholders,projects):\n",
    "    badgeholder_pop=QuorumBadgeholderPopulation()\n",
    "    project_population = ProjectPopulation()\n",
    "    fund_distribution_model = ThresholdAndAggregate()\n",
    "\n",
    "    badgeholder_pop.add_badgeholders(badgeholders)\n",
    "    project_population.add_projects(projects)\n",
    "    \n",
    "    simulation_obj = RoundSimulation(\n",
    "        badgeholder_population=badgeholder_pop,\n",
    "        projects=project_population,\n",
    "        funding_design=fund_distribution_model,\n",
    "    )\n",
    "    projects = project_population.get_projects()\n",
    "    simulation_obj.run(cast_votes_kwargs={'projects': projects})\n",
    "    return simulation_obj\n",
    "\n",
    "\n",
    "def extract_old(results):\n",
    "    project_data = results['data']\n",
    "    project_funds_df = pd.DataFrame({\n",
    "        'Project Id': [project['project_id'] for project in project_data],\n",
    "        'Total Funds': [round(project['token_amount'] , 10) for project in project_data]\n",
    "    })\n",
    "    return project_funds_df\n",
    "\n",
    "def extract_new(results):\n",
    "    project_population = results.projects\n",
    "    project_vote_counts = defaultdict(int)\n",
    "    for project in project_population.get_projects():\n",
    "        for vote in project.votes:\n",
    "            project_vote_counts[project.project_id] += round(vote.amount if vote.amount is not None else 0, 10)\n",
    "    project_funds_df = pd.DataFrame({\n",
    "        'Project Id': list(project_vote_counts.keys()),\n",
    "        'Total Funds': list(project_vote_counts.values())\n",
    "    })\n",
    "    return project_funds_df\n",
    "\n",
    "\n",
    "def plot_comparison_histograms(old_results, new_results):\n",
    "    # Add framework labels\n",
    "    old['Framework'] = 'Old'\n",
    "    new['Framework'] = 'New'\n",
    "    \n",
    "    # Ensure both DataFrames have the same set of Project IDs\n",
    "    combined_project_ids = pd.Series(list(set(old['Project Id']).union(set(new['Project Id'])))).sort_values()\n",
    "\n",
    "    # Merge old and new DataFrames on Project Id to align them\n",
    "    merged_df = pd.merge(old, new, on='Project Id', how='outer', suffixes=('_Old', '_New')).fillna(0)\n",
    "\n",
    "    # Calculate the differences\n",
    "    merged_df['Total Funds_Difference'] = merged_df['Total Funds_Old'] - merged_df['Total Funds_New']\n",
    "\n",
    "    # Set the width of the bars\n",
    "    bar_width = 0.25\n",
    "\n",
    "    # Set the position of the bars on the x-axis\n",
    "    r1 = np.arange(len(merged_df))\n",
    "    r2 = [x + bar_width for x in r1]\n",
    "    r3 = [x + bar_width for x in r2]\n",
    "\n",
    "    # Create subplots\n",
    "    fig, axs = plt.subplots(3, 1, figsize=(14, 18))\n",
    "\n",
    "    # Plot old framework results\n",
    "    axs[0].bar(r1, merged_df['Total Funds_Old'], color='blue', width=bar_width, edgecolor='grey', label='Old Framework')\n",
    "    axs[0].set_xlabel('Project ID', fontweight='bold')\n",
    "    axs[0].set_ylabel('Total Funds')\n",
    "    axs[0].set_title('Total Funds Received by Each Project (Old Framework)')\n",
    "    axs[0].legend()\n",
    "    axs[0].set_xticks([r + bar_width for r in range(len(merged_df))])\n",
    "    axs[0].set_xticklabels(merged_df['Project Id'])\n",
    "\n",
    "    # Plot new framework results\n",
    "    axs[1].bar(r2, merged_df['Total Funds_New'], color='green', width=bar_width, edgecolor='grey', label='New Framework')\n",
    "    axs[1].set_xlabel('Project ID', fontweight='bold')\n",
    "    axs[1].set_ylabel('Total Funds')\n",
    "    axs[1].set_title('Total Funds Received by Each Project (New Framework)')\n",
    "    axs[1].legend()\n",
    "    axs[1].set_xticks([r + bar_width for r in range(len(merged_df))])\n",
    "    axs[1].set_xticklabels(merged_df['Project Id'])\n",
    "\n",
    "    # Plot the differences\n",
    "    axs[2].bar(r3, merged_df['Total Funds_Difference'], color='red', width=bar_width, edgecolor='grey', label='Difference (Old - New)')\n",
    "    axs[2].set_xlabel('Project ID', fontweight='bold')\n",
    "    axs[2].set_ylabel('Difference in Total Funds')\n",
    "    axs[2].set_title('Difference in Total Funds Received by Each Project (Old - New)')\n",
    "    axs[2].legend()\n",
    "    axs[2].set_xticks([r for r in range(len(merged_df))])\n",
    "    axs[2].set_xticklabels(merged_df['Project Id'])\n",
    "\n",
    "    # Adjust layout and show the plot\n",
    "    plt.tight_layout()\n",
    "    plt.show()\n",
    "    \n",
    "def sim_frameworks(\n",
    "    n_badgeholders=10,\n",
    "    total_funds=100,\n",
    "    min_vote=1,\n",
    "    max_vote=16,\n",
    "    n_projects=100,\n",
    "    q=0,\n",
    "    scoring_fn=['mean'],\n",
    "    badgeholder_expertise_vec=None,\n",
    "    badgeholder_laziness_vec=None,\n",
    "    project_impact_vec=None,\n",
    "    expertise_model=\"carl\"\n",
    "):\n",
    "    random.seed(42)\n",
    "    np.random.seed(42)\n",
    "    if badgeholder_expertise_vec.all()==None:\n",
    "        badgeholder_expertise_vec=np.ones(n_badgeholders)\n",
    "    if badgeholder_laziness_vec.all()==None:\n",
    "            badgeholder_laziness_vec=np.zeros(n_badgeholders)\n",
    "    if project_impact_vec.all()==None:\n",
    "        project_impact_vec=np.ones(n_projects)\n",
    "\n",
    "    badgeholders_n,badgeholders_o=create_badgeholders(\n",
    "        n_badgeholders,\n",
    "        total_funds,\n",
    "        min_vote,\n",
    "        max_vote,\n",
    "        badgeholder_expertise_vec,\n",
    "        badgeholder_laziness_vec,\n",
    "        expertise_model\n",
    "    )\n",
    "    projects_n,projects_o=create_projects(n_projects,project_impact_vec)\n",
    "    old_results=single_sim_old(badgeholders_o,projects_o,q,scoring_fn,total_funds,min_vote,n_projects)\n",
    "    new_results=single_sim_new(badgeholders_n,projects_n)\n",
    "    return old_results,new_results\n",
    "\n",
    "def compare_rankings(old, new, detail):\n",
    "    # Sort old and new DataFrames by Total Funds in descending order\n",
    "    old_sorted = old.sort_values(by='Total Funds', ascending=False).reset_index(drop=True)\n",
    "    new_sorted = new.sort_values(by='Total Funds', ascending=False).reset_index(drop=True)\n",
    "\n",
    "    # Extract the rankings based on Project Id\n",
    "    old_ranking = old_sorted['Project Id'].tolist()\n",
    "    new_ranking = new_sorted['Project Id'].tolist()\n",
    "\n",
    "    # Check if the rankings match\n",
    "    rankings_match = old_ranking == new_ranking\n",
    "\n",
    "    # Print the rankings\n",
    "    if detail==True:\n",
    "        print(\"Old Framework Ranking Project ID (Highest to Lowest):\", old_ranking)\n",
    "        print(\"New Framework Ranking Project ID (Highest to Lowest):\", new_ranking)\n",
    "\n",
    "    # Print whether the rankings match\n",
    "    if rankings_match:\n",
    "        print(\"The rankings match between the old and new frameworks.\")\n",
    "        return True\n",
    "    else:\n",
    "        print(\"The rankings do not match between the old and new frameworks.\")\n",
    "        \n",
    "        # Highlight mismatches\n",
    "        print(\"\\nDifferences in Rankings:\")\n",
    "        rank_changes = {}\n",
    "        for i, project_id in enumerate(old_ranking):\n",
    "            old_position = i + 1\n",
    "            new_position = new_ranking.index(project_id) + 1\n",
    "            if old_position != new_position:\n",
    "                #print(f\"Project ID {project_id}: Old Rank = {old_position}, New Rank = {new_position}\")\n",
    "                rank_changes[project_id] = new_position - old_position\n",
    "\n",
    "        # Count of changes\n",
    "        total_changes = len(rank_changes)\n",
    "        print(f\"\\nTotal number of projects with rank changes: {total_changes}\")\n",
    "\n",
    "        # Maximum rank change\n",
    "        if rank_changes:\n",
    "            max_change_project = max(rank_changes, key=lambda k: abs(rank_changes[k]))\n",
    "            max_change = rank_changes[max_change_project]\n",
    "            print(f\"\\nProject with the maximum rank change: Project ID {max_change_project}\")\n",
    "            print(f\"Maximum rank change: {max_change} positions (Old Rank = {old_ranking.index(max_change_project) + 1}, New Rank = {new_ranking.index(max_change_project) + 1})\")\n",
    "        return False\n",
    "    # Return the rankings for further use if needed\n",
    "    #return rankings_match"
   ]
  },
  {
   "cell_type": "code",
   "execution_count": 30,
   "metadata": {},
   "outputs": [],
   "source": [
    "#Variable Parameters\n",
    "n_badgeholders=10\n",
    "total_funds=100\n",
    "min_vote=1\n",
    "max_vote=16\n",
    "badgeholder_expertise_vec=np.ones(n_badgeholders)\n",
    "badgeholder_laziness_vec=np.zeros(n_badgeholders)\n",
    "n_projects=100\n",
    "project_impact_vec=np.ones(n_projects)\n",
    "q=0\n",
    "scoring_fn=['mean']"
   ]
  },
  {
   "cell_type": "code",
   "execution_count": 31,
   "metadata": {},
   "outputs": [
    {
     "data": {
      "image/png": "[encoded data removed]",
      "text/plain": [
       "<Figure size 1400x1800 with 3 Axes>"
      ]
     },
     "metadata": {},
     "output_type": "display_data"
    },
    {
     "name": "stdout",
     "output_type": "stream",
     "text": [
      "The rankings match between the old and new frameworks.\n"
     ]
    },
    {
     "data": {
      "text/plain": [
       "True"
      ]
     },
     "execution_count": 31,
     "metadata": {},
     "output_type": "execute_result"
    }
   ],
   "source": [
    "old_results,new_results=sim_frameworks(\n",
    "    n_badgeholders=n_badgeholders,\n",
    "    total_funds=total_funds,\n",
    "    min_vote=min_vote,\n",
    "    max_vote=max_vote,\n",
    "    badgeholder_expertise_vec=badgeholder_expertise_vec,\n",
    "    badgeholder_laziness_vec=badgeholder_laziness_vec,\n",
    "    n_projects=n_projects,\n",
    "    project_impact_vec=project_impact_vec,\n",
    "    q=q,\n",
    "    scoring_fn=scoring_fn,\n",
    "    expertise_model=\"carl\"\n",
    ")\n",
    "old=extract_old(old_results)\n",
    "new=extract_new(new_results)\n",
    "plot_comparison_histograms(old,new)\n",
    "compare_rankings(old, new, False)\n",
    "#print(old,new)"
   ]
  },
  {
   "cell_type": "code",
   "execution_count": 17,
   "metadata": {},
   "outputs": [
    {
     "name": "stdout",
     "output_type": "stream",
     "text": [
      "Votes for project ID 0: [5.5, 5.5, 5.5, 5.5, 5.5, 5.5, 5.5, 5.5, 5.5, 5.5]\n"
     ]
    }
   ],
   "source": [
    "#####testing\n",
    "def get_votes_for_project(project_population, target_project_id):\n",
    "    project = project_population.get_project(target_project_id)\n",
    "    if project is None:\n",
    "        raise ValueError(f\"Project with ID {target_project_id} does not exist.\")\n",
    "    vote_amounts = [vote.amount for vote in project.votes if vote.amount is not None]\n",
    "    return vote_amounts\n",
    "\n",
    "project_population = new_results.projects\n",
    "target_project_id = 0\n",
    "\n",
    "votes_for_project_0 = get_votes_for_project(project_population, target_project_id)\n",
    "print(f\"Votes for project ID {target_project_id}: {votes_for_project_0}\")\n",
    "\n",
    "\n",
    "\n",
    "#print(old_results)\n",
    "#print(\"hi\")\n",
    "#print(new_results)"
   ]
  },
  {
   "cell_type": "markdown",
   "metadata": {},
   "source": [
    "#test variable inputs"
   ]
  },
  {
   "cell_type": "code",
   "execution_count": 18,
   "metadata": {
    "scrolled": true
   },
   "outputs": [
    {
     "name": "stderr",
     "output_type": "stream",
     "text": [
      "  1%|▌                                                                                 | 2/324 [00:00<00:34,  9.35it/s]"
     ]
    },
    {
     "name": "stdout",
     "output_type": "stream",
     "text": [
      "The rankings match between the old and new frameworks.\n",
      "The rankings match between the old and new frameworks.\n",
      "The rankings match between the old and new frameworks.\n"
     ]
    },
    {
     "name": "stderr",
     "output_type": "stream",
     "text": [
      "  2%|█▎                                                                                | 5/324 [00:00<00:45,  7.04it/s]"
     ]
    },
    {
     "name": "stdout",
     "output_type": "stream",
     "text": [
      "The rankings match between the old and new frameworks.\n",
      "The rankings match between the old and new frameworks.\n"
     ]
    },
    {
     "name": "stderr",
     "output_type": "stream",
     "text": [
      "  2%|█▊                                                                                | 7/324 [00:00<00:40,  7.77it/s]"
     ]
    },
    {
     "name": "stdout",
     "output_type": "stream",
     "text": [
      "The rankings match between the old and new frameworks.\n",
      "The rankings match between the old and new frameworks.\n"
     ]
    },
    {
     "name": "stderr",
     "output_type": "stream",
     "text": [
      "  2%|██                                                                                | 8/324 [00:01<00:40,  7.78it/s]"
     ]
    },
    {
     "name": "stdout",
     "output_type": "stream",
     "text": [
      "The rankings match between the old and new frameworks.\n"
     ]
    },
    {
     "name": "stderr",
     "output_type": "stream",
     "text": [
      "  3%|██▌                                                                              | 10/324 [00:01<00:48,  6.44it/s]"
     ]
    },
    {
     "name": "stdout",
     "output_type": "stream",
     "text": [
      "The rankings match between the old and new frameworks.\n",
      "The rankings match between the old and new frameworks.\n"
     ]
    },
    {
     "name": "stderr",
     "output_type": "stream",
     "text": [
      "  4%|███                                                                              | 12/324 [00:01<00:42,  7.37it/s]"
     ]
    },
    {
     "name": "stdout",
     "output_type": "stream",
     "text": [
      "The rankings match between the old and new frameworks.\n",
      "The rankings match between the old and new frameworks.\n"
     ]
    },
    {
     "name": "stderr",
     "output_type": "stream",
     "text": [
      "  4%|███▎                                                                             | 13/324 [00:01<00:39,  7.80it/s]"
     ]
    },
    {
     "name": "stdout",
     "output_type": "stream",
     "text": [
      "The rankings match between the old and new frameworks.\n"
     ]
    },
    {
     "name": "stderr",
     "output_type": "stream",
     "text": [
      "  5%|████                                                                             | 16/324 [00:02<00:41,  7.38it/s]"
     ]
    },
    {
     "name": "stdout",
     "output_type": "stream",
     "text": [
      "The rankings match between the old and new frameworks.\n",
      "The rankings match between the old and new frameworks.\n",
      "The rankings match between the old and new frameworks.\n"
     ]
    },
    {
     "name": "stderr",
     "output_type": "stream",
     "text": [
      "  6%|████▌                                                                            | 18/324 [00:02<00:39,  7.81it/s]"
     ]
    },
    {
     "name": "stdout",
     "output_type": "stream",
     "text": [
      "The rankings match between the old and new frameworks.\n",
      "The rankings match between the old and new frameworks.\n"
     ]
    },
    {
     "name": "stderr",
     "output_type": "stream",
     "text": [
      "  6%|█████▎                                                                           | 21/324 [00:02<00:34,  8.66it/s]"
     ]
    },
    {
     "name": "stdout",
     "output_type": "stream",
     "text": [
      "The rankings match between the old and new frameworks.\n",
      "The rankings match between the old and new frameworks.\n",
      "The rankings match between the old and new frameworks.\n"
     ]
    },
    {
     "name": "stderr",
     "output_type": "stream",
     "text": [
      "  7%|█████▊                                                                           | 23/324 [00:02<00:33,  9.05it/s]"
     ]
    },
    {
     "name": "stdout",
     "output_type": "stream",
     "text": [
      "The rankings match between the old and new frameworks.\n",
      "The rankings match between the old and new frameworks.\n",
      "The rankings match between the old and new frameworks.\n"
     ]
    },
    {
     "name": "stderr",
     "output_type": "stream",
     "text": [
      "  8%|██████▌                                                                          | 26/324 [00:03<00:31,  9.41it/s]"
     ]
    },
    {
     "name": "stdout",
     "output_type": "stream",
     "text": [
      "The rankings match between the old and new frameworks.\n",
      "The rankings match between the old and new frameworks.\n"
     ]
    },
    {
     "name": "stderr",
     "output_type": "stream",
     "text": [
      "  8%|██████▊                                                                          | 27/324 [00:03<00:38,  7.73it/s]"
     ]
    },
    {
     "name": "stdout",
     "output_type": "stream",
     "text": [
      "The rankings match between the old and new frameworks.\n"
     ]
    },
    {
     "name": "stderr",
     "output_type": "stream",
     "text": [
      "  9%|███████                                                                          | 28/324 [00:04<01:50,  2.68it/s]"
     ]
    },
    {
     "name": "stdout",
     "output_type": "stream",
     "text": [
      "The rankings match between the old and new frameworks.\n"
     ]
    },
    {
     "name": "stderr",
     "output_type": "stream",
     "text": [
      "  9%|███████▎                                                                         | 29/324 [00:05<02:58,  1.65it/s]"
     ]
    },
    {
     "name": "stdout",
     "output_type": "stream",
     "text": [
      "The rankings match between the old and new frameworks.\n"
     ]
    },
    {
     "name": "stderr",
     "output_type": "stream",
     "text": [
      "  9%|███████▌                                                                         | 30/324 [00:07<03:48,  1.29it/s]"
     ]
    },
    {
     "name": "stdout",
     "output_type": "stream",
     "text": [
      "The rankings match between the old and new frameworks.\n"
     ]
    },
    {
     "name": "stderr",
     "output_type": "stream",
     "text": [
      " 10%|███████▊                                                                         | 31/324 [00:08<04:14,  1.15it/s]"
     ]
    },
    {
     "name": "stdout",
     "output_type": "stream",
     "text": [
      "The rankings match between the old and new frameworks.\n"
     ]
    },
    {
     "name": "stderr",
     "output_type": "stream",
     "text": [
      " 10%|████████                                                                         | 32/324 [00:09<04:42,  1.03it/s]"
     ]
    },
    {
     "name": "stdout",
     "output_type": "stream",
     "text": [
      "The rankings match between the old and new frameworks.\n"
     ]
    },
    {
     "name": "stderr",
     "output_type": "stream",
     "text": [
      " 10%|████████▎                                                                        | 33/324 [00:10<04:57,  1.02s/it]"
     ]
    },
    {
     "name": "stdout",
     "output_type": "stream",
     "text": [
      "The rankings match between the old and new frameworks.\n"
     ]
    },
    {
     "name": "stderr",
     "output_type": "stream",
     "text": [
      " 10%|████████▌                                                                        | 34/324 [00:11<05:23,  1.12s/it]"
     ]
    },
    {
     "name": "stdout",
     "output_type": "stream",
     "text": [
      "The rankings match between the old and new frameworks.\n"
     ]
    },
    {
     "name": "stderr",
     "output_type": "stream",
     "text": [
      " 11%|████████▊                                                                        | 35/324 [00:13<05:34,  1.16s/it]"
     ]
    },
    {
     "name": "stdout",
     "output_type": "stream",
     "text": [
      "The rankings match between the old and new frameworks.\n"
     ]
    },
    {
     "name": "stderr",
     "output_type": "stream",
     "text": [
      " 11%|█████████                                                                        | 36/324 [00:14<05:31,  1.15s/it]"
     ]
    },
    {
     "name": "stdout",
     "output_type": "stream",
     "text": [
      "The rankings match between the old and new frameworks.\n"
     ]
    },
    {
     "name": "stderr",
     "output_type": "stream",
     "text": [
      " 11%|█████████▎                                                                       | 37/324 [00:15<05:28,  1.14s/it]"
     ]
    },
    {
     "name": "stdout",
     "output_type": "stream",
     "text": [
      "The rankings match between the old and new frameworks.\n"
     ]
    },
    {
     "name": "stderr",
     "output_type": "stream",
     "text": [
      " 12%|█████████▌                                                                       | 38/324 [00:16<05:40,  1.19s/it]"
     ]
    },
    {
     "name": "stdout",
     "output_type": "stream",
     "text": [
      "The rankings match between the old and new frameworks.\n"
     ]
    },
    {
     "name": "stderr",
     "output_type": "stream",
     "text": [
      " 12%|█████████▊                                                                       | 39/324 [00:17<05:36,  1.18s/it]"
     ]
    },
    {
     "name": "stdout",
     "output_type": "stream",
     "text": [
      "The rankings match between the old and new frameworks.\n"
     ]
    },
    {
     "name": "stderr",
     "output_type": "stream",
     "text": [
      " 12%|█████████▊                                                                       | 39/324 [00:18<02:13,  2.14it/s]\n"
     ]
    },
    {
     "ename": "KeyboardInterrupt",
     "evalue": "",
     "output_type": "error",
     "traceback": [
      "\u001b[1;31m---------------------------------------------------------------------------\u001b[0m",
      "\u001b[1;31mKeyboardInterrupt\u001b[0m                         Traceback (most recent call last)",
      "Cell \u001b[1;32mIn[18], line 14\u001b[0m\n\u001b[0;32m     11\u001b[0m \u001b[38;5;28;01mfor\u001b[39;00m experiment_cfg \u001b[38;5;129;01min\u001b[39;00m tqdm(experiment_cfgs):\n\u001b[0;32m     12\u001b[0m     n_badgeholders, total_funds, badgeholder_expertise_val, badgeholder_laziness_val, project_impact_val \u001b[38;5;241m=\u001b[39m experiment_cfg\n\u001b[1;32m---> 14\u001b[0m     old,new\u001b[38;5;241m=\u001b[39m\u001b[43msim_frameworks\u001b[49m\u001b[43m(\u001b[49m\n\u001b[0;32m     15\u001b[0m \u001b[43m        \u001b[49m\u001b[43mn_badgeholders\u001b[49m\u001b[38;5;241;43m=\u001b[39;49m\u001b[43mn_badgeholders\u001b[49m\u001b[43m,\u001b[49m\n\u001b[0;32m     16\u001b[0m \u001b[43m        \u001b[49m\u001b[43mtotal_funds\u001b[49m\u001b[38;5;241;43m=\u001b[39;49m\u001b[43mtotal_funds\u001b[49m\u001b[43m,\u001b[49m\n\u001b[0;32m     17\u001b[0m \u001b[43m        \u001b[49m\u001b[43mmin_vote\u001b[49m\u001b[38;5;241;43m=\u001b[39;49m\u001b[43mmin_vote\u001b[49m\u001b[43m,\u001b[49m\n\u001b[0;32m     18\u001b[0m \u001b[43m        \u001b[49m\u001b[43mmax_vote\u001b[49m\u001b[38;5;241;43m=\u001b[39;49m\u001b[43mmax_vote\u001b[49m\u001b[43m,\u001b[49m\n\u001b[0;32m     19\u001b[0m \u001b[43m        \u001b[49m\u001b[43mbadgeholder_expertise_vec\u001b[49m\u001b[38;5;241;43m=\u001b[39;49m\u001b[43mbadgeholder_expertise_vec\u001b[49m\u001b[43m,\u001b[49m\n\u001b[0;32m     20\u001b[0m \u001b[43m        \u001b[49m\u001b[43mbadgeholder_laziness_vec\u001b[49m\u001b[38;5;241;43m=\u001b[39;49m\u001b[43mbadgeholder_laziness_vec\u001b[49m\u001b[43m,\u001b[49m\n\u001b[0;32m     21\u001b[0m \u001b[43m        \u001b[49m\u001b[43mn_projects\u001b[49m\u001b[38;5;241;43m=\u001b[39;49m\u001b[43mn_projects\u001b[49m\u001b[43m,\u001b[49m\n\u001b[0;32m     22\u001b[0m \u001b[43m        \u001b[49m\u001b[43mproject_impact_vec\u001b[49m\u001b[38;5;241;43m=\u001b[39;49m\u001b[43mproject_impact_vec\u001b[49m\u001b[43m,\u001b[49m\n\u001b[0;32m     23\u001b[0m \u001b[43m        \u001b[49m\u001b[43mq\u001b[49m\u001b[38;5;241;43m=\u001b[39;49m\u001b[43mq\u001b[49m\u001b[43m,\u001b[49m\n\u001b[0;32m     24\u001b[0m \u001b[43m        \u001b[49m\u001b[43mscoring_fn\u001b[49m\u001b[38;5;241;43m=\u001b[39;49m\u001b[43mscoring_fn\u001b[49m\u001b[43m,\u001b[49m\n\u001b[0;32m     25\u001b[0m \u001b[43m    \u001b[49m\u001b[43mexpertise_model\u001b[49m\u001b[38;5;241;43m=\u001b[39;49m\u001b[38;5;124;43m\"\u001b[39;49m\u001b[38;5;124;43mcarl\u001b[39;49m\u001b[38;5;124;43m\"\u001b[39;49m\n\u001b[0;32m     26\u001b[0m \u001b[43m    \u001b[49m\u001b[43m)\u001b[49m\n\u001b[0;32m     27\u001b[0m     old\u001b[38;5;241m=\u001b[39mextract_old(old_results)\n\u001b[0;32m     28\u001b[0m     new\u001b[38;5;241m=\u001b[39mextract_new(new_results)\n",
      "Cell \u001b[1;32mIn[14], line 192\u001b[0m, in \u001b[0;36msim_frameworks\u001b[1;34m(n_badgeholders, total_funds, min_vote, max_vote, n_projects, q, scoring_fn, badgeholder_expertise_vec, badgeholder_laziness_vec, project_impact_vec, expertise_model)\u001b[0m\n\u001b[0;32m    182\u001b[0m badgeholders_n,badgeholders_o\u001b[38;5;241m=\u001b[39mcreate_badgeholders(\n\u001b[0;32m    183\u001b[0m     n_badgeholders,\n\u001b[0;32m    184\u001b[0m     total_funds,\n\u001b[1;32m   (...)\u001b[0m\n\u001b[0;32m    189\u001b[0m     expertise_model\n\u001b[0;32m    190\u001b[0m )\n\u001b[0;32m    191\u001b[0m projects_n,projects_o\u001b[38;5;241m=\u001b[39mcreate_projects(n_projects,project_impact_vec)\n\u001b[1;32m--> 192\u001b[0m old_results\u001b[38;5;241m=\u001b[39m\u001b[43msingle_sim_old\u001b[49m\u001b[43m(\u001b[49m\u001b[43mbadgeholders_o\u001b[49m\u001b[43m,\u001b[49m\u001b[43mprojects_o\u001b[49m\u001b[43m,\u001b[49m\u001b[43mq\u001b[49m\u001b[43m,\u001b[49m\u001b[43mscoring_fn\u001b[49m\u001b[43m,\u001b[49m\u001b[43mtotal_funds\u001b[49m\u001b[43m,\u001b[49m\u001b[43mmin_vote\u001b[49m\u001b[43m,\u001b[49m\u001b[43mn_projects\u001b[49m\u001b[43m)\u001b[49m\n\u001b[0;32m    193\u001b[0m new_results\u001b[38;5;241m=\u001b[39msingle_sim_new(badgeholders_n,projects_n)\n\u001b[0;32m    194\u001b[0m \u001b[38;5;28;01mreturn\u001b[39;00m old_results,new_results\n",
      "Cell \u001b[1;32mIn[14], line 56\u001b[0m, in \u001b[0;36msingle_sim_old\u001b[1;34m(badgeholders, projects, q, scoring_fn, total_funds, min_amount, n_projects)\u001b[0m\n\u001b[0;32m     54\u001b[0m simulation\u001b[38;5;241m.\u001b[39mround\u001b[38;5;241m.\u001b[39madd_voters(badgeholders)\n\u001b[0;32m     55\u001b[0m simulation\u001b[38;5;241m.\u001b[39mround\u001b[38;5;241m.\u001b[39madd_projects(projects)\n\u001b[1;32m---> 56\u001b[0m results \u001b[38;5;241m=\u001b[39m \u001b[43msimulation\u001b[49m\u001b[38;5;241;43m.\u001b[39;49m\u001b[43msimulate_voting_and_scoring\u001b[49m\u001b[43m(\u001b[49m\n\u001b[0;32m     57\u001b[0m \u001b[43m    \u001b[49m\u001b[43mn\u001b[49m\u001b[38;5;241;43m=\u001b[39;49m\u001b[43mtotal_funds\u001b[49m\u001b[43m,\u001b[49m\n\u001b[0;32m     58\u001b[0m \u001b[43m    \u001b[49m\u001b[43mscoring_method\u001b[49m\u001b[38;5;241;43m=\u001b[39;49m\u001b[43mscoring_fn\u001b[49m\u001b[43m,\u001b[49m\n\u001b[0;32m     59\u001b[0m \u001b[43m    \u001b[49m\u001b[43mquorum\u001b[49m\u001b[38;5;241;43m=\u001b[39;49m\u001b[43mq\u001b[49m\u001b[43m,\u001b[49m\n\u001b[0;32m     60\u001b[0m \u001b[43m    \u001b[49m\u001b[43mmin_amount\u001b[49m\u001b[38;5;241;43m=\u001b[39;49m\u001b[43mmin_amount\u001b[49m\u001b[43m,\u001b[49m\n\u001b[0;32m     61\u001b[0m \u001b[43m    \u001b[49m\u001b[43mnormalize\u001b[49m\u001b[38;5;241;43m=\u001b[39;49m\u001b[38;5;28;43;01mFalse\u001b[39;49;00m\n\u001b[0;32m     62\u001b[0m \u001b[43m\u001b[49m\u001b[43m)\u001b[49m\n\u001b[0;32m     63\u001b[0m \u001b[38;5;28;01mreturn\u001b[39;00m results\n",
      "File \u001b[1;32mc:\\users\\martingale guest\\documents\\github\\voting_mechanism_design\\voting_mechanism_design\\legacy\\op_simulator.py:284\u001b[0m, in \u001b[0;36mSimulation.simulate_voting_and_scoring\u001b[1;34m(self, n, scoring_method, quorum, min_amount, normalize)\u001b[0m\n\u001b[0;32m    282\u001b[0m results \u001b[38;5;241m=\u001b[39m []\n\u001b[0;32m    283\u001b[0m \u001b[38;5;28;01mfor\u001b[39;00m i \u001b[38;5;129;01min\u001b[39;00m \u001b[38;5;28mrange\u001b[39m(n):            \n\u001b[1;32m--> 284\u001b[0m     \u001b[38;5;28;43mself\u001b[39;49m\u001b[38;5;241;43m.\u001b[39;49m\u001b[43msimulate_voting\u001b[49m\u001b[43m(\u001b[49m\u001b[43m)\u001b[49m            \n\u001b[0;32m    285\u001b[0m     allocations \u001b[38;5;241m=\u001b[39m \u001b[38;5;28mself\u001b[39m\u001b[38;5;241m.\u001b[39mround\u001b[38;5;241m.\u001b[39mcalculate_allocations(scoring_method, quorum, min_amount, normalize)\n\u001b[0;32m    286\u001b[0m     payouts \u001b[38;5;241m=\u001b[39m [a \u001b[38;5;28;01mfor\u001b[39;00m a \u001b[38;5;129;01min\u001b[39;00m allocations \u001b[38;5;28;01mif\u001b[39;00m a \u001b[38;5;241m>\u001b[39m \u001b[38;5;241m0\u001b[39m]\n",
      "File \u001b[1;32mc:\\users\\martingale guest\\documents\\github\\voting_mechanism_design\\voting_mechanism_design\\legacy\\op_simulator.py:237\u001b[0m, in \u001b[0;36mSimulation.simulate_voting\u001b[1;34m(self)\u001b[0m\n\u001b[0;32m    234\u001b[0m ballot_size \u001b[38;5;241m=\u001b[39m \u001b[38;5;28mint\u001b[39m((\u001b[38;5;241m1\u001b[39m \u001b[38;5;241m-\u001b[39m voter\u001b[38;5;241m.\u001b[39mlaziness_factor) \u001b[38;5;241m*\u001b[39m num_projects)\n\u001b[0;32m    236\u001b[0m \u001b[38;5;66;03m# Create an array for subjectivity scores and personal ratings\u001b[39;00m\n\u001b[1;32m--> 237\u001b[0m subjectivity_scores \u001b[38;5;241m=\u001b[39m \u001b[43mnp\u001b[49m\u001b[38;5;241;43m.\u001b[39;49m\u001b[43mrandom\u001b[49m\u001b[38;5;241;43m.\u001b[39;49m\u001b[43muniform\u001b[49m\u001b[43m(\u001b[49m\u001b[43mvoter\u001b[49m\u001b[38;5;241;43m.\u001b[39;49m\u001b[43mexpertise_factor\u001b[49m\u001b[43m,\u001b[49m\u001b[43m \u001b[49m\u001b[38;5;241;43m2\u001b[39;49m\u001b[43m \u001b[49m\u001b[38;5;241;43m-\u001b[39;49m\u001b[43m \u001b[49m\u001b[43mvoter\u001b[49m\u001b[38;5;241;43m.\u001b[39;49m\u001b[43mexpertise_factor\u001b[49m\u001b[43m,\u001b[49m\u001b[43m \u001b[49m\u001b[43mnum_projects\u001b[49m\u001b[43m)\u001b[49m\n\u001b[0;32m    238\u001b[0m personal_ratings \u001b[38;5;241m=\u001b[39m np\u001b[38;5;241m.\u001b[39marray([project\u001b[38;5;241m.\u001b[39mrating \u001b[38;5;28;01mfor\u001b[39;00m project \u001b[38;5;129;01min\u001b[39;00m \u001b[38;5;28mself\u001b[39m\u001b[38;5;241m.\u001b[39mround\u001b[38;5;241m.\u001b[39mprojects]) \u001b[38;5;241m*\u001b[39m subjectivity_scores\n\u001b[0;32m    239\u001b[0m personal_ratings \u001b[38;5;241m=\u001b[39m np\u001b[38;5;241m.\u001b[39marray([project\u001b[38;5;241m.\u001b[39mrating \u001b[38;5;28;01mfor\u001b[39;00m project \u001b[38;5;129;01min\u001b[39;00m \u001b[38;5;28mself\u001b[39m\u001b[38;5;241m.\u001b[39mround\u001b[38;5;241m.\u001b[39mprojects])\n",
      "\u001b[1;31mKeyboardInterrupt\u001b[0m: "
     ]
    }
   ],
   "source": [
    "np.random.seed(42)\n",
    "\n",
    "n_badgeholders_stress_test=(10,50,100,200)\n",
    "total_funds_stress_test=(10,100,500)\n",
    "badgeholder_expertise_vec_stress_test=[np.random.rand(n_badgeholders) for i in range(3)]\n",
    "badgeholder_laziness_vec_stress_test=[np.random.rand(n_badgeholders) for i in range(3)]\n",
    "project_impact_vec_stress_test=[np.random.rand(n_badgeholders) for i in range(3)]\n",
    "\n",
    "experiment_cfgs = list(itertools.product(n_badgeholders_stress_test, total_funds_stress_test, badgeholder_expertise_vec_stress_test, badgeholder_laziness_vec_stress_test, project_impact_vec_stress_test))\n",
    "\n",
    "for experiment_cfg in tqdm(experiment_cfgs):\n",
    "    n_badgeholders, total_funds, badgeholder_expertise_val, badgeholder_laziness_val, project_impact_val = experiment_cfg\n",
    "    \n",
    "    old,new=sim_frameworks(\n",
    "        n_badgeholders=n_badgeholders,\n",
    "        total_funds=total_funds,\n",
    "        min_vote=min_vote,\n",
    "        max_vote=max_vote,\n",
    "        badgeholder_expertise_vec=badgeholder_expertise_vec,\n",
    "        badgeholder_laziness_vec=badgeholder_laziness_vec,\n",
    "        n_projects=n_projects,\n",
    "        project_impact_vec=project_impact_vec,\n",
    "        q=q,\n",
    "        scoring_fn=scoring_fn,\n",
    "    expertise_model=\"carl\"\n",
    "    )\n",
    "    old=extract_old(old_results)\n",
    "    new=extract_new(new_results)\n",
    "    rankings_match=compare_rankings(old, new, False)\n",
    "    if rankings_match==False:\n",
    "        print(f\"n_badgeholders,total_funds,badgeholder_expertise_vec,badgeholder_laziness_vec,project_impact_vec\")"
   ]
  },
  {
   "cell_type": "code",
   "execution_count": 19,
   "metadata": {},
   "outputs": [
    {
     "name": "stderr",
     "output_type": "stream",
     "text": [
      "  0%|▏                                                                                 | 2/768 [00:00<01:18,  9.75it/s]"
     ]
    },
    {
     "name": "stdout",
     "output_type": "stream",
     "text": [
      "The rankings match between the old and new frameworks.\n",
      "The rankings match between the old and new frameworks.\n"
     ]
    },
    {
     "name": "stderr",
     "output_type": "stream",
     "text": [
      "  1%|▍                                                                                 | 4/768 [00:00<01:27,  8.69it/s]"
     ]
    },
    {
     "name": "stdout",
     "output_type": "stream",
     "text": [
      "The rankings match between the old and new frameworks.\n",
      "The rankings match between the old and new frameworks.\n"
     ]
    },
    {
     "name": "stderr",
     "output_type": "stream",
     "text": [
      "  1%|▋                                                                                 | 6/768 [00:00<01:23,  9.09it/s]"
     ]
    },
    {
     "name": "stdout",
     "output_type": "stream",
     "text": [
      "The rankings match between the old and new frameworks.\n",
      "The rankings match between the old and new frameworks.\n"
     ]
    },
    {
     "name": "stderr",
     "output_type": "stream",
     "text": [
      "  1%|▊                                                                                 | 8/768 [00:00<01:18,  9.69it/s]"
     ]
    },
    {
     "name": "stdout",
     "output_type": "stream",
     "text": [
      "The rankings match between the old and new frameworks.\n",
      "The rankings match between the old and new frameworks.\n",
      "The rankings match between the old and new frameworks.\n"
     ]
    },
    {
     "name": "stderr",
     "output_type": "stream",
     "text": [
      "  1%|█                                                                                | 10/768 [00:01<01:14, 10.17it/s]"
     ]
    },
    {
     "name": "stdout",
     "output_type": "stream",
     "text": [
      "The rankings match between the old and new frameworks.\n"
     ]
    },
    {
     "name": "stderr",
     "output_type": "stream",
     "text": [
      "  2%|█▎                                                                               | 12/768 [00:01<03:01,  4.18it/s]"
     ]
    },
    {
     "name": "stdout",
     "output_type": "stream",
     "text": [
      "The rankings match between the old and new frameworks.\n",
      "The rankings match between the old and new frameworks.\n",
      "The rankings match between the old and new frameworks.\n"
     ]
    },
    {
     "name": "stderr",
     "output_type": "stream",
     "text": [
      "C:\\Users\\Martingale Guest\\anaconda3\\envs\\quorum-voting-env\\lib\\site-packages\\numpy\\core\\fromnumeric.py:3464: RuntimeWarning: Mean of empty slice.\n",
      "  return _methods._mean(a, axis=axis, dtype=dtype,\n",
      "C:\\Users\\Martingale Guest\\anaconda3\\envs\\quorum-voting-env\\lib\\site-packages\\numpy\\core\\_methods.py:192: RuntimeWarning: invalid value encountered in scalar divide\n",
      "  ret = ret.dtype.type(ret / rcount)\n",
      "  2%|█▋                                                                               | 16/768 [00:02<01:49,  6.87it/s]"
     ]
    },
    {
     "name": "stdout",
     "output_type": "stream",
     "text": [
      "The rankings match between the old and new frameworks.\n",
      "The rankings match between the old and new frameworks.\n",
      "The rankings match between the old and new frameworks.\n"
     ]
    },
    {
     "name": "stderr",
     "output_type": "stream",
     "text": [
      "  2%|█▉                                                                               | 18/768 [00:02<01:39,  7.51it/s]"
     ]
    },
    {
     "name": "stdout",
     "output_type": "stream",
     "text": [
      "The rankings match between the old and new frameworks.\n",
      "The rankings match between the old and new frameworks.\n"
     ]
    },
    {
     "name": "stderr",
     "output_type": "stream",
     "text": [
      "  3%|██                                                                               | 20/768 [00:02<01:36,  7.72it/s]"
     ]
    },
    {
     "name": "stdout",
     "output_type": "stream",
     "text": [
      "The rankings match between the old and new frameworks.\n",
      "The rankings match between the old and new frameworks.\n"
     ]
    },
    {
     "name": "stderr",
     "output_type": "stream",
     "text": [
      "  3%|██▏                                                                              | 21/768 [00:02<01:51,  6.73it/s]"
     ]
    },
    {
     "name": "stdout",
     "output_type": "stream",
     "text": [
      "The rankings match between the old and new frameworks.\n",
      "The rankings match between the old and new frameworks.\n",
      "The rankings match between the old and new frameworks.\n"
     ]
    },
    {
     "name": "stderr",
     "output_type": "stream",
     "text": [
      "  3%|██▋                                                                              | 26/768 [00:03<01:21,  9.06it/s]"
     ]
    },
    {
     "name": "stdout",
     "output_type": "stream",
     "text": [
      "The rankings match between the old and new frameworks.\n",
      "The rankings match between the old and new frameworks.\n",
      "The rankings match between the old and new frameworks.\n"
     ]
    },
    {
     "name": "stderr",
     "output_type": "stream",
     "text": [
      "  4%|██▉                                                                              | 28/768 [00:03<01:15,  9.77it/s]"
     ]
    },
    {
     "name": "stdout",
     "output_type": "stream",
     "text": [
      "The rankings match between the old and new frameworks.\n",
      "The rankings match between the old and new frameworks.\n",
      "The rankings match between the old and new frameworks.\n"
     ]
    },
    {
     "name": "stderr",
     "output_type": "stream",
     "text": [
      "  4%|███▍                                                                             | 32/768 [00:03<01:02, 11.80it/s]"
     ]
    },
    {
     "name": "stdout",
     "output_type": "stream",
     "text": [
      "The rankings match between the old and new frameworks.\n",
      "The rankings match between the old and new frameworks.\n",
      "The rankings match between the old and new frameworks.\n"
     ]
    },
    {
     "name": "stderr",
     "output_type": "stream",
     "text": [
      "  4%|███▌                                                                             | 34/768 [00:04<01:15,  9.67it/s]"
     ]
    },
    {
     "name": "stdout",
     "output_type": "stream",
     "text": [
      "The rankings match between the old and new frameworks.\n",
      "The rankings match between the old and new frameworks.\n"
     ]
    },
    {
     "name": "stderr",
     "output_type": "stream",
     "text": [
      "  5%|███▊                                                                             | 36/768 [00:04<01:17,  9.45it/s]"
     ]
    },
    {
     "name": "stdout",
     "output_type": "stream",
     "text": [
      "The rankings match between the old and new frameworks.\n",
      "The rankings match between the old and new frameworks.\n"
     ]
    },
    {
     "name": "stderr",
     "output_type": "stream",
     "text": [
      "  5%|████                                                                             | 38/768 [00:04<01:16,  9.53it/s]"
     ]
    },
    {
     "name": "stdout",
     "output_type": "stream",
     "text": [
      "The rankings match between the old and new frameworks.\n",
      "The rankings match between the old and new frameworks.\n",
      "The rankings match between the old and new frameworks.\n"
     ]
    },
    {
     "name": "stderr",
     "output_type": "stream",
     "text": [
      "  5%|████▏                                                                            | 40/768 [00:04<01:14,  9.82it/s]"
     ]
    },
    {
     "name": "stdout",
     "output_type": "stream",
     "text": [
      "The rankings match between the old and new frameworks.\n",
      "The rankings match between the old and new frameworks.\n"
     ]
    },
    {
     "name": "stderr",
     "output_type": "stream",
     "text": [
      "  5%|████▍                                                                            | 42/768 [00:05<01:22,  8.78it/s]"
     ]
    },
    {
     "name": "stdout",
     "output_type": "stream",
     "text": [
      "The rankings match between the old and new frameworks.\n",
      "The rankings match between the old and new frameworks.\n"
     ]
    },
    {
     "name": "stderr",
     "output_type": "stream",
     "text": [
      "  6%|████▊                                                                            | 46/768 [00:05<01:20,  8.97it/s]"
     ]
    },
    {
     "name": "stdout",
     "output_type": "stream",
     "text": [
      "The rankings match between the old and new frameworks.\n",
      "The rankings match between the old and new frameworks.\n",
      "The rankings match between the old and new frameworks.\n"
     ]
    },
    {
     "name": "stderr",
     "output_type": "stream",
     "text": [
      "  6%|█████                                                                            | 48/768 [00:05<01:20,  8.99it/s]"
     ]
    },
    {
     "name": "stdout",
     "output_type": "stream",
     "text": [
      "The rankings match between the old and new frameworks.\n",
      "The rankings match between the old and new frameworks.\n"
     ]
    },
    {
     "name": "stderr",
     "output_type": "stream",
     "text": [
      "  7%|█████▎                                                                           | 50/768 [00:06<01:23,  8.64it/s]"
     ]
    },
    {
     "name": "stdout",
     "output_type": "stream",
     "text": [
      "The rankings match between the old and new frameworks.\n",
      "The rankings match between the old and new frameworks.\n"
     ]
    },
    {
     "name": "stderr",
     "output_type": "stream",
     "text": [
      "  7%|█████▍                                                                           | 52/768 [00:06<01:27,  8.23it/s]"
     ]
    },
    {
     "name": "stdout",
     "output_type": "stream",
     "text": [
      "The rankings match between the old and new frameworks.\n",
      "The rankings match between the old and new frameworks.\n"
     ]
    },
    {
     "name": "stderr",
     "output_type": "stream",
     "text": [
      "  7%|█████▋                                                                           | 54/768 [00:06<01:23,  8.56it/s]"
     ]
    },
    {
     "name": "stdout",
     "output_type": "stream",
     "text": [
      "The rankings match between the old and new frameworks.\n",
      "The rankings match between the old and new frameworks.\n",
      "The rankings match between the old and new frameworks.\n"
     ]
    },
    {
     "name": "stderr",
     "output_type": "stream",
     "text": [
      "  7%|█████▊                                                                           | 55/768 [00:06<01:21,  8.71it/s]"
     ]
    },
    {
     "name": "stdout",
     "output_type": "stream",
     "text": [
      "The rankings match between the old and new frameworks.\n"
     ]
    },
    {
     "name": "stderr",
     "output_type": "stream",
     "text": [
      "  8%|██████                                                                           | 58/768 [00:07<01:33,  7.60it/s]"
     ]
    },
    {
     "name": "stdout",
     "output_type": "stream",
     "text": [
      "The rankings match between the old and new frameworks.\n",
      "The rankings match between the old and new frameworks.\n",
      "The rankings match between the old and new frameworks.\n"
     ]
    },
    {
     "name": "stderr",
     "output_type": "stream",
     "text": [
      "  8%|██████▋                                                                          | 63/768 [00:07<01:05, 10.79it/s]"
     ]
    },
    {
     "name": "stdout",
     "output_type": "stream",
     "text": [
      "The rankings match between the old and new frameworks.\n",
      "The rankings match between the old and new frameworks.\n",
      "The rankings match between the old and new frameworks.\n",
      "The rankings match between the old and new frameworks.\n",
      "The rankings match between the old and new frameworks.\n"
     ]
    },
    {
     "name": "stderr",
     "output_type": "stream",
     "text": [
      "  8%|██████▊                                                                          | 65/768 [00:08<03:31,  3.32it/s]"
     ]
    },
    {
     "name": "stdout",
     "output_type": "stream",
     "text": [
      "The rankings match between the old and new frameworks.\n"
     ]
    },
    {
     "name": "stderr",
     "output_type": "stream",
     "text": [
      "  9%|██████▉                                                                          | 66/768 [00:10<05:52,  1.99it/s]"
     ]
    },
    {
     "name": "stdout",
     "output_type": "stream",
     "text": [
      "The rankings match between the old and new frameworks.\n"
     ]
    },
    {
     "name": "stderr",
     "output_type": "stream",
     "text": [
      "  9%|███████                                                                          | 67/768 [00:11<07:38,  1.53it/s]"
     ]
    },
    {
     "name": "stdout",
     "output_type": "stream",
     "text": [
      "The rankings match between the old and new frameworks.\n"
     ]
    },
    {
     "name": "stderr",
     "output_type": "stream",
     "text": [
      "  9%|███████                                                                          | 67/768 [00:11<02:05,  5.59it/s]\n"
     ]
    },
    {
     "ename": "KeyboardInterrupt",
     "evalue": "",
     "output_type": "error",
     "traceback": [
      "\u001b[1;31m---------------------------------------------------------------------------\u001b[0m",
      "\u001b[1;31mKeyboardInterrupt\u001b[0m                         Traceback (most recent call last)",
      "Cell \u001b[1;32mIn[19], line 24\u001b[0m\n\u001b[0;32m     21\u001b[0m badgeholder_laziness_vec\u001b[38;5;241m=\u001b[39m np\u001b[38;5;241m.\u001b[39mones(max_badgeholders) \u001b[38;5;241m*\u001b[39m badgeholder_laziness_val\n\u001b[0;32m     22\u001b[0m project_impact_vec\u001b[38;5;241m=\u001b[39m np\u001b[38;5;241m.\u001b[39mones(max_badgeholders) \u001b[38;5;241m*\u001b[39m project_impact_val\n\u001b[1;32m---> 24\u001b[0m old, new \u001b[38;5;241m=\u001b[39m \u001b[43msim_frameworks\u001b[49m\u001b[43m(\u001b[49m\n\u001b[0;32m     25\u001b[0m \u001b[43m    \u001b[49m\u001b[43mn_badgeholders\u001b[49m\u001b[38;5;241;43m=\u001b[39;49m\u001b[43mn_badgeholders\u001b[49m\u001b[43m,\u001b[49m\n\u001b[0;32m     26\u001b[0m \u001b[43m    \u001b[49m\u001b[43mtotal_funds\u001b[49m\u001b[38;5;241;43m=\u001b[39;49m\u001b[43mtotal_funds\u001b[49m\u001b[43m,\u001b[49m\n\u001b[0;32m     27\u001b[0m \u001b[43m    \u001b[49m\u001b[43mmin_vote\u001b[49m\u001b[38;5;241;43m=\u001b[39;49m\u001b[43mmin_vote\u001b[49m\u001b[43m,\u001b[49m\n\u001b[0;32m     28\u001b[0m \u001b[43m    \u001b[49m\u001b[43mmax_vote\u001b[49m\u001b[38;5;241;43m=\u001b[39;49m\u001b[43mmax_vote\u001b[49m\u001b[43m,\u001b[49m\n\u001b[0;32m     29\u001b[0m \u001b[43m    \u001b[49m\u001b[43mbadgeholder_expertise_vec\u001b[49m\u001b[38;5;241;43m=\u001b[39;49m\u001b[43mbadgeholder_expertise_vec\u001b[49m\u001b[43m,\u001b[49m\n\u001b[0;32m     30\u001b[0m \u001b[43m    \u001b[49m\u001b[43mbadgeholder_laziness_vec\u001b[49m\u001b[38;5;241;43m=\u001b[39;49m\u001b[43mbadgeholder_laziness_vec\u001b[49m\u001b[43m,\u001b[49m\n\u001b[0;32m     31\u001b[0m \u001b[43m    \u001b[49m\u001b[43mn_projects\u001b[49m\u001b[38;5;241;43m=\u001b[39;49m\u001b[43mn_projects\u001b[49m\u001b[43m,\u001b[49m\n\u001b[0;32m     32\u001b[0m \u001b[43m    \u001b[49m\u001b[43mproject_impact_vec\u001b[49m\u001b[38;5;241;43m=\u001b[39;49m\u001b[43mproject_impact_vec\u001b[49m\u001b[43m,\u001b[49m\n\u001b[0;32m     33\u001b[0m \u001b[43m    \u001b[49m\u001b[43mq\u001b[49m\u001b[38;5;241;43m=\u001b[39;49m\u001b[43mq\u001b[49m\u001b[43m,\u001b[49m\n\u001b[0;32m     34\u001b[0m \u001b[43m    \u001b[49m\u001b[43mscoring_fn\u001b[49m\u001b[38;5;241;43m=\u001b[39;49m\u001b[43mscoring_fn\u001b[49m\u001b[43m,\u001b[49m\n\u001b[0;32m     35\u001b[0m \u001b[43m\u001b[49m\u001b[43mexpertise_model\u001b[49m\u001b[38;5;241;43m=\u001b[39;49m\u001b[38;5;124;43m\"\u001b[39;49m\u001b[38;5;124;43mcarl\u001b[39;49m\u001b[38;5;124;43m\"\u001b[39;49m\n\u001b[0;32m     36\u001b[0m \u001b[43m\u001b[49m\u001b[43m)\u001b[49m\n\u001b[0;32m     37\u001b[0m old\u001b[38;5;241m=\u001b[39mextract_old(old_results)\n\u001b[0;32m     38\u001b[0m new\u001b[38;5;241m=\u001b[39mextract_new(new_results)\n",
      "Cell \u001b[1;32mIn[14], line 192\u001b[0m, in \u001b[0;36msim_frameworks\u001b[1;34m(n_badgeholders, total_funds, min_vote, max_vote, n_projects, q, scoring_fn, badgeholder_expertise_vec, badgeholder_laziness_vec, project_impact_vec, expertise_model)\u001b[0m\n\u001b[0;32m    182\u001b[0m badgeholders_n,badgeholders_o\u001b[38;5;241m=\u001b[39mcreate_badgeholders(\n\u001b[0;32m    183\u001b[0m     n_badgeholders,\n\u001b[0;32m    184\u001b[0m     total_funds,\n\u001b[1;32m   (...)\u001b[0m\n\u001b[0;32m    189\u001b[0m     expertise_model\n\u001b[0;32m    190\u001b[0m )\n\u001b[0;32m    191\u001b[0m projects_n,projects_o\u001b[38;5;241m=\u001b[39mcreate_projects(n_projects,project_impact_vec)\n\u001b[1;32m--> 192\u001b[0m old_results\u001b[38;5;241m=\u001b[39m\u001b[43msingle_sim_old\u001b[49m\u001b[43m(\u001b[49m\u001b[43mbadgeholders_o\u001b[49m\u001b[43m,\u001b[49m\u001b[43mprojects_o\u001b[49m\u001b[43m,\u001b[49m\u001b[43mq\u001b[49m\u001b[43m,\u001b[49m\u001b[43mscoring_fn\u001b[49m\u001b[43m,\u001b[49m\u001b[43mtotal_funds\u001b[49m\u001b[43m,\u001b[49m\u001b[43mmin_vote\u001b[49m\u001b[43m,\u001b[49m\u001b[43mn_projects\u001b[49m\u001b[43m)\u001b[49m\n\u001b[0;32m    193\u001b[0m new_results\u001b[38;5;241m=\u001b[39msingle_sim_new(badgeholders_n,projects_n)\n\u001b[0;32m    194\u001b[0m \u001b[38;5;28;01mreturn\u001b[39;00m old_results,new_results\n",
      "Cell \u001b[1;32mIn[14], line 56\u001b[0m, in \u001b[0;36msingle_sim_old\u001b[1;34m(badgeholders, projects, q, scoring_fn, total_funds, min_amount, n_projects)\u001b[0m\n\u001b[0;32m     54\u001b[0m simulation\u001b[38;5;241m.\u001b[39mround\u001b[38;5;241m.\u001b[39madd_voters(badgeholders)\n\u001b[0;32m     55\u001b[0m simulation\u001b[38;5;241m.\u001b[39mround\u001b[38;5;241m.\u001b[39madd_projects(projects)\n\u001b[1;32m---> 56\u001b[0m results \u001b[38;5;241m=\u001b[39m \u001b[43msimulation\u001b[49m\u001b[38;5;241;43m.\u001b[39;49m\u001b[43msimulate_voting_and_scoring\u001b[49m\u001b[43m(\u001b[49m\n\u001b[0;32m     57\u001b[0m \u001b[43m    \u001b[49m\u001b[43mn\u001b[49m\u001b[38;5;241;43m=\u001b[39;49m\u001b[43mtotal_funds\u001b[49m\u001b[43m,\u001b[49m\n\u001b[0;32m     58\u001b[0m \u001b[43m    \u001b[49m\u001b[43mscoring_method\u001b[49m\u001b[38;5;241;43m=\u001b[39;49m\u001b[43mscoring_fn\u001b[49m\u001b[43m,\u001b[49m\n\u001b[0;32m     59\u001b[0m \u001b[43m    \u001b[49m\u001b[43mquorum\u001b[49m\u001b[38;5;241;43m=\u001b[39;49m\u001b[43mq\u001b[49m\u001b[43m,\u001b[49m\n\u001b[0;32m     60\u001b[0m \u001b[43m    \u001b[49m\u001b[43mmin_amount\u001b[49m\u001b[38;5;241;43m=\u001b[39;49m\u001b[43mmin_amount\u001b[49m\u001b[43m,\u001b[49m\n\u001b[0;32m     61\u001b[0m \u001b[43m    \u001b[49m\u001b[43mnormalize\u001b[49m\u001b[38;5;241;43m=\u001b[39;49m\u001b[38;5;28;43;01mFalse\u001b[39;49;00m\n\u001b[0;32m     62\u001b[0m \u001b[43m\u001b[49m\u001b[43m)\u001b[49m\n\u001b[0;32m     63\u001b[0m \u001b[38;5;28;01mreturn\u001b[39;00m results\n",
      "File \u001b[1;32mc:\\users\\martingale guest\\documents\\github\\voting_mechanism_design\\voting_mechanism_design\\legacy\\op_simulator.py:284\u001b[0m, in \u001b[0;36mSimulation.simulate_voting_and_scoring\u001b[1;34m(self, n, scoring_method, quorum, min_amount, normalize)\u001b[0m\n\u001b[0;32m    282\u001b[0m results \u001b[38;5;241m=\u001b[39m []\n\u001b[0;32m    283\u001b[0m \u001b[38;5;28;01mfor\u001b[39;00m i \u001b[38;5;129;01min\u001b[39;00m \u001b[38;5;28mrange\u001b[39m(n):            \n\u001b[1;32m--> 284\u001b[0m     \u001b[38;5;28;43mself\u001b[39;49m\u001b[38;5;241;43m.\u001b[39;49m\u001b[43msimulate_voting\u001b[49m\u001b[43m(\u001b[49m\u001b[43m)\u001b[49m            \n\u001b[0;32m    285\u001b[0m     allocations \u001b[38;5;241m=\u001b[39m \u001b[38;5;28mself\u001b[39m\u001b[38;5;241m.\u001b[39mround\u001b[38;5;241m.\u001b[39mcalculate_allocations(scoring_method, quorum, min_amount, normalize)\n\u001b[0;32m    286\u001b[0m     payouts \u001b[38;5;241m=\u001b[39m [a \u001b[38;5;28;01mfor\u001b[39;00m a \u001b[38;5;129;01min\u001b[39;00m allocations \u001b[38;5;28;01mif\u001b[39;00m a \u001b[38;5;241m>\u001b[39m \u001b[38;5;241m0\u001b[39m]\n",
      "File \u001b[1;32mc:\\users\\martingale guest\\documents\\github\\voting_mechanism_design\\voting_mechanism_design\\legacy\\op_simulator.py:249\u001b[0m, in \u001b[0;36mSimulation.simulate_voting\u001b[1;34m(self)\u001b[0m\n\u001b[0;32m    247\u001b[0m \u001b[38;5;28;01melse\u001b[39;00m:\n\u001b[0;32m    248\u001b[0m     \u001b[38;5;28;01mif\u001b[39;00m voter\u001b[38;5;241m.\u001b[39mlaziness_factor\u001b[38;5;241m==\u001b[39m\u001b[38;5;241m0\u001b[39m:\n\u001b[1;32m--> 249\u001b[0m         max_vote_per_project \u001b[38;5;241m=\u001b[39m \u001b[43m(\u001b[49m\u001b[43mvoter\u001b[49m\u001b[38;5;241;43m.\u001b[39;49m\u001b[43mbalance_op\u001b[49m\u001b[43m)\u001b[49m\u001b[43m \u001b[49m\u001b[38;5;241;43m/\u001b[39;49m\u001b[43m \u001b[49m\u001b[43mnp\u001b[49m\u001b[38;5;241;43m.\u001b[39;49m\u001b[43msqrt\u001b[49m\u001b[43m(\u001b[49m\u001b[43mballot_size\u001b[49m\u001b[43m \u001b[49m\u001b[38;5;241;43m-\u001b[39;49m\u001b[43m \u001b[49m\u001b[43midx\u001b[49m\u001b[43m)\u001b[49m\n\u001b[0;32m    250\u001b[0m     \u001b[38;5;28;01melse\u001b[39;00m:\n\u001b[0;32m    251\u001b[0m         max_vote_per_project \u001b[38;5;241m=\u001b[39m (voter\u001b[38;5;241m.\u001b[39mbalance_op \u001b[38;5;241m*\u001b[39m voter\u001b[38;5;241m.\u001b[39mlaziness_factor) \u001b[38;5;241m/\u001b[39m np\u001b[38;5;241m.\u001b[39msqrt(ballot_size \u001b[38;5;241m-\u001b[39m idx)\n",
      "\u001b[1;31mKeyboardInterrupt\u001b[0m: "
     ]
    }
   ],
   "source": [
    "np.random.seed(42)\n",
    "\n",
    "n_badgeholders_stress_test = (10, 50, 100, 200)\n",
    "total_funds_stress_test = (10, 100, 500)\n",
    "\n",
    "# Generating pseudo-random vectors for stress tests\n",
    "max_badgeholders= max(n_badgeholders_stress_test)\n",
    "#badgeholder_expertise_vec_stress_test = [np.random.rand(max_badgeholders) for _ in range(3)]#change function for this temp\n",
    "#badgeholder_laziness_vec_stress_test = [np.random.rand(max_badgeholders) for _ in range(3)]\n",
    "#project_impact_vec_stress_test = [np.random.rand(max_badgeholders) for _ in range(3)]\n",
    "badgeholder_expertise_vec_stress_test = list(np.linspace(0,1,4))\n",
    "badgeholder_laziness_vec_stress_test = list(np.linspace(0,1,4))\n",
    "project_impact_vec_stress_test = list(np.linspace(0,1,4))\n",
    "\n",
    "experiment_cfgs = list(itertools.product(n_badgeholders_stress_test, total_funds_stress_test, badgeholder_expertise_vec_stress_test, badgeholder_laziness_vec_stress_test, project_impact_vec_stress_test))\n",
    "\n",
    "for experiment_cfg in tqdm(experiment_cfgs):\n",
    "    n_badgeholders, total_funds, badgeholder_expertise_val, badgeholder_laziness_val, project_impact_val = experiment_cfg\n",
    "    \n",
    "    badgeholder_expertise_vec= np.ones(max_badgeholders) * badgeholder_expertise_val\n",
    "    badgeholder_laziness_vec= np.ones(max_badgeholders) * badgeholder_laziness_val\n",
    "    project_impact_vec= np.ones(max_badgeholders) * project_impact_val\n",
    "    \n",
    "    old, new = sim_frameworks(\n",
    "        n_badgeholders=n_badgeholders,\n",
    "        total_funds=total_funds,\n",
    "        min_vote=min_vote,\n",
    "        max_vote=max_vote,\n",
    "        badgeholder_expertise_vec=badgeholder_expertise_vec,\n",
    "        badgeholder_laziness_vec=badgeholder_laziness_vec,\n",
    "        n_projects=n_projects,\n",
    "        project_impact_vec=project_impact_vec,\n",
    "        q=q,\n",
    "        scoring_fn=scoring_fn,\n",
    "    expertise_model=\"carl\"\n",
    "    )\n",
    "    old=extract_old(old_results)\n",
    "    new=extract_new(new_results)\n",
    "    rankings_match=compare_rankings(old, new, False)\n",
    "    if rankings_match==False:\n",
    "        print(f\"Configuration:\\n\"\n",
    "              f\"- Number of Badgeholders: {n_badgeholders}\\n\"\n",
    "        f\"- Total Funds: {total_funds}\\n\"\n",
    "        f\"- Badgeholder Expertise Vector: {badgeholder_expertise_vec}\\n\" #ok so i want to change this so it print which vector list, not the whole list\n",
    "        f\"- Badgeholder Laziness Vector: {badgeholder_laziness_vec}\\n\"\n",
    "        f\"- Project Impact Vector: {project_impact_vec}\\n\")\n"
   ]
  },
  {
   "cell_type": "code",
   "execution_count": null,
   "metadata": {},
   "outputs": [],
   "source": []
  }
 ],
 "metadata": {
  "kernelspec": {
   "display_name": "quorum-voting-env",
   "language": "python",
   "name": "quorum-voting-env"
  },
  "language_info": {
   "codemirror_mode": {
    "name": "ipython",
    "version": 3
   },
   "file_extension": ".py",
   "mimetype": "text/x-python",
   "name": "python",
   "nbconvert_exporter": "python",
   "pygments_lexer": "ipython3",
   "version": "3.8.19"
  }
 },
 "nbformat": 4,
 "nbformat_minor": 4
}

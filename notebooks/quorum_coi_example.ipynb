{
 "cells": [
  {
   "cell_type": "code",
   "execution_count": null,
   "metadata": {},
   "outputs": [],
   "source": [
    "%load_ext autoreload\n",
    "%autoreload 2"
   ]
  },
  {
   "cell_type": "code",
   "execution_count": 1,
   "metadata": {},
   "outputs": [],
   "source": [
    "import matplotlib.pyplot as plt\n",
    "import numpy as np\n",
    "import pandas as pd\n",
    "import warnings\n",
    "\n",
    "# from simulator import Simulation\n",
    "from tqdm.auto import tqdm\n",
    "import itertools\n",
    "import matplotlib as mpl\n",
    "from collections import OrderedDict, defaultdict\n",
    "\n",
    "from voting_mechanism_design.agents.pairwise_badgeholder import PairwiseBadgeholder, PairwiseBadgeholderPopulation\n",
    "from voting_mechanism_design.projects.project import Project, ProjectPopulation\n",
    "from voting_mechanism_design.funds_distribution.pairwise_binary import PairwiseBinary\n",
    "from voting_mechanism_design.sim import RoundSimulation\n",
    "\n",
    "from voting_mechanism_design.agents.quorum_badgeholder import QuorumBadgeholder, QuorumBadgeholderPopulation\n",
    "from voting_mechanism_design.funds_distribution.threshold_and_aggregate import ThresholdAndAggregate\n",
    "\n",
    "import itertools\n",
    "import numpy as np\n",
    "import choix\n",
    "import math\n",
    "\n",
    "import seaborn as sns\n",
    "import matplotlib.pyplot as plt\n",
    "import scipy.stats as stats\n",
    "\n",
    "from tqdm.auto import tqdm\n",
    "from joblib import Parallel, delayed\n",
    "\n",
    "warnings.simplefilter(action='ignore', category=UserWarning)\n",
    "warnings.simplefilter(action=\"ignore\", category=RuntimeWarning)"
   ]
  },
  {
   "cell_type": "code",
   "execution_count": 3,
   "metadata": {},
   "outputs": [],
   "source": [
    "def run_single_quorum_threshold_simulation_v2(\n",
    "        n_badgeholders=50,\n",
    "        badgeholder_expertise_vec=None,\n",
    "        badgeholder_laziness_vec=None,\n",
    "        n_projects=100,\n",
    "        project_impact_vec=None,\n",
    "        # configuration specific to quorum+threshold voting method\n",
    "        quorum=5,\n",
    "        scoring_fn='mean',\n",
    "        min_vote_amt=1,\n",
    "        max_vote_amt=16,\n",
    "        max_funding=100,\n",
    "        coi_factor=0.0,\n",
    "        coi_project_ix=None,\n",
    "        coi_badgeholder_ix=None,\n",
    "        random_seed=1234\n",
    "    ):\n",
    "    # create voters\n",
    "    voters = []\n",
    "    for ii in range(n_badgeholders):\n",
    "        assert badgeholder_laziness_vec[ii] >= 0\n",
    "\n",
    "        if ii == coi_badgeholder_ix:\n",
    "            coi_factor_bh = coi_factor\n",
    "            coi_project_ix = coi_project_ix\n",
    "        else:\n",
    "            coi_factor_bh = 0.0\n",
    "            coi_project_ix = None\n",
    "\n",
    "        v = QuorumBadgeholder(\n",
    "            badgeholder_id=ii,\n",
    "            total_funds=max_funding,\n",
    "            min_vote=min_vote_amt,  \n",
    "            max_vote=max_vote_amt,\n",
    "            laziness=badgeholder_laziness_vec[ii],\n",
    "            expertise=badgeholder_expertise_vec[ii],\n",
    "            coi_factor=coi_factor_bh,\n",
    "            coi_project_ix_vec=coi_project_ix,\n",
    "        )\n",
    "        voters.append(v)\n",
    "    badgeholder_pop=QuorumBadgeholderPopulation()\n",
    "    badgeholder_pop.add_badgeholders(voters)\n",
    "\n",
    "    # add projects\n",
    "    projects = []\n",
    "    for ii in range(n_projects):\n",
    "        p = Project(\n",
    "            project_id=ii,\n",
    "            true_impact=project_impact_vec[ii],  \n",
    "            owner_id=None,  \n",
    "        )\n",
    "        projects.append(p)\n",
    "    project_population = ProjectPopulation()\n",
    "    project_population.add_projects(projects)\n",
    "\n",
    "    # ##  Voting Simulation\n",
    "    fund_distribution_model = ThresholdAndAggregate(\n",
    "        scoring_method=scoring_fn,\n",
    "        quorum=quorum,\n",
    "        min_amount=0\n",
    "    )\n",
    "    simulation_obj = RoundSimulation(\n",
    "        badgeholder_population=badgeholder_pop,\n",
    "        projects=project_population,\n",
    "        funding_design=fund_distribution_model,\n",
    "        random_seed=random_seed\n",
    "    )\n",
    "    projects = project_population.get_projects()\n",
    "    simulation_obj.run()\n",
    "\n",
    "    projectid2score = simulation_obj.projectid2score\n",
    "\n",
    "    # for easy comparison\n",
    "    projectid2score = OrderedDict(projectid2score)\n",
    "    ranks = np.argsort(np.asarray(list(projectid2score.values())))\n",
    "    projectid2rank = {ii:ranks[ii] for ii in range(len(ranks))}\n",
    "    \n",
    "    return projectid2rank, ranks, simulation_obj, projectid2score"
   ]
  },
  {
   "cell_type": "code",
   "execution_count": 13,
   "metadata": {},
   "outputs": [],
   "source": [
    "# test 1\n",
    "n_badgeholders=50\n",
    "n_projects=100\n",
    "max_funding=100\n",
    "random_seed=1234\n",
    "badgeholder_expertise_vec = 0.75*np.ones(n_badgeholders)\n",
    "badgeholder_laziness_vec = 0.0*np.ones(n_badgeholders)\n",
    "project_impact_vec = np.random.uniform(0,1,n_projects)\n",
    "quorum=5\n",
    "scoring_fn='mean'\n",
    "min_vote_amt=1\n",
    "max_vote_amt=16\n",
    "max_funding=100\n",
    "\n",
    "rs = 112\n",
    "\n",
    "# no COI\n",
    "_, ranks_no_coi, _, _ = run_single_quorum_threshold_simulation_v2(\n",
    "    n_badgeholders=n_badgeholders,\n",
    "    badgeholder_expertise_vec=badgeholder_expertise_vec,\n",
    "    badgeholder_laziness_vec=badgeholder_laziness_vec,\n",
    "    n_projects=n_projects,\n",
    "    project_impact_vec=project_impact_vec,\n",
    "    # configuration specific to quorum+threshold voting method\n",
    "    quorum=quorum,\n",
    "    scoring_fn=scoring_fn,\n",
    "    min_vote_amt=min_vote_amt,\n",
    "    max_vote_amt=max_vote_amt,\n",
    "    max_funding=max_funding,\n",
    "    random_seed=rs\n",
    ")\n",
    "print('Done 1')\n",
    "\n",
    "# with COI\n",
    "coi_factor = 0.75\n",
    "coi_project_ix = [n_projects-1]\n",
    "badgeholder_coi_ix = 0\n",
    "_, ranks_coi, _, _ = run_single_quorum_threshold_simulation_v2(\n",
    "    n_badgeholders=n_badgeholders,\n",
    "    badgeholder_expertise_vec=badgeholder_expertise_vec,\n",
    "    badgeholder_laziness_vec=badgeholder_laziness_vec,\n",
    "    n_projects=n_projects,\n",
    "    project_impact_vec=project_impact_vec,\n",
    "    # configuration specific to quorum+threshold voting method\n",
    "    quorum=quorum,\n",
    "    scoring_fn=scoring_fn,\n",
    "    min_vote_amt=min_vote_amt,\n",
    "    max_vote_amt=max_vote_amt,\n",
    "    max_funding=max_funding,\n",
    "    random_seed=rs,\n",
    "    coi_factor=coi_factor,\n",
    "    coi_project_ix=coi_project_ix,\n",
    "    coi_badgeholder_ix=badgeholder_coi_ix\n",
    ")"
   ]
  },
  {
   "cell_type": "code",
   "execution_count": 14,
   "metadata": {},
   "outputs": [
    {
     "data": {
      "text/plain": [
       "(array([46]),)"
      ]
     },
     "execution_count": 14,
     "metadata": {},
     "output_type": "execute_result"
    }
   ],
   "source": [
    "np.where(ranks_no_coi == coi_project_ix[0])"
   ]
  },
  {
   "cell_type": "code",
   "execution_count": 15,
   "metadata": {},
   "outputs": [
    {
     "data": {
      "text/plain": [
       "(array([46]),)"
      ]
     },
     "execution_count": 15,
     "metadata": {},
     "output_type": "execute_result"
    }
   ],
   "source": [
    "np.where(ranks_coi == coi_project_ix[0])"
   ]
  },
  {
   "cell_type": "code",
   "execution_count": null,
   "metadata": {},
   "outputs": [],
   "source": []
  }
 ],
 "metadata": {
  "kernelspec": {
   "display_name": "rpgf",
   "language": "python",
   "name": "python3"
  },
  "language_info": {
   "codemirror_mode": {
    "name": "ipython",
    "version": 3
   },
   "file_extension": ".py",
   "mimetype": "text/x-python",
   "name": "python",
   "nbconvert_exporter": "python",
   "pygments_lexer": "ipython3",
   "version": "3.11.9"
  }
 },
 "nbformat": 4,
 "nbformat_minor": 2
}

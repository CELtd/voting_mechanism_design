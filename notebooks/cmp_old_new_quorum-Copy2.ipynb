{
 "cells": [
  {
   "cell_type": "code",
   "execution_count": 1,
   "metadata": {},
   "outputs": [],
   "source": [
    "%load_ext autoreload\n",
    "%autoreload 2     "
   ]
  },
  {
   "cell_type": "code",
   "execution_count": 2,
   "metadata": {},
   "outputs": [],
   "source": [
    "from voting_mechanism_design.agents.quorum_badgeholder import QuorumBadgeholder, QuorumBadgeholderPopulation\n",
    "from voting_mechanism_design.projects.project import Project, ProjectPopulation\n",
    "from voting_mechanism_design.funds_distribution.threshold_and_aggregate import ThresholdAndAggregate\n",
    "from voting_mechanism_design.sim import RoundSimulation\n",
    "\n",
    "import matplotlib.pyplot as plt\n",
    "import numpy as np\n",
    "import seaborn as sns\n",
    "import itertools\n",
    "from collections import defaultdict\n",
    "from tqdm import tqdm\n",
    "import pandas as pd\n",
    "import warnings\n",
    "\n",
    "# OP simulator configuration\n",
    "from voting_mechanism_design.legacy.op_simulator import Simulation as OPSimulation\n",
    "from voting_mechanism_design.legacy.op_simulator import Voter as OPVoter\n",
    "from voting_mechanism_design.legacy.op_simulator import Project as OPProject\n"
   ]
  },
  {
   "cell_type": "code",
   "execution_count": 81,
   "metadata": {},
   "outputs": [],
   "source": [
    "def create_badgeholders(\n",
    "    n_badgeholders,\n",
    "    total_funds,\n",
    "    min_vote,\n",
    "    max_vote,\n",
    "    badgeholder_expertise_vec,\n",
    "    badgeholder_laziness_vec\n",
    "):\n",
    "    badgeholders_n = []\n",
    "    badgeholders_o = []\n",
    "    for ii in range(n_badgeholders):\n",
    "        agent = QuorumBadgeholder(\n",
    "            badgeholder_id=ii,\n",
    "            total_funds=total_funds,\n",
    "            min_vote=min_vote,  \n",
    "            max_vote=max_vote,\n",
    "            laziness=badgeholder_laziness_vec[ii],\n",
    "            expertise=badgeholder_expertise_vec[ii],\n",
    "            coi_factor=0\n",
    "        )\n",
    "        agent2 = OPVoter(\n",
    "            voter_id = ii,\n",
    "            op_available=total_funds, \n",
    "            laziness=badgeholder_laziness_vec[ii],\n",
    "            expertise=badgeholder_expertise_vec[ii],\n",
    "        )\n",
    "        badgeholders_n.append(agent)\n",
    "        badgeholders_o.append(agent2)        \n",
    "    return badgeholders_n,badgeholders_o\n",
    "\n",
    "def create_projects(n_projects,project_impact_vec):\n",
    "    projects_n = []\n",
    "    projects_o = []\n",
    "    for ii in range(n_projects):\n",
    "        project = Project(\n",
    "            project_id=ii,\n",
    "            true_impact=project_impact_vec[ii],  \n",
    "            owner_id=None,  \n",
    "        )\n",
    "        project2 = OPProject(\n",
    "            project_id=ii,\n",
    "            rating=project_impact_vec[ii],\n",
    "            owner_id=None,  # No COI modeling here\n",
    "        )\n",
    "        projects_n.append(project)\n",
    "        projects_o.append(project2)\n",
    "    return projects_n,projects_o\n",
    "\n",
    "def single_sim_old(badgeholders,projects,q,scoring_fn,total_funds,min_amount,n_projects):\n",
    "    simulation=OPSimulation()\n",
    "    simulation.initialize_round(max_funding=total_funds)\n",
    "    simulation.round.add_voters(badgeholders)\n",
    "    simulation.round.add_projects(projects)\n",
    "    results = simulation.simulate_voting_and_scoring(\n",
    "        n=total_funds,\n",
    "        scoring_method=scoring_fn,\n",
    "        quorum=q,\n",
    "        min_amount=min_amount,\n",
    "        normalize=True\n",
    "    )\n",
    "    return results\n",
    "\n",
    "def single_sim_new(badgeholders,projects):\n",
    "    badgeholder_pop=QuorumBadgeholderPopulation()\n",
    "    project_population = ProjectPopulation()\n",
    "    fund_distribution_model = ThresholdAndAggregate()\n",
    "\n",
    "    badgeholder_pop.add_badgeholders(badgeholders)\n",
    "    project_population.add_projects(projects)\n",
    "    \n",
    "    simulation_obj = RoundSimulation(\n",
    "        badgeholder_population=badgeholder_pop,\n",
    "        projects=project_population,\n",
    "        funding_design=fund_distribution_model,\n",
    "    )\n",
    "    projects = project_population.get_projects()\n",
    "    simulation_obj.run(cast_votes_kwargs={'projects': projects})\n",
    "    return simulation_obj\n",
    "\n",
    "def extract_old(results):\n",
    "    project_data = results['data']\n",
    "    project_funds_df = pd.DataFrame({\n",
    "        'Project Id': [project['project_id'] for project in project_data],\n",
    "        'Total Funds': [project['token_amount'] * project['num_votes'] for project in project_data]\n",
    "    })\n",
    "    return project_funds_df\n",
    "\n",
    "def extract_new(results):\n",
    "    project_population = results.projects\n",
    "    project_vote_counts = defaultdict(int)\n",
    "    for project in project_population.get_projects():\n",
    "        for vote in project.votes:\n",
    "            project_vote_counts[project.project_id] += vote.amount if vote.amount is not None else 0\n",
    "    project_funds_df = pd.DataFrame({\n",
    "        'Project Id': list(project_vote_counts.keys()),\n",
    "        'Total Funds': list(project_vote_counts.values())\n",
    "    })\n",
    "    return project_funds_df\n",
    "\n",
    "def plot_comparison_histograms(old, new):\n",
    "    # Add framework labels\n",
    "    old['Framework'] = 'Old'\n",
    "    new['Framework'] = 'New'\n",
    "    \n",
    "    # Ensure both DataFrames have the same set of Project IDs\n",
    "    combined_project_ids = pd.Series(list(set(old['Project Id']).union(set(new['Project Id'])))).sort_values()\n",
    "\n",
    "    # Merge old and new DataFrames on Project Id to align them\n",
    "    merged_df = pd.merge(old, new, on='Project Id', how='outer', suffixes=('_Old', '_New')).fillna(0)\n",
    "\n",
    "    # Calculate the differences\n",
    "    merged_df['Total Funds_Difference'] = merged_df['Total Funds_Old'] - merged_df['Total Funds_New']\n",
    "\n",
    "    # Set the width of the bars\n",
    "    bar_width = 0.25\n",
    "\n",
    "    # Set the position of the bars on the x-axis\n",
    "    r1 = np.arange(len(merged_df))\n",
    "    r2 = [x + bar_width for x in r1]\n",
    "    r3 = [x + bar_width for x in r2]\n",
    "\n",
    "    # Create subplots\n",
    "    fig, axs = plt.subplots(3, 1, figsize=(14, 18))\n",
    "\n",
    "    # Plot old framework results\n",
    "    axs[0].bar(r1, merged_df['Total Funds_Old'], color='blue', width=bar_width, edgecolor='grey', label='Old Framework')\n",
    "    axs[0].set_xlabel('Project ID', fontweight='bold')\n",
    "    axs[0].set_ylabel('Total Funds')\n",
    "    axs[0].set_title('Total Funds Received by Each Project (Old Framework)')\n",
    "    axs[0].legend()\n",
    "    axs[0].set_xticks([r + bar_width for r in range(len(merged_df))])\n",
    "    axs[0].set_xticklabels(merged_df['Project Id'])\n",
    "\n",
    "    # Plot new framework results\n",
    "    axs[1].bar(r2, merged_df['Total Funds_New'], color='green', width=bar_width, edgecolor='grey', label='New Framework')\n",
    "    axs[1].set_xlabel('Project ID', fontweight='bold')\n",
    "    axs[1].set_ylabel('Total Funds')\n",
    "    axs[1].set_title('Total Funds Received by Each Project (New Framework)')\n",
    "    axs[1].legend()\n",
    "    axs[1].set_xticks([r + bar_width for r in range(len(merged_df))])\n",
    "    axs[1].set_xticklabels(merged_df['Project Id'])\n",
    "\n",
    "    # Plot the differences\n",
    "    axs[2].bar(r3, merged_df['Total Funds_Difference'], color='red', width=bar_width, edgecolor='grey', label='Difference (Old - New)')\n",
    "    axs[2].set_xlabel('Project ID', fontweight='bold')\n",
    "    axs[2].set_ylabel('Difference in Total Funds')\n",
    "    axs[2].set_title('Difference in Total Funds Received by Each Project (Old - New)')\n",
    "    axs[2].legend()\n",
    "    axs[2].set_xticks([r for r in range(len(merged_df))])\n",
    "    axs[2].set_xticklabels(merged_df['Project Id'])\n",
    "\n",
    "    # Adjust layout and show the plot\n",
    "    plt.tight_layout()\n",
    "    plt.show()\n",
    "    \n",
    "def sim_frameworks(\n",
    "    n_badgeholders=10,\n",
    "    total_funds=100,\n",
    "    min_vote=1,\n",
    "    max_vote=16,\n",
    "    badgeholder_expertise_vec=np.ones(n_badgeholders),#will ahve to cchange this\n",
    "    badgeholder_laziness_vec=np.zeros(n_badgeholders),# and this\n",
    "    n_projects=100,\n",
    "    project_impact_vec=np.ones(n_projects),# and this\n",
    "    q=0,\n",
    "    scoring_fn=['mean']\n",
    "):\n",
    "    badgeholders_n,badgeholders_o=create_badgeholders(\n",
    "        n_badgeholders,\n",
    "        total_funds,\n",
    "        min_vote,\n",
    "        max_vote,\n",
    "        badgeholder_expertise_vec,\n",
    "        badgeholder_laziness_vec\n",
    "    )\n",
    "    projects_n,projects_o=create_projects(n_projects,project_impact_vec)\n",
    "    old_results=single_sim_old(badgeholders_o,projects_o,q,scoring_fn,total_funds,min_vote,n_projects)\n",
    "    new_results=single_sim_new(badgeholders_n,projects_n)\n",
    "    old=extract_old(old_results)\n",
    "    new=extract_new(new_results)\n",
    "    #plot_comparison_histograms(old, new)\n",
    "    return old,new\n",
    "\n",
    "def compare_rankings(old, new, detail):\n",
    "    # Sort old and new DataFrames by Total Funds in descending order\n",
    "    old_sorted = old.sort_values(by='Total Funds', ascending=False).reset_index(drop=True)\n",
    "    new_sorted = new.sort_values(by='Total Funds', ascending=False).reset_index(drop=True)\n",
    "\n",
    "    # Extract the rankings based on Project Id\n",
    "    old_ranking = old_sorted['Project Id'].tolist()\n",
    "    new_ranking = new_sorted['Project Id'].tolist()\n",
    "\n",
    "    # Check if the rankings match\n",
    "    rankings_match = old_ranking == new_ranking\n",
    "\n",
    "    # Print the rankings\n",
    "    if detail==True:\n",
    "        print(\"Old Framework Ranking Project ID (Highest to Lowest):\", old_ranking)\n",
    "        print(\"New Framework Ranking Project ID (Highest to Lowest):\", new_ranking)\n",
    "\n",
    "    # Print whether the rankings match\n",
    "    if rankings_match:\n",
    "        print(\"The rankings match between the old and new frameworks.\")\n",
    "        return True\n",
    "    else:\n",
    "        print(\"The rankings do not match between the old and new frameworks.\")\n",
    "        \n",
    "        # Highlight mismatches\n",
    "        print(\"\\nDifferences in Rankings:\")\n",
    "        rank_changes = {}\n",
    "        for i, project_id in enumerate(old_ranking):\n",
    "            old_position = i + 1\n",
    "            new_position = new_ranking.index(project_id) + 1\n",
    "            if old_position != new_position:\n",
    "                #print(f\"Project ID {project_id}: Old Rank = {old_position}, New Rank = {new_position}\")\n",
    "                rank_changes[project_id] = new_position - old_position\n",
    "\n",
    "        # Count of changes\n",
    "        total_changes = len(rank_changes)\n",
    "        print(f\"\\nTotal number of projects with rank changes: {total_changes}\")\n",
    "\n",
    "        # Maximum rank change\n",
    "        if rank_changes:\n",
    "            max_change_project = max(rank_changes, key=lambda k: abs(rank_changes[k]))\n",
    "            max_change = rank_changes[max_change_project]\n",
    "            print(f\"\\nProject with the maximum rank change: Project ID {max_change_project}\")\n",
    "            print(f\"Maximum rank change: {max_change} positions (Old Rank = {old_ranking.index(max_change_project) + 1}, New Rank = {new_ranking.index(max_change_project) + 1})\")\n",
    "        return False\n",
    "    # Return the rankings for further use if needed\n",
    "    #return rankings_match"
   ]
  },
  {
   "cell_type": "code",
   "execution_count": 26,
   "metadata": {},
   "outputs": [],
   "source": [
    "#Variable Parameters\n",
    "n_badgeholders=10\n",
    "total_funds=100\n",
    "min_vote=1\n",
    "max_vote=16\n",
    "badgeholder_expertise_vec=np.ones(n_badgeholders)\n",
    "badgeholder_laziness_vec=np.zeros(n_badgeholders)\n",
    "n_projects=100\n",
    "project_impact_vec=np.ones(n_projects)\n",
    "q=0\n",
    "scoring_fn=['mean']"
   ]
  },
  {
   "cell_type": "code",
   "execution_count": 65,
   "metadata": {},
   "outputs": [
    {
     "name": "stdout",
     "output_type": "stream",
     "text": [
      "The rankings match between the old and new frameworks.\n"
     ]
    }
   ],
   "source": [
    "old,new=sim_frameworks(\n",
    "    n_badgeholders=n_badgeholders,\n",
    "    total_funds=total_funds,\n",
    "    min_vote=min_vote,\n",
    "    max_vote=max_vote,\n",
    "    badgeholder_expertise_vec=badgeholder_expertise_vec,\n",
    "    badgeholder_laziness_vec=badgeholder_laziness_vec,\n",
    "    n_projects=n_projects,\n",
    "    project_impact_vec=project_impact_vec,\n",
    "    q=q,\n",
    "    scoring_fn=scoring_fn\n",
    ")\n",
    "plot_comparison_histograms(old,new)\n",
    "compare_rankings(old, new, False)\n",
    "# i think i might also like an avg so i can see if they all move by one or if they are moving by a lot\n"
   ]
  },
  {
   "cell_type": "markdown",
   "metadata": {},
   "source": [
    "#test variable inputs"
   ]
  },
  {
   "cell_type": "code",
   "execution_count": null,
   "metadata": {},
   "outputs": [],
   "source": [
    "np.random.seed(42)\n",
    "\n",
    "n_badgeholders_stress_test=(10,50,100,200)\n",
    "total_funds_stress_test=(10,100,500)\n",
    "badgeholder_expertise_vec_stress_test=[np.random.rand(n_badgeholders) for i in range(3)]\n",
    "badgeholder_laziness_vec_stress_test=[np.random.rand(n_badgeholders) for i in range(3)]\n",
    "project_impact_vec_stress_test=[np.random.rand(n_badgeholders) for i in range(3)]\n",
    "\n",
    "experiment_cfgs = []\n",
    "for n_badgeholders in n_badgeholders_stress_test:\n",
    "    for total_funds in total_funds_stress_test:\n",
    "        for badgeholder_expertise_vec in badgeholder_expertise_vec_stress_test:\n",
    "            for badgeholder_laziness_vec in badgeholder_laziness_vec_stress_test:\n",
    "                for project_impact_vec in project_impact_vec_stress_test:\n",
    "                    experiment_cfgs.append((n_badgeholders, total_funds, badgeholder_expertise_vec, badgeholder_laziness_vec, project_impact_vec))\n",
    "\n",
    "\n",
    "for experiment_cfg in tqdm(experiment_cfgs):\n",
    "    n_badgeholders,total_funds,badgeholder_expertise_vec,badgeholder_laziness_vec,project_impact_vec=experiment_cfgs\n",
    "    \n",
    "    old,new=sim_frameworks(\n",
    "        n_badgeholders=n_badgeholders,\n",
    "        total_funds=total_funds,\n",
    "        min_vote=min_vote,\n",
    "        max_vote=max_vote,\n",
    "        badgeholder_expertise_vec=badgeholder_expertise_vec,\n",
    "        badgeholder_laziness_vec=badgeholder_laziness_vec,\n",
    "        n_projects=n_projects,\n",
    "        project_impact_vec=project_impact_vec,\n",
    "        q=q,\n",
    "        scoring_fn=scoring_fn\n",
    "    )\n",
    "    rankings_match=compare_rankings(old, new, False)\n",
    "    if rankings_match==False:\n",
    "        print(f\"n_badgeholders,total_funds,badgeholder_expertise_vec,badgeholder_laziness_vec,project_impact_vec\")"
   ]
  },
  {
   "cell_type": "code",
   "execution_count": null,
   "metadata": {},
   "outputs": [
    {
     "name": "stderr",
     "output_type": "stream",
     "text": [
      "  0%|▏                                                                                 | 2/768 [00:00<03:01,  4.23it/s]"
     ]
    },
    {
     "name": "stdout",
     "output_type": "stream",
     "text": [
      "The rankings match between the old and new frameworks.\n",
      "The rankings match between the old and new frameworks.\n"
     ]
    },
    {
     "name": "stderr",
     "output_type": "stream",
     "text": [
      "  0%|▎                                                                                 | 3/768 [00:00<02:24,  5.29it/s]"
     ]
    },
    {
     "name": "stdout",
     "output_type": "stream",
     "text": [
      "The rankings match between the old and new frameworks.\n"
     ]
    },
    {
     "name": "stderr",
     "output_type": "stream",
     "text": [
      "  1%|▌                                                                                 | 5/768 [00:01<02:16,  5.60it/s]"
     ]
    },
    {
     "name": "stdout",
     "output_type": "stream",
     "text": [
      "The rankings match between the old and new frameworks.\n",
      "The rankings match between the old and new frameworks.\n"
     ]
    },
    {
     "name": "stderr",
     "output_type": "stream",
     "text": [
      "  1%|▋                                                                                 | 7/768 [00:01<01:49,  6.95it/s]"
     ]
    },
    {
     "name": "stdout",
     "output_type": "stream",
     "text": [
      "The rankings match between the old and new frameworks.\n",
      "The rankings match between the old and new frameworks.\n"
     ]
    },
    {
     "name": "stderr",
     "output_type": "stream",
     "text": [
      "  1%|▉                                                                                 | 9/768 [00:01<01:40,  7.52it/s]"
     ]
    },
    {
     "name": "stdout",
     "output_type": "stream",
     "text": [
      "The rankings match between the old and new frameworks.\n",
      "The rankings match between the old and new frameworks.\n"
     ]
    },
    {
     "name": "stderr",
     "output_type": "stream",
     "text": [
      "  1%|█▏                                                                               | 11/768 [00:01<01:38,  7.70it/s]"
     ]
    },
    {
     "name": "stdout",
     "output_type": "stream",
     "text": [
      "The rankings match between the old and new frameworks.\n",
      "The rankings match between the old and new frameworks.\n"
     ]
    },
    {
     "name": "stderr",
     "output_type": "stream",
     "text": [
      "  2%|█▎                                                                               | 12/768 [00:01<01:36,  7.86it/s]C:\\Users\\Martingale Guest\\anaconda3\\envs\\quorum-voting-env\\lib\\site-packages\\numpy\\core\\fromnumeric.py:3464: RuntimeWarning: Mean of empty slice.\n",
      "  return _methods._mean(a, axis=axis, dtype=dtype,\n",
      "C:\\Users\\Martingale Guest\\anaconda3\\envs\\quorum-voting-env\\lib\\site-packages\\numpy\\core\\_methods.py:192: RuntimeWarning: invalid value encountered in scalar divide\n",
      "  ret = ret.dtype.type(ret / rcount)\n"
     ]
    },
    {
     "name": "stdout",
     "output_type": "stream",
     "text": [
      "The rankings match between the old and new frameworks.\n"
     ]
    },
    {
     "name": "stderr",
     "output_type": "stream",
     "text": [
      "  2%|█▌                                                                               | 15/768 [00:03<03:12,  3.92it/s]"
     ]
    },
    {
     "name": "stdout",
     "output_type": "stream",
     "text": [
      "The rankings match between the old and new frameworks.\n",
      "The rankings match between the old and new frameworks.\n",
      "The rankings match between the old and new frameworks.\n",
      "The rankings match between the old and new frameworks.\n"
     ]
    },
    {
     "name": "stderr",
     "output_type": "stream",
     "text": [
      "  2%|█▉                                                                               | 18/768 [00:03<02:13,  5.61it/s]"
     ]
    },
    {
     "name": "stdout",
     "output_type": "stream",
     "text": [
      "The rankings match between the old and new frameworks.\n",
      "The rankings match between the old and new frameworks.\n"
     ]
    },
    {
     "name": "stderr",
     "output_type": "stream",
     "text": [
      "  3%|██                                                                               | 20/768 [00:03<01:57,  6.38it/s]"
     ]
    },
    {
     "name": "stdout",
     "output_type": "stream",
     "text": [
      "The rankings match between the old and new frameworks.\n",
      "The rankings match between the old and new frameworks.\n"
     ]
    },
    {
     "name": "stderr",
     "output_type": "stream",
     "text": [
      "  3%|██▎                                                                              | 22/768 [00:03<01:44,  7.13it/s]"
     ]
    },
    {
     "name": "stdout",
     "output_type": "stream",
     "text": [
      "The rankings match between the old and new frameworks.\n",
      "The rankings match between the old and new frameworks.\n"
     ]
    },
    {
     "name": "stderr",
     "output_type": "stream",
     "text": [
      "  3%|██▌                                                                              | 24/768 [00:04<01:31,  8.09it/s]"
     ]
    },
    {
     "name": "stdout",
     "output_type": "stream",
     "text": [
      "The rankings match between the old and new frameworks.\n",
      "The rankings match between the old and new frameworks.\n"
     ]
    },
    {
     "name": "stderr",
     "output_type": "stream",
     "text": [
      "  3%|██▋                                                                              | 26/768 [00:04<01:35,  7.78it/s]"
     ]
    },
    {
     "name": "stdout",
     "output_type": "stream",
     "text": [
      "The rankings match between the old and new frameworks.\n",
      "The rankings match between the old and new frameworks.\n"
     ]
    },
    {
     "name": "stderr",
     "output_type": "stream",
     "text": [
      "  4%|██▉                                                                              | 28/768 [00:04<01:28,  8.33it/s]"
     ]
    },
    {
     "name": "stdout",
     "output_type": "stream",
     "text": [
      "The rankings match between the old and new frameworks.\n",
      "The rankings match between the old and new frameworks.\n"
     ]
    },
    {
     "name": "stderr",
     "output_type": "stream",
     "text": [
      "  4%|███▎                                                                             | 31/768 [00:05<01:27,  8.43it/s]"
     ]
    },
    {
     "name": "stdout",
     "output_type": "stream",
     "text": [
      "The rankings match between the old and new frameworks.\n",
      "The rankings match between the old and new frameworks.\n",
      "The rankings match between the old and new frameworks.\n"
     ]
    },
    {
     "name": "stderr",
     "output_type": "stream",
     "text": [
      "  4%|███▍                                                                             | 33/768 [00:05<01:35,  7.68it/s]"
     ]
    },
    {
     "name": "stdout",
     "output_type": "stream",
     "text": [
      "The rankings match between the old and new frameworks.\n",
      "The rankings match between the old and new frameworks.\n"
     ]
    },
    {
     "name": "stderr",
     "output_type": "stream",
     "text": [
      "  5%|███▋                                                                             | 35/768 [00:05<01:33,  7.83it/s]"
     ]
    },
    {
     "name": "stdout",
     "output_type": "stream",
     "text": [
      "The rankings match between the old and new frameworks.\n",
      "The rankings match between the old and new frameworks.\n"
     ]
    },
    {
     "name": "stderr",
     "output_type": "stream",
     "text": [
      "  5%|███▉                                                                             | 37/768 [00:05<01:31,  7.99it/s]"
     ]
    },
    {
     "name": "stdout",
     "output_type": "stream",
     "text": [
      "The rankings match between the old and new frameworks.\n",
      "The rankings match between the old and new frameworks.\n"
     ]
    },
    {
     "name": "stderr",
     "output_type": "stream",
     "text": [
      "  5%|████                                                                             | 38/768 [00:05<01:33,  7.78it/s]"
     ]
    },
    {
     "name": "stdout",
     "output_type": "stream",
     "text": [
      "The rankings match between the old and new frameworks.\n"
     ]
    },
    {
     "name": "stderr",
     "output_type": "stream",
     "text": [
      "  5%|████▎                                                                            | 41/768 [00:06<01:32,  7.84it/s]"
     ]
    },
    {
     "name": "stdout",
     "output_type": "stream",
     "text": [
      "The rankings match between the old and new frameworks.\n",
      "The rankings match between the old and new frameworks.\n",
      "The rankings match between the old and new frameworks.\n"
     ]
    },
    {
     "name": "stderr",
     "output_type": "stream",
     "text": [
      "  6%|████▋                                                                            | 44/768 [00:06<01:20,  9.04it/s]"
     ]
    },
    {
     "name": "stdout",
     "output_type": "stream",
     "text": [
      "The rankings match between the old and new frameworks.\n",
      "The rankings match between the old and new frameworks.\n",
      "The rankings match between the old and new frameworks.\n"
     ]
    },
    {
     "name": "stderr",
     "output_type": "stream",
     "text": [
      "  6%|█████                                                                            | 48/768 [00:06<01:01, 11.68it/s]"
     ]
    },
    {
     "name": "stdout",
     "output_type": "stream",
     "text": [
      "The rankings match between the old and new frameworks.\n",
      "The rankings match between the old and new frameworks.\n",
      "The rankings match between the old and new frameworks.\n",
      "The rankings match between the old and new frameworks.\n"
     ]
    },
    {
     "name": "stderr",
     "output_type": "stream",
     "text": [
      "  7%|█████▎                                                                           | 50/768 [00:07<01:16,  9.37it/s]"
     ]
    },
    {
     "name": "stdout",
     "output_type": "stream",
     "text": [
      "The rankings match between the old and new frameworks.\n",
      "The rankings match between the old and new frameworks.\n",
      "The rankings match between the old and new frameworks.\n"
     ]
    },
    {
     "name": "stderr",
     "output_type": "stream",
     "text": [
      "  7%|█████▌                                                                           | 53/768 [00:07<01:50,  6.46it/s]"
     ]
    },
    {
     "name": "stdout",
     "output_type": "stream",
     "text": [
      "The rankings match between the old and new frameworks.\n",
      "The rankings match between the old and new frameworks.\n"
     ]
    },
    {
     "name": "stderr",
     "output_type": "stream",
     "text": [
      "  7%|█████▊                                                                           | 55/768 [00:08<01:38,  7.26it/s]"
     ]
    },
    {
     "name": "stdout",
     "output_type": "stream",
     "text": [
      "The rankings match between the old and new frameworks.\n",
      "The rankings match between the old and new frameworks.\n"
     ]
    },
    {
     "name": "stderr",
     "output_type": "stream",
     "text": [
      "  7%|██████                                                                           | 57/768 [00:08<01:38,  7.24it/s]"
     ]
    },
    {
     "name": "stdout",
     "output_type": "stream",
     "text": [
      "The rankings match between the old and new frameworks.\n",
      "The rankings match between the old and new frameworks.\n"
     ]
    },
    {
     "name": "stderr",
     "output_type": "stream",
     "text": [
      "  8%|██████▏                                                                          | 59/768 [00:08<01:27,  8.09it/s]"
     ]
    },
    {
     "name": "stdout",
     "output_type": "stream",
     "text": [
      "The rankings match between the old and new frameworks.\n",
      "The rankings match between the old and new frameworks.\n"
     ]
    },
    {
     "name": "stderr",
     "output_type": "stream",
     "text": [
      "  8%|██████▌                                                                          | 62/768 [00:08<01:16,  9.28it/s]"
     ]
    },
    {
     "name": "stdout",
     "output_type": "stream",
     "text": [
      "The rankings match between the old and new frameworks.\n",
      "The rankings match between the old and new frameworks.\n",
      "The rankings match between the old and new frameworks.\n"
     ]
    },
    {
     "name": "stderr",
     "output_type": "stream",
     "text": [
      "  8%|██████▊                                                                          | 64/768 [00:09<01:07, 10.36it/s]"
     ]
    },
    {
     "name": "stdout",
     "output_type": "stream",
     "text": [
      "The rankings match between the old and new frameworks.\n",
      "The rankings match between the old and new frameworks.\n",
      "The rankings match between the old and new frameworks.\n"
     ]
    },
    {
     "name": "stderr",
     "output_type": "stream",
     "text": [
      "  9%|██████▉                                                                          | 66/768 [00:12<06:52,  1.70it/s]"
     ]
    },
    {
     "name": "stdout",
     "output_type": "stream",
     "text": [
      "The rankings match between the old and new frameworks.\n"
     ]
    },
    {
     "name": "stderr",
     "output_type": "stream",
     "text": [
      "  9%|███████                                                                          | 67/768 [00:13<08:41,  1.34it/s]"
     ]
    },
    {
     "name": "stdout",
     "output_type": "stream",
     "text": [
      "The rankings match between the old and new frameworks.\n"
     ]
    },
    {
     "name": "stderr",
     "output_type": "stream",
     "text": [
      "  9%|███████▏                                                                         | 68/768 [00:14<10:19,  1.13it/s]"
     ]
    },
    {
     "name": "stdout",
     "output_type": "stream",
     "text": [
      "The rankings match between the old and new frameworks.\n"
     ]
    },
    {
     "name": "stderr",
     "output_type": "stream",
     "text": [
      "  9%|███████▎                                                                         | 69/768 [00:16<11:49,  1.01s/it]"
     ]
    },
    {
     "name": "stdout",
     "output_type": "stream",
     "text": [
      "The rankings match between the old and new frameworks.\n"
     ]
    },
    {
     "name": "stderr",
     "output_type": "stream",
     "text": [
      "  9%|███████▍                                                                         | 70/768 [00:17<13:13,  1.14s/it]"
     ]
    },
    {
     "name": "stdout",
     "output_type": "stream",
     "text": [
      "The rankings match between the old and new frameworks.\n"
     ]
    },
    {
     "name": "stderr",
     "output_type": "stream",
     "text": [
      "  9%|███████▍                                                                         | 71/768 [00:19<14:39,  1.26s/it]"
     ]
    },
    {
     "name": "stdout",
     "output_type": "stream",
     "text": [
      "The rankings match between the old and new frameworks.\n"
     ]
    },
    {
     "name": "stderr",
     "output_type": "stream",
     "text": [
      "  9%|███████▌                                                                         | 72/768 [00:20<15:07,  1.30s/it]"
     ]
    },
    {
     "name": "stdout",
     "output_type": "stream",
     "text": [
      "The rankings match between the old and new frameworks.\n"
     ]
    },
    {
     "name": "stderr",
     "output_type": "stream",
     "text": [
      " 10%|███████▋                                                                         | 73/768 [00:21<14:35,  1.26s/it]"
     ]
    },
    {
     "name": "stdout",
     "output_type": "stream",
     "text": [
      "The rankings match between the old and new frameworks.\n"
     ]
    },
    {
     "name": "stderr",
     "output_type": "stream",
     "text": [
      " 10%|███████▊                                                                         | 74/768 [00:23<14:52,  1.29s/it]"
     ]
    },
    {
     "name": "stdout",
     "output_type": "stream",
     "text": [
      "The rankings match between the old and new frameworks.\n"
     ]
    },
    {
     "name": "stderr",
     "output_type": "stream",
     "text": [
      " 10%|███████▉                                                                         | 75/768 [00:24<14:50,  1.28s/it]"
     ]
    },
    {
     "name": "stdout",
     "output_type": "stream",
     "text": [
      "The rankings match between the old and new frameworks.\n"
     ]
    },
    {
     "name": "stderr",
     "output_type": "stream",
     "text": [
      " 10%|████████                                                                         | 76/768 [00:25<14:31,  1.26s/it]"
     ]
    },
    {
     "name": "stdout",
     "output_type": "stream",
     "text": [
      "The rankings match between the old and new frameworks.\n"
     ]
    },
    {
     "name": "stderr",
     "output_type": "stream",
     "text": [
      " 10%|████████                                                                         | 77/768 [00:26<12:08,  1.05s/it]"
     ]
    },
    {
     "name": "stdout",
     "output_type": "stream",
     "text": [
      "The rankings match between the old and new frameworks.\n"
     ]
    },
    {
     "name": "stderr",
     "output_type": "stream",
     "text": [
      " 10%|████████▏                                                                        | 78/768 [00:26<10:42,  1.07it/s]"
     ]
    },
    {
     "name": "stdout",
     "output_type": "stream",
     "text": [
      "The rankings match between the old and new frameworks.\n"
     ]
    },
    {
     "name": "stderr",
     "output_type": "stream",
     "text": [
      " 10%|████████▎                                                                        | 79/768 [00:27<10:08,  1.13it/s]"
     ]
    },
    {
     "name": "stdout",
     "output_type": "stream",
     "text": [
      "The rankings match between the old and new frameworks.\n"
     ]
    },
    {
     "name": "stderr",
     "output_type": "stream",
     "text": [
      " 10%|████████▍                                                                        | 80/768 [00:28<09:07,  1.26it/s]"
     ]
    },
    {
     "name": "stdout",
     "output_type": "stream",
     "text": [
      "The rankings match between the old and new frameworks.\n"
     ]
    },
    {
     "name": "stderr",
     "output_type": "stream",
     "text": [
      " 11%|████████▌                                                                        | 81/768 [00:29<11:05,  1.03it/s]"
     ]
    },
    {
     "name": "stdout",
     "output_type": "stream",
     "text": [
      "The rankings match between the old and new frameworks.\n"
     ]
    },
    {
     "name": "stderr",
     "output_type": "stream",
     "text": [
      " 11%|████████▋                                                                        | 82/768 [00:31<12:42,  1.11s/it]"
     ]
    },
    {
     "name": "stdout",
     "output_type": "stream",
     "text": [
      "The rankings match between the old and new frameworks.\n"
     ]
    },
    {
     "name": "stderr",
     "output_type": "stream",
     "text": [
      " 11%|████████▊                                                                        | 83/768 [00:32<13:22,  1.17s/it]"
     ]
    },
    {
     "name": "stdout",
     "output_type": "stream",
     "text": [
      "The rankings match between the old and new frameworks.\n"
     ]
    },
    {
     "name": "stderr",
     "output_type": "stream",
     "text": [
      " 11%|████████▊                                                                        | 84/768 [00:33<14:02,  1.23s/it]"
     ]
    },
    {
     "name": "stdout",
     "output_type": "stream",
     "text": [
      "The rankings match between the old and new frameworks.\n"
     ]
    },
    {
     "name": "stderr",
     "output_type": "stream",
     "text": [
      " 11%|████████▉                                                                        | 85/768 [00:35<15:19,  1.35s/it]"
     ]
    },
    {
     "name": "stdout",
     "output_type": "stream",
     "text": [
      "The rankings match between the old and new frameworks.\n"
     ]
    },
    {
     "name": "stderr",
     "output_type": "stream",
     "text": [
      " 11%|█████████                                                                        | 86/768 [00:36<15:36,  1.37s/it]"
     ]
    },
    {
     "name": "stdout",
     "output_type": "stream",
     "text": [
      "The rankings match between the old and new frameworks.\n"
     ]
    },
    {
     "name": "stderr",
     "output_type": "stream",
     "text": [
      " 11%|█████████▏                                                                       | 87/768 [00:38<15:58,  1.41s/it]"
     ]
    },
    {
     "name": "stdout",
     "output_type": "stream",
     "text": [
      "The rankings match between the old and new frameworks.\n"
     ]
    },
    {
     "name": "stderr",
     "output_type": "stream",
     "text": [
      " 11%|█████████▎                                                                       | 88/768 [00:39<16:15,  1.43s/it]"
     ]
    },
    {
     "name": "stdout",
     "output_type": "stream",
     "text": [
      "The rankings match between the old and new frameworks.\n"
     ]
    },
    {
     "name": "stderr",
     "output_type": "stream",
     "text": [
      " 12%|█████████▍                                                                       | 89/768 [00:41<15:58,  1.41s/it]"
     ]
    },
    {
     "name": "stdout",
     "output_type": "stream",
     "text": [
      "The rankings match between the old and new frameworks.\n"
     ]
    },
    {
     "name": "stderr",
     "output_type": "stream",
     "text": [
      " 12%|█████████▍                                                                       | 90/768 [00:42<15:04,  1.33s/it]"
     ]
    },
    {
     "name": "stdout",
     "output_type": "stream",
     "text": [
      "The rankings match between the old and new frameworks.\n"
     ]
    },
    {
     "name": "stderr",
     "output_type": "stream",
     "text": [
      " 12%|█████████▌                                                                       | 91/768 [00:43<14:30,  1.29s/it]"
     ]
    },
    {
     "name": "stdout",
     "output_type": "stream",
     "text": [
      "The rankings match between the old and new frameworks.\n"
     ]
    },
    {
     "name": "stderr",
     "output_type": "stream",
     "text": [
      " 12%|█████████▋                                                                       | 92/768 [00:44<14:03,  1.25s/it]"
     ]
    },
    {
     "name": "stdout",
     "output_type": "stream",
     "text": [
      "The rankings match between the old and new frameworks.\n"
     ]
    },
    {
     "name": "stderr",
     "output_type": "stream",
     "text": [
      " 12%|█████████▊                                                                       | 93/768 [00:45<12:01,  1.07s/it]"
     ]
    },
    {
     "name": "stdout",
     "output_type": "stream",
     "text": [
      "The rankings match between the old and new frameworks.\n"
     ]
    },
    {
     "name": "stderr",
     "output_type": "stream",
     "text": [
      " 12%|█████████▉                                                                       | 94/768 [00:46<11:12,  1.00it/s]"
     ]
    },
    {
     "name": "stdout",
     "output_type": "stream",
     "text": [
      "The rankings match between the old and new frameworks.\n"
     ]
    },
    {
     "name": "stderr",
     "output_type": "stream",
     "text": [
      " 12%|██████████                                                                       | 95/768 [00:46<09:55,  1.13it/s]"
     ]
    },
    {
     "name": "stdout",
     "output_type": "stream",
     "text": [
      "The rankings match between the old and new frameworks.\n"
     ]
    },
    {
     "name": "stderr",
     "output_type": "stream",
     "text": [
      " 12%|██████████▏                                                                      | 96/768 [00:47<08:46,  1.28it/s]"
     ]
    },
    {
     "name": "stdout",
     "output_type": "stream",
     "text": [
      "The rankings match between the old and new frameworks.\n"
     ]
    },
    {
     "name": "stderr",
     "output_type": "stream",
     "text": [
      " 13%|██████████▏                                                                      | 97/768 [00:48<10:29,  1.07it/s]"
     ]
    },
    {
     "name": "stdout",
     "output_type": "stream",
     "text": [
      "The rankings match between the old and new frameworks.\n"
     ]
    },
    {
     "name": "stderr",
     "output_type": "stream",
     "text": [
      " 13%|██████████▎                                                                      | 98/768 [00:50<12:29,  1.12s/it]"
     ]
    },
    {
     "name": "stdout",
     "output_type": "stream",
     "text": [
      "The rankings match between the old and new frameworks.\n"
     ]
    },
    {
     "name": "stderr",
     "output_type": "stream",
     "text": [
      " 13%|██████████▍                                                                      | 99/768 [00:51<13:25,  1.20s/it]"
     ]
    },
    {
     "name": "stdout",
     "output_type": "stream",
     "text": [
      "The rankings match between the old and new frameworks.\n"
     ]
    },
    {
     "name": "stderr",
     "output_type": "stream",
     "text": [
      " 13%|██████████▍                                                                     | 100/768 [00:52<14:03,  1.26s/it]"
     ]
    },
    {
     "name": "stdout",
     "output_type": "stream",
     "text": [
      "The rankings match between the old and new frameworks.\n"
     ]
    },
    {
     "name": "stderr",
     "output_type": "stream",
     "text": [
      " 13%|██████████▌                                                                     | 101/768 [00:54<14:10,  1.27s/it]"
     ]
    },
    {
     "name": "stdout",
     "output_type": "stream",
     "text": [
      "The rankings match between the old and new frameworks.\n"
     ]
    },
    {
     "name": "stderr",
     "output_type": "stream",
     "text": [
      " 13%|██████████▋                                                                     | 102/768 [00:55<14:19,  1.29s/it]"
     ]
    },
    {
     "name": "stdout",
     "output_type": "stream",
     "text": [
      "The rankings match between the old and new frameworks.\n"
     ]
    },
    {
     "name": "stderr",
     "output_type": "stream",
     "text": [
      " 13%|██████████▋                                                                     | 103/768 [00:57<15:27,  1.39s/it]"
     ]
    },
    {
     "name": "stdout",
     "output_type": "stream",
     "text": [
      "The rankings match between the old and new frameworks.\n"
     ]
    },
    {
     "name": "stderr",
     "output_type": "stream",
     "text": [
      " 14%|██████████▊                                                                     | 104/768 [00:58<15:08,  1.37s/it]"
     ]
    },
    {
     "name": "stdout",
     "output_type": "stream",
     "text": [
      "The rankings match between the old and new frameworks.\n"
     ]
    },
    {
     "name": "stderr",
     "output_type": "stream",
     "text": [
      " 14%|██████████▉                                                                     | 105/768 [00:59<14:12,  1.29s/it]"
     ]
    },
    {
     "name": "stdout",
     "output_type": "stream",
     "text": [
      "The rankings match between the old and new frameworks.\n"
     ]
    },
    {
     "name": "stderr",
     "output_type": "stream",
     "text": [
      " 14%|███████████                                                                     | 106/768 [01:00<13:50,  1.25s/it]"
     ]
    },
    {
     "name": "stdout",
     "output_type": "stream",
     "text": [
      "The rankings match between the old and new frameworks.\n"
     ]
    },
    {
     "name": "stderr",
     "output_type": "stream",
     "text": [
      " 14%|███████████▏                                                                    | 107/768 [01:02<14:16,  1.30s/it]"
     ]
    },
    {
     "name": "stdout",
     "output_type": "stream",
     "text": [
      "The rankings match between the old and new frameworks.\n"
     ]
    },
    {
     "name": "stderr",
     "output_type": "stream",
     "text": [
      " 14%|███████████▎                                                                    | 108/768 [01:03<13:28,  1.23s/it]"
     ]
    },
    {
     "name": "stdout",
     "output_type": "stream",
     "text": [
      "The rankings match between the old and new frameworks.\n"
     ]
    },
    {
     "name": "stderr",
     "output_type": "stream",
     "text": [
      " 14%|███████████▎                                                                    | 109/768 [01:03<11:11,  1.02s/it]"
     ]
    },
    {
     "name": "stdout",
     "output_type": "stream",
     "text": [
      "The rankings match between the old and new frameworks.\n"
     ]
    },
    {
     "name": "stderr",
     "output_type": "stream",
     "text": [
      " 14%|███████████▍                                                                    | 110/768 [01:04<09:38,  1.14it/s]"
     ]
    },
    {
     "name": "stdout",
     "output_type": "stream",
     "text": [
      "The rankings match between the old and new frameworks.\n"
     ]
    },
    {
     "name": "stderr",
     "output_type": "stream",
     "text": [
      " 14%|███████████▌                                                                    | 111/768 [01:04<08:32,  1.28it/s]"
     ]
    },
    {
     "name": "stdout",
     "output_type": "stream",
     "text": [
      "The rankings match between the old and new frameworks.\n"
     ]
    },
    {
     "name": "stderr",
     "output_type": "stream",
     "text": [
      " 15%|███████████▋                                                                    | 112/768 [01:05<08:19,  1.31it/s]"
     ]
    },
    {
     "name": "stdout",
     "output_type": "stream",
     "text": [
      "The rankings match between the old and new frameworks.\n"
     ]
    },
    {
     "name": "stderr",
     "output_type": "stream",
     "text": [
      " 15%|███████████▊                                                                    | 113/768 [01:06<10:19,  1.06it/s]"
     ]
    },
    {
     "name": "stdout",
     "output_type": "stream",
     "text": [
      "The rankings match between the old and new frameworks.\n"
     ]
    },
    {
     "name": "stderr",
     "output_type": "stream",
     "text": [
      " 15%|███████████▉                                                                    | 114/768 [01:08<11:39,  1.07s/it]"
     ]
    },
    {
     "name": "stdout",
     "output_type": "stream",
     "text": [
      "The rankings match between the old and new frameworks.\n"
     ]
    },
    {
     "name": "stderr",
     "output_type": "stream",
     "text": [
      " 15%|███████████▉                                                                    | 115/768 [01:09<12:33,  1.15s/it]"
     ]
    },
    {
     "name": "stdout",
     "output_type": "stream",
     "text": [
      "The rankings match between the old and new frameworks.\n"
     ]
    },
    {
     "name": "stderr",
     "output_type": "stream",
     "text": [
      " 15%|████████████                                                                    | 116/768 [01:11<13:28,  1.24s/it]"
     ]
    },
    {
     "name": "stdout",
     "output_type": "stream",
     "text": [
      "The rankings match between the old and new frameworks.\n"
     ]
    },
    {
     "name": "stderr",
     "output_type": "stream",
     "text": [
      " 15%|████████████▏                                                                   | 117/768 [01:12<13:29,  1.24s/it]"
     ]
    },
    {
     "name": "stdout",
     "output_type": "stream",
     "text": [
      "The rankings match between the old and new frameworks.\n"
     ]
    },
    {
     "name": "stderr",
     "output_type": "stream",
     "text": [
      " 15%|████████████▎                                                                   | 118/768 [01:13<13:59,  1.29s/it]"
     ]
    },
    {
     "name": "stdout",
     "output_type": "stream",
     "text": [
      "The rankings match between the old and new frameworks.\n"
     ]
    },
    {
     "name": "stderr",
     "output_type": "stream",
     "text": [
      " 15%|████████████▍                                                                   | 119/768 [01:15<14:12,  1.31s/it]"
     ]
    },
    {
     "name": "stdout",
     "output_type": "stream",
     "text": [
      "The rankings match between the old and new frameworks.\n"
     ]
    },
    {
     "name": "stderr",
     "output_type": "stream",
     "text": [
      " 16%|████████████▌                                                                   | 120/768 [01:16<14:38,  1.36s/it]"
     ]
    },
    {
     "name": "stdout",
     "output_type": "stream",
     "text": [
      "The rankings match between the old and new frameworks.\n"
     ]
    },
    {
     "name": "stderr",
     "output_type": "stream",
     "text": [
      " 16%|████████████▌                                                                   | 121/768 [01:17<14:32,  1.35s/it]"
     ]
    },
    {
     "name": "stdout",
     "output_type": "stream",
     "text": [
      "The rankings match between the old and new frameworks.\n"
     ]
    },
    {
     "name": "stderr",
     "output_type": "stream",
     "text": [
      " 16%|████████████▋                                                                   | 122/768 [01:19<13:57,  1.30s/it]"
     ]
    },
    {
     "name": "stdout",
     "output_type": "stream",
     "text": [
      "The rankings match between the old and new frameworks.\n"
     ]
    },
    {
     "name": "stderr",
     "output_type": "stream",
     "text": [
      " 16%|████████████▊                                                                   | 123/768 [01:20<13:31,  1.26s/it]"
     ]
    },
    {
     "name": "stdout",
     "output_type": "stream",
     "text": [
      "The rankings match between the old and new frameworks.\n"
     ]
    },
    {
     "name": "stderr",
     "output_type": "stream",
     "text": [
      " 16%|████████████▉                                                                   | 124/768 [01:21<13:13,  1.23s/it]"
     ]
    },
    {
     "name": "stdout",
     "output_type": "stream",
     "text": [
      "The rankings match between the old and new frameworks.\n"
     ]
    },
    {
     "name": "stderr",
     "output_type": "stream",
     "text": [
      " 16%|█████████████                                                                   | 125/768 [01:22<11:44,  1.10s/it]"
     ]
    },
    {
     "name": "stdout",
     "output_type": "stream",
     "text": [
      "The rankings match between the old and new frameworks.\n"
     ]
    },
    {
     "name": "stderr",
     "output_type": "stream",
     "text": [
      " 16%|█████████████▏                                                                  | 126/768 [01:22<10:19,  1.04it/s]"
     ]
    },
    {
     "name": "stdout",
     "output_type": "stream",
     "text": [
      "The rankings match between the old and new frameworks.\n"
     ]
    },
    {
     "name": "stderr",
     "output_type": "stream",
     "text": [
      " 17%|█████████████▏                                                                  | 127/768 [01:23<09:05,  1.17it/s]"
     ]
    },
    {
     "name": "stdout",
     "output_type": "stream",
     "text": [
      "The rankings match between the old and new frameworks.\n"
     ]
    },
    {
     "name": "stderr",
     "output_type": "stream",
     "text": [
      " 17%|█████████████▎                                                                  | 128/768 [01:24<08:20,  1.28it/s]"
     ]
    },
    {
     "name": "stdout",
     "output_type": "stream",
     "text": [
      "The rankings match between the old and new frameworks.\n"
     ]
    },
    {
     "name": "stderr",
     "output_type": "stream",
     "text": [
      " 17%|█████████████▍                                                                  | 129/768 [01:33<35:36,  3.34s/it]"
     ]
    },
    {
     "name": "stdout",
     "output_type": "stream",
     "text": [
      "The rankings match between the old and new frameworks.\n"
     ]
    },
    {
     "name": "stderr",
     "output_type": "stream",
     "text": [
      " 17%|█████████████▌                                                                  | 130/768 [01:41<51:48,  4.87s/it]"
     ]
    },
    {
     "name": "stdout",
     "output_type": "stream",
     "text": [
      "The rankings match between the old and new frameworks.\n"
     ]
    },
    {
     "name": "stderr",
     "output_type": "stream",
     "text": [
      " 17%|█████████████▎                                                                | 131/768 [01:52<1:09:03,  6.50s/it]"
     ]
    },
    {
     "name": "stdout",
     "output_type": "stream",
     "text": [
      "The rankings match between the old and new frameworks.\n"
     ]
    },
    {
     "name": "stderr",
     "output_type": "stream",
     "text": [
      " 17%|█████████████▍                                                                | 132/768 [02:01<1:17:25,  7.30s/it]"
     ]
    },
    {
     "name": "stdout",
     "output_type": "stream",
     "text": [
      "The rankings match between the old and new frameworks.\n"
     ]
    },
    {
     "name": "stderr",
     "output_type": "stream",
     "text": [
      " 17%|█████████████▌                                                                | 133/768 [02:08<1:17:51,  7.36s/it]"
     ]
    },
    {
     "name": "stdout",
     "output_type": "stream",
     "text": [
      "The rankings match between the old and new frameworks.\n"
     ]
    },
    {
     "name": "stderr",
     "output_type": "stream",
     "text": [
      " 17%|█████████████▌                                                                | 134/768 [02:16<1:17:54,  7.37s/it]"
     ]
    },
    {
     "name": "stdout",
     "output_type": "stream",
     "text": [
      "The rankings match between the old and new frameworks.\n"
     ]
    },
    {
     "name": "stderr",
     "output_type": "stream",
     "text": [
      " 18%|█████████████▋                                                                | 135/768 [02:23<1:18:05,  7.40s/it]"
     ]
    },
    {
     "name": "stdout",
     "output_type": "stream",
     "text": [
      "The rankings match between the old and new frameworks.\n"
     ]
    },
    {
     "name": "stderr",
     "output_type": "stream",
     "text": [
      " 18%|█████████████▊                                                                | 136/768 [02:30<1:17:39,  7.37s/it]"
     ]
    },
    {
     "name": "stdout",
     "output_type": "stream",
     "text": [
      "The rankings match between the old and new frameworks.\n"
     ]
    },
    {
     "name": "stderr",
     "output_type": "stream",
     "text": [
      " 18%|█████████████▉                                                                | 137/768 [02:37<1:16:09,  7.24s/it]"
     ]
    },
    {
     "name": "stdout",
     "output_type": "stream",
     "text": [
      "The rankings match between the old and new frameworks.\n"
     ]
    },
    {
     "name": "stderr",
     "output_type": "stream",
     "text": [
      " 18%|██████████████                                                                | 138/768 [02:43<1:12:13,  6.88s/it]"
     ]
    },
    {
     "name": "stdout",
     "output_type": "stream",
     "text": [
      "The rankings match between the old and new frameworks.\n"
     ]
    },
    {
     "name": "stderr",
     "output_type": "stream",
     "text": [
      " 18%|██████████████                                                                | 139/768 [02:49<1:07:53,  6.48s/it]"
     ]
    },
    {
     "name": "stdout",
     "output_type": "stream",
     "text": [
      "The rankings match between the old and new frameworks.\n"
     ]
    },
    {
     "name": "stderr",
     "output_type": "stream",
     "text": [
      " 18%|██████████████▏                                                               | 140/768 [02:54<1:04:09,  6.13s/it]"
     ]
    },
    {
     "name": "stdout",
     "output_type": "stream",
     "text": [
      "The rankings match between the old and new frameworks.\n"
     ]
    },
    {
     "name": "stderr",
     "output_type": "stream",
     "text": [
      " 18%|██████████████▋                                                                 | 141/768 [02:57<53:31,  5.12s/it]"
     ]
    },
    {
     "name": "stdout",
     "output_type": "stream",
     "text": [
      "The rankings match between the old and new frameworks.\n"
     ]
    },
    {
     "name": "stderr",
     "output_type": "stream",
     "text": [
      " 18%|██████████████▊                                                                 | 142/768 [03:00<45:53,  4.40s/it]"
     ]
    },
    {
     "name": "stdout",
     "output_type": "stream",
     "text": [
      "The rankings match between the old and new frameworks.\n"
     ]
    },
    {
     "name": "stderr",
     "output_type": "stream",
     "text": [
      " 19%|██████████████▉                                                                 | 143/768 [03:02<40:34,  3.90s/it]"
     ]
    },
    {
     "name": "stdout",
     "output_type": "stream",
     "text": [
      "The rankings match between the old and new frameworks.\n"
     ]
    },
    {
     "name": "stderr",
     "output_type": "stream",
     "text": [
      " 19%|███████████████                                                                 | 144/768 [03:05<36:35,  3.52s/it]"
     ]
    },
    {
     "name": "stdout",
     "output_type": "stream",
     "text": [
      "The rankings match between the old and new frameworks.\n"
     ]
    },
    {
     "name": "stderr",
     "output_type": "stream",
     "text": [
      " 19%|███████████████                                                                 | 145/768 [03:14<53:52,  5.19s/it]"
     ]
    },
    {
     "name": "stdout",
     "output_type": "stream",
     "text": [
      "The rankings match between the old and new frameworks.\n"
     ]
    },
    {
     "name": "stderr",
     "output_type": "stream",
     "text": [
      " 19%|██████████████▊                                                               | 146/768 [03:23<1:06:25,  6.41s/it]"
     ]
    },
    {
     "name": "stdout",
     "output_type": "stream",
     "text": [
      "The rankings match between the old and new frameworks.\n"
     ]
    },
    {
     "name": "stderr",
     "output_type": "stream",
     "text": [
      " 19%|██████████████▉                                                               | 147/768 [03:33<1:14:59,  7.25s/it]"
     ]
    },
    {
     "name": "stdout",
     "output_type": "stream",
     "text": [
      "The rankings match between the old and new frameworks.\n"
     ]
    },
    {
     "name": "stderr",
     "output_type": "stream",
     "text": [
      " 19%|███████████████                                                               | 148/768 [03:44<1:26:15,  8.35s/it]"
     ]
    },
    {
     "name": "stdout",
     "output_type": "stream",
     "text": [
      "The rankings match between the old and new frameworks.\n"
     ]
    },
    {
     "name": "stderr",
     "output_type": "stream",
     "text": [
      " 19%|███████████████▏                                                              | 149/768 [03:52<1:26:55,  8.43s/it]"
     ]
    },
    {
     "name": "stdout",
     "output_type": "stream",
     "text": [
      "The rankings match between the old and new frameworks.\n"
     ]
    },
    {
     "name": "stderr",
     "output_type": "stream",
     "text": [
      " 20%|███████████████▏                                                              | 150/768 [04:01<1:26:40,  8.42s/it]"
     ]
    },
    {
     "name": "stdout",
     "output_type": "stream",
     "text": [
      "The rankings match between the old and new frameworks.\n"
     ]
    },
    {
     "name": "stderr",
     "output_type": "stream",
     "text": [
      " 20%|███████████████▎                                                              | 151/768 [04:09<1:25:50,  8.35s/it]"
     ]
    },
    {
     "name": "stdout",
     "output_type": "stream",
     "text": [
      "The rankings match between the old and new frameworks.\n"
     ]
    },
    {
     "name": "stderr",
     "output_type": "stream",
     "text": [
      " 20%|███████████████▍                                                              | 152/768 [04:16<1:21:37,  7.95s/it]"
     ]
    },
    {
     "name": "stdout",
     "output_type": "stream",
     "text": [
      "The rankings match between the old and new frameworks.\n"
     ]
    },
    {
     "name": "stderr",
     "output_type": "stream",
     "text": [
      " 20%|███████████████▌                                                              | 153/768 [04:21<1:14:19,  7.25s/it]"
     ]
    },
    {
     "name": "stdout",
     "output_type": "stream",
     "text": [
      "The rankings match between the old and new frameworks.\n"
     ]
    },
    {
     "name": "stderr",
     "output_type": "stream",
     "text": [
      " 20%|███████████████▋                                                              | 154/768 [04:27<1:08:13,  6.67s/it]"
     ]
    },
    {
     "name": "stdout",
     "output_type": "stream",
     "text": [
      "The rankings match between the old and new frameworks.\n"
     ]
    },
    {
     "name": "stderr",
     "output_type": "stream",
     "text": [
      " 20%|███████████████▋                                                              | 155/768 [04:32<1:03:27,  6.21s/it]"
     ]
    },
    {
     "name": "stdout",
     "output_type": "stream",
     "text": [
      "The rankings match between the old and new frameworks.\n"
     ]
    },
    {
     "name": "stderr",
     "output_type": "stream",
     "text": [
      " 20%|███████████████▊                                                              | 156/768 [04:37<1:00:58,  5.98s/it]"
     ]
    },
    {
     "name": "stdout",
     "output_type": "stream",
     "text": [
      "The rankings match between the old and new frameworks.\n"
     ]
    },
    {
     "name": "stderr",
     "output_type": "stream",
     "text": [
      " 20%|████████████████▎                                                               | 157/768 [04:40<50:32,  4.96s/it]"
     ]
    },
    {
     "name": "stdout",
     "output_type": "stream",
     "text": [
      "The rankings match between the old and new frameworks.\n"
     ]
    },
    {
     "name": "stderr",
     "output_type": "stream",
     "text": [
      " 21%|████████████████▍                                                               | 158/768 [04:43<43:35,  4.29s/it]"
     ]
    },
    {
     "name": "stdout",
     "output_type": "stream",
     "text": [
      "The rankings match between the old and new frameworks.\n"
     ]
    },
    {
     "name": "stderr",
     "output_type": "stream",
     "text": [
      " 21%|████████████████▌                                                               | 159/768 [04:45<38:46,  3.82s/it]"
     ]
    },
    {
     "name": "stdout",
     "output_type": "stream",
     "text": [
      "The rankings match between the old and new frameworks.\n"
     ]
    },
    {
     "name": "stderr",
     "output_type": "stream",
     "text": [
      " 21%|████████████████▋                                                               | 160/768 [04:48<35:10,  3.47s/it]"
     ]
    },
    {
     "name": "stdout",
     "output_type": "stream",
     "text": [
      "The rankings match between the old and new frameworks.\n"
     ]
    },
    {
     "name": "stderr",
     "output_type": "stream",
     "text": [
      " 21%|████████████████▊                                                               | 161/768 [04:56<48:35,  4.80s/it]"
     ]
    },
    {
     "name": "stdout",
     "output_type": "stream",
     "text": [
      "The rankings match between the old and new frameworks.\n"
     ]
    },
    {
     "name": "stderr",
     "output_type": "stream",
     "text": [
      " 21%|████████████████▉                                                               | 162/768 [05:04<57:51,  5.73s/it]"
     ]
    },
    {
     "name": "stdout",
     "output_type": "stream",
     "text": [
      "The rankings match between the old and new frameworks.\n"
     ]
    },
    {
     "name": "stderr",
     "output_type": "stream",
     "text": [
      " 21%|████████████████▌                                                             | 163/768 [05:12<1:04:16,  6.37s/it]"
     ]
    },
    {
     "name": "stdout",
     "output_type": "stream",
     "text": [
      "The rankings match between the old and new frameworks.\n"
     ]
    },
    {
     "name": "stderr",
     "output_type": "stream",
     "text": [
      " 21%|████████████████▋                                                             | 164/768 [05:20<1:08:38,  6.82s/it]"
     ]
    },
    {
     "name": "stdout",
     "output_type": "stream",
     "text": [
      "The rankings match between the old and new frameworks.\n"
     ]
    },
    {
     "name": "stderr",
     "output_type": "stream",
     "text": [
      " 21%|████████████████▊                                                             | 165/768 [05:27<1:09:03,  6.87s/it]"
     ]
    },
    {
     "name": "stdout",
     "output_type": "stream",
     "text": [
      "The rankings match between the old and new frameworks.\n"
     ]
    },
    {
     "name": "stderr",
     "output_type": "stream",
     "text": [
      " 22%|████████████████▊                                                             | 166/768 [05:34<1:09:25,  6.92s/it]"
     ]
    },
    {
     "name": "stdout",
     "output_type": "stream",
     "text": [
      "The rankings match between the old and new frameworks.\n"
     ]
    },
    {
     "name": "stderr",
     "output_type": "stream",
     "text": [
      " 22%|████████████████▉                                                             | 167/768 [05:41<1:11:06,  7.10s/it]"
     ]
    },
    {
     "name": "stdout",
     "output_type": "stream",
     "text": [
      "The rankings match between the old and new frameworks.\n"
     ]
    },
    {
     "name": "stderr",
     "output_type": "stream",
     "text": [
      " 22%|█████████████████                                                             | 168/768 [05:48<1:11:22,  7.14s/it]"
     ]
    },
    {
     "name": "stdout",
     "output_type": "stream",
     "text": [
      "The rankings match between the old and new frameworks.\n"
     ]
    },
    {
     "name": "stderr",
     "output_type": "stream",
     "text": [
      " 22%|█████████████████▏                                                            | 169/768 [05:54<1:05:36,  6.57s/it]"
     ]
    },
    {
     "name": "stdout",
     "output_type": "stream",
     "text": [
      "The rankings match between the old and new frameworks.\n"
     ]
    },
    {
     "name": "stderr",
     "output_type": "stream",
     "text": [
      " 22%|█████████████████▎                                                            | 170/768 [05:59<1:01:35,  6.18s/it]"
     ]
    },
    {
     "name": "stdout",
     "output_type": "stream",
     "text": [
      "The rankings match between the old and new frameworks.\n"
     ]
    },
    {
     "name": "stderr",
     "output_type": "stream",
     "text": [
      " 22%|█████████████████▊                                                              | 171/768 [06:04<58:45,  5.90s/it]"
     ]
    },
    {
     "name": "stdout",
     "output_type": "stream",
     "text": [
      "The rankings match between the old and new frameworks.\n"
     ]
    },
    {
     "name": "stderr",
     "output_type": "stream",
     "text": [
      " 22%|█████████████████▉                                                              | 172/768 [06:09<56:36,  5.70s/it]"
     ]
    },
    {
     "name": "stdout",
     "output_type": "stream",
     "text": [
      "The rankings match between the old and new frameworks.\n"
     ]
    },
    {
     "name": "stderr",
     "output_type": "stream",
     "text": [
      " 23%|██████████████████                                                              | 173/768 [06:12<47:28,  4.79s/it]"
     ]
    },
    {
     "name": "stdout",
     "output_type": "stream",
     "text": [
      "The rankings match between the old and new frameworks.\n"
     ]
    },
    {
     "name": "stderr",
     "output_type": "stream",
     "text": [
      " 23%|██████████████████▏                                                             | 174/768 [06:15<41:09,  4.16s/it]"
     ]
    },
    {
     "name": "stdout",
     "output_type": "stream",
     "text": [
      "The rankings match between the old and new frameworks.\n"
     ]
    },
    {
     "name": "stderr",
     "output_type": "stream",
     "text": [
      " 23%|██████████████████▏                                                             | 175/768 [06:17<36:42,  3.71s/it]"
     ]
    },
    {
     "name": "stdout",
     "output_type": "stream",
     "text": [
      "The rankings match between the old and new frameworks.\n"
     ]
    },
    {
     "name": "stderr",
     "output_type": "stream",
     "text": [
      " 23%|██████████████████▎                                                             | 176/768 [06:20<33:41,  3.41s/it]"
     ]
    },
    {
     "name": "stdout",
     "output_type": "stream",
     "text": [
      "The rankings match between the old and new frameworks.\n"
     ]
    },
    {
     "name": "stderr",
     "output_type": "stream",
     "text": [
      " 23%|██████████████████▍                                                             | 177/768 [06:28<46:55,  4.76s/it]"
     ]
    },
    {
     "name": "stdout",
     "output_type": "stream",
     "text": [
      "The rankings match between the old and new frameworks.\n"
     ]
    },
    {
     "name": "stderr",
     "output_type": "stream",
     "text": [
      " 23%|██████████████████▌                                                             | 178/768 [06:36<55:56,  5.69s/it]"
     ]
    },
    {
     "name": "stdout",
     "output_type": "stream",
     "text": [
      "The rankings match between the old and new frameworks.\n"
     ]
    },
    {
     "name": "stderr",
     "output_type": "stream",
     "text": [
      " 23%|██████████████████▏                                                           | 179/768 [06:44<1:02:51,  6.40s/it]"
     ]
    },
    {
     "name": "stdout",
     "output_type": "stream",
     "text": [
      "The rankings match between the old and new frameworks.\n"
     ]
    },
    {
     "name": "stderr",
     "output_type": "stream",
     "text": [
      " 23%|██████████████████▎                                                           | 180/768 [06:52<1:06:53,  6.83s/it]"
     ]
    },
    {
     "name": "stdout",
     "output_type": "stream",
     "text": [
      "The rankings match between the old and new frameworks.\n"
     ]
    },
    {
     "name": "stderr",
     "output_type": "stream",
     "text": [
      " 24%|██████████████████▍                                                           | 181/768 [06:59<1:07:23,  6.89s/it]"
     ]
    },
    {
     "name": "stdout",
     "output_type": "stream",
     "text": [
      "The rankings match between the old and new frameworks.\n"
     ]
    },
    {
     "name": "stderr",
     "output_type": "stream",
     "text": [
      " 24%|██████████████████▍                                                           | 182/768 [07:06<1:07:39,  6.93s/it]"
     ]
    },
    {
     "name": "stdout",
     "output_type": "stream",
     "text": [
      "The rankings match between the old and new frameworks.\n"
     ]
    },
    {
     "name": "stderr",
     "output_type": "stream",
     "text": [
      " 24%|██████████████████▌                                                           | 183/768 [07:13<1:08:05,  6.98s/it]"
     ]
    },
    {
     "name": "stdout",
     "output_type": "stream",
     "text": [
      "The rankings match between the old and new frameworks.\n"
     ]
    },
    {
     "name": "stderr",
     "output_type": "stream",
     "text": [
      " 24%|██████████████████▋                                                           | 184/768 [07:21<1:11:11,  7.31s/it]"
     ]
    },
    {
     "name": "stdout",
     "output_type": "stream",
     "text": [
      "The rankings match between the old and new frameworks.\n"
     ]
    },
    {
     "name": "stderr",
     "output_type": "stream",
     "text": [
      " 24%|██████████████████▌                                                          | 185/768 [10:42<10:37:16, 65.59s/it]"
     ]
    },
    {
     "name": "stdout",
     "output_type": "stream",
     "text": [
      "The rankings match between the old and new frameworks.\n"
     ]
    },
    {
     "name": "stderr",
     "output_type": "stream",
     "text": [
      " 24%|██████████████████▉                                                           | 186/768 [10:49<7:44:59, 47.94s/it]"
     ]
    },
    {
     "name": "stdout",
     "output_type": "stream",
     "text": [
      "The rankings match between the old and new frameworks.\n"
     ]
    },
    {
     "name": "stderr",
     "output_type": "stream",
     "text": [
      " 24%|██████████████████▉                                                           | 187/768 [10:56<5:45:39, 35.70s/it]"
     ]
    },
    {
     "name": "stdout",
     "output_type": "stream",
     "text": [
      "The rankings match between the old and new frameworks.\n"
     ]
    },
    {
     "name": "stderr",
     "output_type": "stream",
     "text": [
      " 24%|███████████████████                                                           | 188/768 [11:03<4:20:52, 26.99s/it]"
     ]
    },
    {
     "name": "stdout",
     "output_type": "stream",
     "text": [
      "The rankings match between the old and new frameworks.\n"
     ]
    },
    {
     "name": "stderr",
     "output_type": "stream",
     "text": [
      " 25%|███████████████████▏                                                          | 189/768 [11:06<3:10:43, 19.76s/it]"
     ]
    },
    {
     "name": "stdout",
     "output_type": "stream",
     "text": [
      "The rankings match between the old and new frameworks.\n"
     ]
    },
    {
     "name": "stderr",
     "output_type": "stream",
     "text": [
      " 25%|███████████████████▎                                                          | 190/768 [11:09<2:22:41, 14.81s/it]"
     ]
    },
    {
     "name": "stdout",
     "output_type": "stream",
     "text": [
      "The rankings match between the old and new frameworks.\n"
     ]
    },
    {
     "name": "stderr",
     "output_type": "stream",
     "text": [
      " 25%|███████████████████▍                                                          | 191/768 [11:12<1:48:28, 11.28s/it]"
     ]
    },
    {
     "name": "stdout",
     "output_type": "stream",
     "text": [
      "The rankings match between the old and new frameworks.\n"
     ]
    },
    {
     "name": "stderr",
     "output_type": "stream",
     "text": [
      " 25%|███████████████████▌                                                          | 192/768 [11:16<1:25:13,  8.88s/it]"
     ]
    },
    {
     "name": "stdout",
     "output_type": "stream",
     "text": [
      "The rankings match between the old and new frameworks.\n"
     ]
    },
    {
     "name": "stderr",
     "output_type": "stream",
     "text": [
      " 25%|███████████████████▌                                                          | 193/768 [11:16<1:01:46,  6.45s/it]"
     ]
    },
    {
     "name": "stdout",
     "output_type": "stream",
     "text": [
      "The rankings match between the old and new frameworks.\n"
     ]
    },
    {
     "name": "stderr",
     "output_type": "stream",
     "text": [
      " 25%|████████████████████▏                                                           | 194/768 [11:17<45:26,  4.75s/it]"
     ]
    },
    {
     "name": "stdout",
     "output_type": "stream",
     "text": [
      "The rankings match between the old and new frameworks.\n"
     ]
    },
    {
     "name": "stderr",
     "output_type": "stream",
     "text": [
      " 25%|████████████████████▎                                                           | 195/768 [11:18<33:38,  3.52s/it]"
     ]
    },
    {
     "name": "stdout",
     "output_type": "stream",
     "text": [
      "The rankings match between the old and new frameworks.\n"
     ]
    },
    {
     "name": "stderr",
     "output_type": "stream",
     "text": [
      " 26%|████████████████████▍                                                           | 196/768 [11:19<26:02,  2.73s/it]"
     ]
    },
    {
     "name": "stdout",
     "output_type": "stream",
     "text": [
      "The rankings match between the old and new frameworks.\n"
     ]
    },
    {
     "name": "stderr",
     "output_type": "stream",
     "text": [
      " 26%|████████████████████▌                                                           | 197/768 [11:19<20:25,  2.15s/it]"
     ]
    },
    {
     "name": "stdout",
     "output_type": "stream",
     "text": [
      "The rankings match between the old and new frameworks.\n"
     ]
    },
    {
     "name": "stderr",
     "output_type": "stream",
     "text": [
      " 26%|████████████████████▋                                                           | 198/768 [11:20<15:50,  1.67s/it]"
     ]
    },
    {
     "name": "stdout",
     "output_type": "stream",
     "text": [
      "The rankings match between the old and new frameworks.\n"
     ]
    },
    {
     "name": "stderr",
     "output_type": "stream",
     "text": [
      " 26%|████████████████████▋                                                           | 199/768 [11:21<13:09,  1.39s/it]"
     ]
    },
    {
     "name": "stdout",
     "output_type": "stream",
     "text": [
      "The rankings match between the old and new frameworks.\n"
     ]
    },
    {
     "name": "stderr",
     "output_type": "stream",
     "text": [
      " 26%|████████████████████▊                                                           | 200/768 [11:22<11:44,  1.24s/it]"
     ]
    },
    {
     "name": "stdout",
     "output_type": "stream",
     "text": [
      "The rankings match between the old and new frameworks.\n"
     ]
    },
    {
     "name": "stderr",
     "output_type": "stream",
     "text": [
      " 26%|████████████████████▉                                                           | 201/768 [11:22<09:30,  1.01s/it]"
     ]
    },
    {
     "name": "stdout",
     "output_type": "stream",
     "text": [
      "The rankings match between the old and new frameworks.\n"
     ]
    },
    {
     "name": "stderr",
     "output_type": "stream",
     "text": [
      " 26%|█████████████████████                                                           | 202/768 [11:23<08:25,  1.12it/s]"
     ]
    },
    {
     "name": "stdout",
     "output_type": "stream",
     "text": [
      "The rankings match between the old and new frameworks.\n"
     ]
    },
    {
     "name": "stderr",
     "output_type": "stream",
     "text": [
      " 26%|█████████████████████▏                                                          | 203/768 [11:23<07:52,  1.19it/s]"
     ]
    },
    {
     "name": "stdout",
     "output_type": "stream",
     "text": [
      "The rankings match between the old and new frameworks.\n"
     ]
    },
    {
     "name": "stderr",
     "output_type": "stream",
     "text": [
      " 27%|█████████████████████▎                                                          | 204/768 [11:24<06:55,  1.36it/s]"
     ]
    },
    {
     "name": "stdout",
     "output_type": "stream",
     "text": [
      "The rankings match between the old and new frameworks.\n"
     ]
    },
    {
     "name": "stderr",
     "output_type": "stream",
     "text": [
      " 27%|█████████████████████▎                                                          | 205/768 [11:24<06:22,  1.47it/s]"
     ]
    },
    {
     "name": "stdout",
     "output_type": "stream",
     "text": [
      "The rankings match between the old and new frameworks.\n"
     ]
    },
    {
     "name": "stderr",
     "output_type": "stream",
     "text": [
      " 27%|█████████████████████▍                                                          | 206/768 [11:25<06:01,  1.56it/s]"
     ]
    },
    {
     "name": "stdout",
     "output_type": "stream",
     "text": [
      "The rankings match between the old and new frameworks.\n"
     ]
    },
    {
     "name": "stderr",
     "output_type": "stream",
     "text": [
      " 27%|█████████████████████▌                                                          | 207/768 [11:26<05:42,  1.64it/s]"
     ]
    },
    {
     "name": "stdout",
     "output_type": "stream",
     "text": [
      "The rankings match between the old and new frameworks.\n"
     ]
    },
    {
     "name": "stderr",
     "output_type": "stream",
     "text": [
      " 27%|█████████████████████▋                                                          | 208/768 [11:26<05:08,  1.81it/s]"
     ]
    },
    {
     "name": "stdout",
     "output_type": "stream",
     "text": [
      "The rankings match between the old and new frameworks.\n"
     ]
    },
    {
     "name": "stderr",
     "output_type": "stream",
     "text": [
      " 27%|█████████████████████▊                                                          | 209/768 [11:27<06:10,  1.51it/s]"
     ]
    },
    {
     "name": "stdout",
     "output_type": "stream",
     "text": [
      "The rankings match between the old and new frameworks.\n"
     ]
    },
    {
     "name": "stderr",
     "output_type": "stream",
     "text": [
      " 27%|█████████████████████▉                                                          | 210/768 [11:28<06:34,  1.42it/s]"
     ]
    },
    {
     "name": "stdout",
     "output_type": "stream",
     "text": [
      "The rankings match between the old and new frameworks.\n"
     ]
    },
    {
     "name": "stderr",
     "output_type": "stream",
     "text": [
      " 27%|█████████████████████▉                                                          | 211/768 [11:28<06:28,  1.43it/s]"
     ]
    },
    {
     "name": "stdout",
     "output_type": "stream",
     "text": [
      "The rankings match between the old and new frameworks.\n"
     ]
    },
    {
     "name": "stderr",
     "output_type": "stream",
     "text": [
      " 28%|██████████████████████                                                          | 212/768 [11:29<07:03,  1.31it/s]"
     ]
    },
    {
     "name": "stdout",
     "output_type": "stream",
     "text": [
      "The rankings match between the old and new frameworks.\n"
     ]
    },
    {
     "name": "stderr",
     "output_type": "stream",
     "text": [
      " 28%|██████████████████████▏                                                         | 213/768 [11:30<07:02,  1.32it/s]"
     ]
    },
    {
     "name": "stdout",
     "output_type": "stream",
     "text": [
      "The rankings match between the old and new frameworks.\n"
     ]
    },
    {
     "name": "stderr",
     "output_type": "stream",
     "text": [
      " 28%|██████████████████████▎                                                         | 214/768 [11:31<07:00,  1.32it/s]"
     ]
    },
    {
     "name": "stdout",
     "output_type": "stream",
     "text": [
      "The rankings match between the old and new frameworks.\n"
     ]
    },
    {
     "name": "stderr",
     "output_type": "stream",
     "text": [
      " 28%|██████████████████████▍                                                         | 215/768 [11:32<06:56,  1.33it/s]"
     ]
    },
    {
     "name": "stdout",
     "output_type": "stream",
     "text": [
      "The rankings match between the old and new frameworks.\n"
     ]
    },
    {
     "name": "stderr",
     "output_type": "stream",
     "text": [
      " 28%|██████████████████████▌                                                         | 216/768 [11:32<07:00,  1.31it/s]"
     ]
    },
    {
     "name": "stdout",
     "output_type": "stream",
     "text": [
      "The rankings match between the old and new frameworks.\n"
     ]
    },
    {
     "name": "stderr",
     "output_type": "stream",
     "text": [
      " 28%|██████████████████████▌                                                         | 217/768 [11:33<06:30,  1.41it/s]"
     ]
    },
    {
     "name": "stdout",
     "output_type": "stream",
     "text": [
      "The rankings match between the old and new frameworks.\n"
     ]
    },
    {
     "name": "stderr",
     "output_type": "stream",
     "text": [
      " 28%|██████████████████████▋                                                         | 218/768 [11:33<06:16,  1.46it/s]"
     ]
    },
    {
     "name": "stdout",
     "output_type": "stream",
     "text": [
      "The rankings match between the old and new frameworks.\n"
     ]
    },
    {
     "name": "stderr",
     "output_type": "stream",
     "text": [
      " 29%|██████████████████████▊                                                         | 219/768 [11:34<06:04,  1.51it/s]"
     ]
    },
    {
     "name": "stdout",
     "output_type": "stream",
     "text": [
      "The rankings match between the old and new frameworks.\n"
     ]
    },
    {
     "name": "stderr",
     "output_type": "stream",
     "text": [
      " 29%|██████████████████████▉                                                         | 220/768 [11:35<06:06,  1.49it/s]"
     ]
    },
    {
     "name": "stdout",
     "output_type": "stream",
     "text": [
      "The rankings match between the old and new frameworks.\n"
     ]
    },
    {
     "name": "stderr",
     "output_type": "stream",
     "text": [
      " 29%|███████████████████████                                                         | 221/768 [11:35<05:15,  1.73it/s]"
     ]
    },
    {
     "name": "stdout",
     "output_type": "stream",
     "text": [
      "The rankings match between the old and new frameworks.\n"
     ]
    },
    {
     "name": "stderr",
     "output_type": "stream",
     "text": [
      " 29%|███████████████████████▏                                                        | 222/768 [11:36<05:19,  1.71it/s]"
     ]
    },
    {
     "name": "stdout",
     "output_type": "stream",
     "text": [
      "The rankings match between the old and new frameworks.\n"
     ]
    },
    {
     "name": "stderr",
     "output_type": "stream",
     "text": [
      " 29%|███████████████████████▏                                                        | 223/768 [11:36<05:41,  1.60it/s]"
     ]
    },
    {
     "name": "stdout",
     "output_type": "stream",
     "text": [
      "The rankings match between the old and new frameworks.\n"
     ]
    },
    {
     "name": "stderr",
     "output_type": "stream",
     "text": [
      " 29%|███████████████████████▎                                                        | 224/768 [11:37<05:05,  1.78it/s]"
     ]
    },
    {
     "name": "stdout",
     "output_type": "stream",
     "text": [
      "The rankings match between the old and new frameworks.\n"
     ]
    },
    {
     "name": "stderr",
     "output_type": "stream",
     "text": [
      " 29%|███████████████████████▍                                                        | 225/768 [11:38<05:41,  1.59it/s]"
     ]
    },
    {
     "name": "stdout",
     "output_type": "stream",
     "text": [
      "The rankings match between the old and new frameworks.\n"
     ]
    },
    {
     "name": "stderr",
     "output_type": "stream",
     "text": [
      " 29%|███████████████████████▌                                                        | 226/768 [11:39<06:55,  1.30it/s]"
     ]
    },
    {
     "name": "stdout",
     "output_type": "stream",
     "text": [
      "The rankings match between the old and new frameworks.\n"
     ]
    },
    {
     "name": "stderr",
     "output_type": "stream",
     "text": [
      " 30%|███████████████████████▋                                                        | 227/768 [11:39<06:25,  1.40it/s]"
     ]
    },
    {
     "name": "stdout",
     "output_type": "stream",
     "text": [
      "The rankings match between the old and new frameworks.\n"
     ]
    },
    {
     "name": "stderr",
     "output_type": "stream",
     "text": [
      " 30%|███████████████████████▊                                                        | 228/768 [11:40<07:11,  1.25it/s]"
     ]
    },
    {
     "name": "stdout",
     "output_type": "stream",
     "text": [
      "The rankings match between the old and new frameworks.\n"
     ]
    },
    {
     "name": "stderr",
     "output_type": "stream",
     "text": [
      " 30%|███████████████████████▊                                                        | 229/768 [11:41<07:06,  1.26it/s]"
     ]
    },
    {
     "name": "stdout",
     "output_type": "stream",
     "text": [
      "The rankings match between the old and new frameworks.\n"
     ]
    },
    {
     "name": "stderr",
     "output_type": "stream",
     "text": [
      " 30%|███████████████████████▉                                                        | 230/768 [11:42<06:59,  1.28it/s]"
     ]
    },
    {
     "name": "stdout",
     "output_type": "stream",
     "text": [
      "The rankings match between the old and new frameworks.\n"
     ]
    },
    {
     "name": "stderr",
     "output_type": "stream",
     "text": [
      " 30%|████████████████████████                                                        | 231/768 [11:43<06:58,  1.28it/s]"
     ]
    },
    {
     "name": "stdout",
     "output_type": "stream",
     "text": [
      "The rankings match between the old and new frameworks.\n"
     ]
    },
    {
     "name": "stderr",
     "output_type": "stream",
     "text": [
      " 30%|████████████████████████▏                                                       | 232/768 [11:44<07:57,  1.12it/s]"
     ]
    },
    {
     "name": "stdout",
     "output_type": "stream",
     "text": [
      "The rankings match between the old and new frameworks.\n"
     ]
    },
    {
     "name": "stderr",
     "output_type": "stream",
     "text": [
      " 30%|████████████████████████▎                                                       | 233/768 [11:44<06:55,  1.29it/s]"
     ]
    },
    {
     "name": "stdout",
     "output_type": "stream",
     "text": [
      "The rankings match between the old and new frameworks.\n"
     ]
    },
    {
     "name": "stderr",
     "output_type": "stream",
     "text": [
      " 30%|████████████████████████▍                                                       | 234/768 [11:45<06:44,  1.32it/s]"
     ]
    },
    {
     "name": "stdout",
     "output_type": "stream",
     "text": [
      "The rankings match between the old and new frameworks.\n"
     ]
    },
    {
     "name": "stderr",
     "output_type": "stream",
     "text": [
      " 31%|████████████████████████▍                                                       | 235/768 [11:46<06:58,  1.27it/s]"
     ]
    },
    {
     "name": "stdout",
     "output_type": "stream",
     "text": [
      "The rankings match between the old and new frameworks.\n"
     ]
    },
    {
     "name": "stderr",
     "output_type": "stream",
     "text": [
      " 31%|████████████████████████▌                                                       | 236/768 [11:47<06:41,  1.33it/s]"
     ]
    },
    {
     "name": "stdout",
     "output_type": "stream",
     "text": [
      "The rankings match between the old and new frameworks.\n"
     ]
    },
    {
     "name": "stderr",
     "output_type": "stream",
     "text": [
      " 31%|████████████████████████▋                                                       | 237/768 [11:47<05:46,  1.53it/s]"
     ]
    },
    {
     "name": "stdout",
     "output_type": "stream",
     "text": [
      "The rankings match between the old and new frameworks.\n"
     ]
    },
    {
     "name": "stderr",
     "output_type": "stream",
     "text": [
      " 31%|████████████████████████▊                                                       | 238/768 [11:48<05:27,  1.62it/s]"
     ]
    },
    {
     "name": "stdout",
     "output_type": "stream",
     "text": [
      "The rankings match between the old and new frameworks.\n"
     ]
    },
    {
     "name": "stderr",
     "output_type": "stream",
     "text": [
      " 31%|████████████████████████▉                                                       | 239/768 [11:48<04:51,  1.81it/s]"
     ]
    },
    {
     "name": "stdout",
     "output_type": "stream",
     "text": [
      "The rankings match between the old and new frameworks.\n"
     ]
    },
    {
     "name": "stderr",
     "output_type": "stream",
     "text": [
      " 31%|█████████████████████████                                                       | 240/768 [11:49<05:01,  1.75it/s]"
     ]
    },
    {
     "name": "stdout",
     "output_type": "stream",
     "text": [
      "The rankings match between the old and new frameworks.\n"
     ]
    },
    {
     "name": "stderr",
     "output_type": "stream",
     "text": [
      " 31%|█████████████████████████                                                       | 241/768 [11:49<06:03,  1.45it/s]"
     ]
    },
    {
     "name": "stdout",
     "output_type": "stream",
     "text": [
      "The rankings match between the old and new frameworks.\n"
     ]
    },
    {
     "name": "stderr",
     "output_type": "stream",
     "text": [
      " 32%|█████████████████████████▏                                                      | 242/768 [11:50<06:13,  1.41it/s]"
     ]
    },
    {
     "name": "stdout",
     "output_type": "stream",
     "text": [
      "The rankings match between the old and new frameworks.\n"
     ]
    },
    {
     "name": "stderr",
     "output_type": "stream",
     "text": [
      " 32%|█████████████████████████▎                                                      | 243/768 [11:51<06:12,  1.41it/s]"
     ]
    },
    {
     "name": "stdout",
     "output_type": "stream",
     "text": [
      "The rankings match between the old and new frameworks.\n"
     ]
    },
    {
     "name": "stderr",
     "output_type": "stream",
     "text": [
      " 32%|█████████████████████████▍                                                      | 244/768 [11:52<06:45,  1.29it/s]"
     ]
    },
    {
     "name": "stdout",
     "output_type": "stream",
     "text": [
      "The rankings match between the old and new frameworks.\n"
     ]
    },
    {
     "name": "stderr",
     "output_type": "stream",
     "text": [
      " 32%|█████████████████████████▌                                                      | 245/768 [11:53<06:49,  1.28it/s]"
     ]
    },
    {
     "name": "stdout",
     "output_type": "stream",
     "text": [
      "The rankings match between the old and new frameworks.\n"
     ]
    },
    {
     "name": "stderr",
     "output_type": "stream",
     "text": [
      " 32%|█████████████████████████▋                                                      | 246/768 [11:53<06:15,  1.39it/s]"
     ]
    },
    {
     "name": "stdout",
     "output_type": "stream",
     "text": [
      "The rankings match between the old and new frameworks.\n"
     ]
    },
    {
     "name": "stderr",
     "output_type": "stream",
     "text": [
      " 32%|█████████████████████████▋                                                      | 247/768 [11:54<06:37,  1.31it/s]"
     ]
    },
    {
     "name": "stdout",
     "output_type": "stream",
     "text": [
      "The rankings match between the old and new frameworks.\n"
     ]
    },
    {
     "name": "stderr",
     "output_type": "stream",
     "text": [
      " 32%|█████████████████████████▊                                                      | 248/768 [11:55<06:46,  1.28it/s]"
     ]
    },
    {
     "name": "stdout",
     "output_type": "stream",
     "text": [
      "The rankings match between the old and new frameworks.\n"
     ]
    },
    {
     "name": "stderr",
     "output_type": "stream",
     "text": [
      " 32%|█████████████████████████▉                                                      | 249/768 [11:55<06:05,  1.42it/s]"
     ]
    },
    {
     "name": "stdout",
     "output_type": "stream",
     "text": [
      "The rankings match between the old and new frameworks.\n"
     ]
    },
    {
     "name": "stderr",
     "output_type": "stream",
     "text": [
      " 33%|██████████████████████████                                                      | 250/768 [11:56<06:08,  1.41it/s]"
     ]
    },
    {
     "name": "stdout",
     "output_type": "stream",
     "text": [
      "The rankings match between the old and new frameworks.\n"
     ]
    },
    {
     "name": "stderr",
     "output_type": "stream",
     "text": [
      " 33%|██████████████████████████▏                                                     | 251/768 [11:57<06:15,  1.38it/s]"
     ]
    },
    {
     "name": "stdout",
     "output_type": "stream",
     "text": [
      "The rankings match between the old and new frameworks.\n"
     ]
    },
    {
     "name": "stderr",
     "output_type": "stream",
     "text": [
      " 33%|██████████████████████████▎                                                     | 252/768 [11:58<06:02,  1.42it/s]"
     ]
    },
    {
     "name": "stdout",
     "output_type": "stream",
     "text": [
      "The rankings match between the old and new frameworks.\n"
     ]
    },
    {
     "name": "stderr",
     "output_type": "stream",
     "text": [
      " 33%|██████████████████████████▎                                                     | 253/768 [11:58<05:12,  1.65it/s]"
     ]
    },
    {
     "name": "stdout",
     "output_type": "stream",
     "text": [
      "The rankings match between the old and new frameworks.\n"
     ]
    },
    {
     "name": "stderr",
     "output_type": "stream",
     "text": [
      " 33%|██████████████████████████▍                                                     | 254/768 [11:59<05:03,  1.69it/s]"
     ]
    },
    {
     "name": "stdout",
     "output_type": "stream",
     "text": [
      "The rankings match between the old and new frameworks.\n"
     ]
    },
    {
     "name": "stderr",
     "output_type": "stream",
     "text": [
      " 33%|██████████████████████████▌                                                     | 255/768 [11:59<05:11,  1.65it/s]"
     ]
    },
    {
     "name": "stdout",
     "output_type": "stream",
     "text": [
      "The rankings match between the old and new frameworks.\n"
     ]
    },
    {
     "name": "stderr",
     "output_type": "stream",
     "text": [
      " 33%|██████████████████████████▋                                                     | 256/768 [12:00<04:45,  1.79it/s]"
     ]
    },
    {
     "name": "stdout",
     "output_type": "stream",
     "text": [
      "The rankings match between the old and new frameworks.\n"
     ]
    },
    {
     "name": "stderr",
     "output_type": "stream",
     "text": [
      " 33%|██████████████████████████▊                                                     | 257/768 [12:09<26:00,  3.05s/it]"
     ]
    },
    {
     "name": "stdout",
     "output_type": "stream",
     "text": [
      "The rankings match between the old and new frameworks.\n"
     ]
    },
    {
     "name": "stderr",
     "output_type": "stream",
     "text": [
      " 34%|██████████████████████████▉                                                     | 258/768 [12:18<42:21,  4.98s/it]"
     ]
    },
    {
     "name": "stdout",
     "output_type": "stream",
     "text": [
      "The rankings match between the old and new frameworks.\n"
     ]
    },
    {
     "name": "stderr",
     "output_type": "stream",
     "text": [
      " 34%|██████████████████████████▉                                                     | 259/768 [12:26<50:40,  5.97s/it]"
     ]
    },
    {
     "name": "stdout",
     "output_type": "stream",
     "text": [
      "The rankings match between the old and new frameworks.\n"
     ]
    },
    {
     "name": "stderr",
     "output_type": "stream",
     "text": [
      " 34%|███████████████████████████                                                     | 260/768 [12:35<57:03,  6.74s/it]"
     ]
    },
    {
     "name": "stdout",
     "output_type": "stream",
     "text": [
      "The rankings match between the old and new frameworks.\n"
     ]
    },
    {
     "name": "stderr",
     "output_type": "stream",
     "text": [
      " 34%|██████████████████████████▌                                                   | 261/768 [12:43<1:00:38,  7.18s/it]"
     ]
    },
    {
     "name": "stdout",
     "output_type": "stream",
     "text": [
      "The rankings match between the old and new frameworks.\n"
     ]
    },
    {
     "name": "stderr",
     "output_type": "stream",
     "text": [
      " 34%|██████████████████████████▌                                                   | 262/768 [12:51<1:03:05,  7.48s/it]"
     ]
    },
    {
     "name": "stdout",
     "output_type": "stream",
     "text": [
      "The rankings match between the old and new frameworks.\n"
     ]
    },
    {
     "name": "stderr",
     "output_type": "stream",
     "text": [
      " 34%|██████████████████████████▋                                                   | 263/768 [12:59<1:04:28,  7.66s/it]"
     ]
    },
    {
     "name": "stdout",
     "output_type": "stream",
     "text": [
      "The rankings match between the old and new frameworks.\n"
     ]
    },
    {
     "name": "stderr",
     "output_type": "stream",
     "text": [
      " 34%|██████████████████████████▊                                                   | 264/768 [13:07<1:05:32,  7.80s/it]"
     ]
    },
    {
     "name": "stdout",
     "output_type": "stream",
     "text": [
      "The rankings match between the old and new frameworks.\n"
     ]
    },
    {
     "name": "stderr",
     "output_type": "stream",
     "text": [
      " 35%|██████████████████████████▉                                                   | 265/768 [13:14<1:02:15,  7.43s/it]"
     ]
    },
    {
     "name": "stdout",
     "output_type": "stream",
     "text": [
      "The rankings match between the old and new frameworks.\n"
     ]
    },
    {
     "name": "stderr",
     "output_type": "stream",
     "text": [
      " 35%|███████████████████████████▋                                                    | 266/768 [13:20<59:49,  7.15s/it]"
     ]
    },
    {
     "name": "stdout",
     "output_type": "stream",
     "text": [
      "The rankings match between the old and new frameworks.\n"
     ]
    },
    {
     "name": "stderr",
     "output_type": "stream",
     "text": [
      " 35%|███████████████████████████▊                                                    | 267/768 [13:27<58:08,  6.96s/it]"
     ]
    },
    {
     "name": "stdout",
     "output_type": "stream",
     "text": [
      "The rankings match between the old and new frameworks.\n"
     ]
    },
    {
     "name": "stderr",
     "output_type": "stream",
     "text": [
      " 35%|███████████████████████████▉                                                    | 268/768 [13:34<56:59,  6.84s/it]"
     ]
    },
    {
     "name": "stdout",
     "output_type": "stream",
     "text": [
      "The rankings match between the old and new frameworks.\n"
     ]
    },
    {
     "name": "stderr",
     "output_type": "stream",
     "text": [
      " 35%|████████████████████████████                                                    | 269/768 [13:38<50:39,  6.09s/it]"
     ]
    },
    {
     "name": "stdout",
     "output_type": "stream",
     "text": [
      "The rankings match between the old and new frameworks.\n"
     ]
    },
    {
     "name": "stderr",
     "output_type": "stream",
     "text": [
      " 35%|████████████████████████████▏                                                   | 270/768 [13:42<46:20,  5.58s/it]"
     ]
    },
    {
     "name": "stdout",
     "output_type": "stream",
     "text": [
      "The rankings match between the old and new frameworks.\n"
     ]
    },
    {
     "name": "stderr",
     "output_type": "stream",
     "text": [
      " 35%|████████████████████████████▏                                                   | 271/768 [13:47<43:21,  5.23s/it]"
     ]
    },
    {
     "name": "stdout",
     "output_type": "stream",
     "text": [
      "The rankings match between the old and new frameworks.\n"
     ]
    },
    {
     "name": "stderr",
     "output_type": "stream",
     "text": [
      " 35%|████████████████████████████▎                                                   | 272/768 [13:51<40:56,  4.95s/it]"
     ]
    },
    {
     "name": "stdout",
     "output_type": "stream",
     "text": [
      "The rankings match between the old and new frameworks.\n"
     ]
    },
    {
     "name": "stderr",
     "output_type": "stream",
     "text": [
      " 36%|████████████████████████████▍                                                   | 273/768 [13:59<48:00,  5.82s/it]"
     ]
    },
    {
     "name": "stdout",
     "output_type": "stream",
     "text": [
      "The rankings match between the old and new frameworks.\n"
     ]
    },
    {
     "name": "stderr",
     "output_type": "stream",
     "text": [
      " 36%|████████████████████████████▌                                                   | 274/768 [14:07<52:49,  6.42s/it]"
     ]
    },
    {
     "name": "stdout",
     "output_type": "stream",
     "text": [
      "The rankings match between the old and new frameworks.\n"
     ]
    },
    {
     "name": "stderr",
     "output_type": "stream",
     "text": [
      " 36%|████████████████████████████▋                                                   | 275/768 [14:14<56:05,  6.83s/it]"
     ]
    },
    {
     "name": "stdout",
     "output_type": "stream",
     "text": [
      "The rankings match between the old and new frameworks.\n"
     ]
    },
    {
     "name": "stderr",
     "output_type": "stream",
     "text": [
      " 36%|████████████████████████████▊                                                   | 276/768 [14:22<58:26,  7.13s/it]"
     ]
    },
    {
     "name": "stdout",
     "output_type": "stream",
     "text": [
      "The rankings match between the old and new frameworks.\n"
     ]
    },
    {
     "name": "stderr",
     "output_type": "stream",
     "text": [
      " 36%|████████████████████████████▏                                                 | 277/768 [14:30<1:00:53,  7.44s/it]"
     ]
    },
    {
     "name": "stdout",
     "output_type": "stream",
     "text": [
      "The rankings match between the old and new frameworks.\n"
     ]
    },
    {
     "name": "stderr",
     "output_type": "stream",
     "text": [
      " 36%|████████████████████████████▏                                                 | 278/768 [14:38<1:02:16,  7.62s/it]"
     ]
    },
    {
     "name": "stdout",
     "output_type": "stream",
     "text": [
      "The rankings match between the old and new frameworks.\n"
     ]
    },
    {
     "name": "stderr",
     "output_type": "stream",
     "text": [
      " 36%|████████████████████████████▎                                                 | 279/768 [14:47<1:04:48,  7.95s/it]"
     ]
    },
    {
     "name": "stdout",
     "output_type": "stream",
     "text": [
      "The rankings match between the old and new frameworks.\n"
     ]
    },
    {
     "name": "stderr",
     "output_type": "stream",
     "text": [
      " 36%|████████████████████████████▍                                                 | 280/768 [14:55<1:04:51,  7.97s/it]"
     ]
    },
    {
     "name": "stdout",
     "output_type": "stream",
     "text": [
      "The rankings match between the old and new frameworks.\n"
     ]
    },
    {
     "name": "stderr",
     "output_type": "stream",
     "text": [
      " 37%|████████████████████████████▌                                                 | 281/768 [15:02<1:01:13,  7.54s/it]"
     ]
    },
    {
     "name": "stdout",
     "output_type": "stream",
     "text": [
      "The rankings match between the old and new frameworks.\n"
     ]
    },
    {
     "name": "stderr",
     "output_type": "stream",
     "text": [
      " 37%|█████████████████████████████▍                                                  | 282/768 [15:08<58:52,  7.27s/it]"
     ]
    },
    {
     "name": "stdout",
     "output_type": "stream",
     "text": [
      "The rankings match between the old and new frameworks.\n"
     ]
    },
    {
     "name": "stderr",
     "output_type": "stream",
     "text": [
      " 37%|█████████████████████████████▍                                                  | 283/768 [15:15<57:56,  7.17s/it]"
     ]
    },
    {
     "name": "stdout",
     "output_type": "stream",
     "text": [
      "The rankings match between the old and new frameworks.\n"
     ]
    },
    {
     "name": "stderr",
     "output_type": "stream",
     "text": [
      " 37%|█████████████████████████████▌                                                  | 284/768 [15:22<56:48,  7.04s/it]"
     ]
    },
    {
     "name": "stdout",
     "output_type": "stream",
     "text": [
      "The rankings match between the old and new frameworks.\n"
     ]
    },
    {
     "name": "stderr",
     "output_type": "stream",
     "text": [
      " 37%|█████████████████████████████▋                                                  | 285/768 [15:27<51:38,  6.41s/it]"
     ]
    },
    {
     "name": "stdout",
     "output_type": "stream",
     "text": [
      "The rankings match between the old and new frameworks.\n"
     ]
    },
    {
     "name": "stderr",
     "output_type": "stream",
     "text": [
      " 37%|█████████████████████████████▊                                                  | 286/768 [15:31<46:22,  5.77s/it]"
     ]
    },
    {
     "name": "stdout",
     "output_type": "stream",
     "text": [
      "The rankings match between the old and new frameworks.\n"
     ]
    },
    {
     "name": "stderr",
     "output_type": "stream",
     "text": [
      " 37%|█████████████████████████████▉                                                  | 287/768 [15:36<42:41,  5.33s/it]"
     ]
    },
    {
     "name": "stdout",
     "output_type": "stream",
     "text": [
      "The rankings match between the old and new frameworks.\n"
     ]
    },
    {
     "name": "stderr",
     "output_type": "stream",
     "text": [
      " 38%|██████████████████████████████                                                  | 288/768 [15:40<40:49,  5.10s/it]"
     ]
    },
    {
     "name": "stdout",
     "output_type": "stream",
     "text": [
      "The rankings match between the old and new frameworks.\n"
     ]
    },
    {
     "name": "stderr",
     "output_type": "stream",
     "text": [
      " 38%|██████████████████████████████                                                  | 289/768 [15:49<49:19,  6.18s/it]"
     ]
    },
    {
     "name": "stdout",
     "output_type": "stream",
     "text": [
      "The rankings match between the old and new frameworks.\n"
     ]
    },
    {
     "name": "stderr",
     "output_type": "stream",
     "text": [
      " 38%|██████████████████████████████▏                                                 | 290/768 [15:57<53:30,  6.72s/it]"
     ]
    },
    {
     "name": "stdout",
     "output_type": "stream",
     "text": [
      "The rankings match between the old and new frameworks.\n"
     ]
    },
    {
     "name": "stderr",
     "output_type": "stream",
     "text": [
      " 38%|█████████████████████████████▌                                                | 291/768 [16:06<1:00:04,  7.56s/it]"
     ]
    },
    {
     "name": "stdout",
     "output_type": "stream",
     "text": [
      "The rankings match between the old and new frameworks.\n"
     ]
    },
    {
     "name": "stderr",
     "output_type": "stream",
     "text": [
      " 38%|█████████████████████████████▋                                                | 292/768 [16:16<1:04:12,  8.09s/it]"
     ]
    },
    {
     "name": "stdout",
     "output_type": "stream",
     "text": [
      "The rankings match between the old and new frameworks.\n"
     ]
    },
    {
     "name": "stderr",
     "output_type": "stream",
     "text": [
      " 38%|█████████████████████████████▊                                                | 293/768 [16:24<1:05:34,  8.28s/it]"
     ]
    },
    {
     "name": "stdout",
     "output_type": "stream",
     "text": [
      "The rankings match between the old and new frameworks.\n"
     ]
    },
    {
     "name": "stderr",
     "output_type": "stream",
     "text": [
      " 38%|█████████████████████████████▊                                                | 294/768 [16:33<1:04:57,  8.22s/it]"
     ]
    },
    {
     "name": "stdout",
     "output_type": "stream",
     "text": [
      "The rankings match between the old and new frameworks.\n"
     ]
    }
   ],
   "source": [
    "np.random.seed(42)\n",
    "\n",
    "n_badgeholders_stress_test = (10, 50, 100, 200)\n",
    "total_funds_stress_test = (10, 100, 500)\n",
    "\n",
    "# Generating pseudo-random vectors for stress tests\n",
    "max_badgeholders= max(n_badgeholders_stress_test)\n",
    "#badgeholder_expertise_vec_stress_test = [np.random.rand(max_badgeholders) for _ in range(3)]#change function for this temp\n",
    "#badgeholder_laziness_vec_stress_test = [np.random.rand(max_badgeholders) for _ in range(3)]\n",
    "#project_impact_vec_stress_test = [np.random.rand(max_badgeholders) for _ in range(3)]\n",
    "badgeholder_expertise_vec_stress_test = list(np.linspace(0,1,4))\n",
    "badgeholder_laziness_vec_stress_test = list(np.linspace(0,1,4))\n",
    "project_impact_vec_stress_test = list(np.linspace(0,1,4))\n",
    "\n",
    "experiment_cfgs = list(itertools.product(n_badgeholders_stress_test, total_funds_stress_test, badgeholder_expertise_vec_stress_test, badgeholder_laziness_vec_stress_test, project_impact_vec_stress_test))\n",
    "\n",
    "for experiment_cfg in tqdm(experiment_cfgs):\n",
    "    n_badgeholders, total_funds, badgeholder_expertise_val, badgeholder_laziness_val, project_impact_val = experiment_cfg\n",
    "    \n",
    "    badgeholder_expertise_vec= np.ones(max_badgeholders) * badgeholder_expertise_val\n",
    "    badgeholder_laziness_vec= np.ones(max_badgeholders) * badgeholder_laziness_val\n",
    "    project_impact_vec= np.ones(max_badgeholders) * project_impact_val\n",
    "    \n",
    "    old, new = sim_frameworks(\n",
    "        n_badgeholders=n_badgeholders,\n",
    "        total_funds=total_funds,\n",
    "        min_vote=min_vote,\n",
    "        max_vote=max_vote,\n",
    "        badgeholder_expertise_vec=badgeholder_expertise_vec,\n",
    "        badgeholder_laziness_vec=badgeholder_laziness_vec,\n",
    "        n_projects=n_projects,\n",
    "        project_impact_vec=project_impact_vec,\n",
    "        q=q,\n",
    "        scoring_fn=scoring_fn\n",
    "    )\n",
    "    rankings_match=compare_rankings(old, new, False)\n",
    "    if rankings_match==False:\n",
    "        print(f\"Configuration:\\n\"\n",
    "              f\"- Number of Badgeholders: {n_badgeholders}\\n\"\n",
    "        f\"- Total Funds: {total_funds}\\n\"\n",
    "        f\"- Badgeholder Expertise Vector: {badgeholder_expertise_vec}\\n\" #ok so i want to change this so it print which vector list, not the whole list\n",
    "        f\"- Badgeholder Laziness Vector: {badgeholder_laziness_vec}\\n\"\n",
    "        f\"- Project Impact Vector: {project_impact_vec}\\n\")\n"
   ]
  },
  {
   "cell_type": "code",
   "execution_count": null,
   "metadata": {},
   "outputs": [],
   "source": []
  }
 ],
 "metadata": {
  "kernelspec": {
   "display_name": "quorum-voting-env",
   "language": "python",
   "name": "quorum-voting-env"
  },
  "language_info": {
   "codemirror_mode": {
    "name": "ipython",
    "version": 3
   },
   "file_extension": ".py",
   "mimetype": "text/x-python",
   "name": "python",
   "nbconvert_exporter": "python",
   "pygments_lexer": "ipython3",
   "version": "3.8.19"
  }
 },
 "nbformat": 4,
 "nbformat_minor": 4
}

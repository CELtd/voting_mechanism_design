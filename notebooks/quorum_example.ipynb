{
 "cells": [
  {
   "cell_type": "code",
   "execution_count": null,
   "metadata": {},
   "outputs": [],
   "source": [
    "%load_ext autoreload\n",
    "%autoreload 2"
   ]
  },
  {
   "cell_type": "code",
   "execution_count": null,
   "metadata": {},
   "outputs": [],
   "source": [
    "from voting_mechanism_design.agents.quorum_badgeholder import QuorumBadgeholder, QuorumBadgeholderPopulation\n",
    "from voting_mechanism_design.projects.project import Project\n",
    "from voting_mechanism_design.funds_distribution.threshold_and_aggregate import ThresholdAndAggregate\n",
    "from voting_mechanism_design.sim import RoundSimulation"
   ]
  },
  {
   "cell_type": "code",
   "execution_count": null,
   "metadata": {},
   "outputs": [],
   "source": [
    "# Round design variables\n",
    "total_funds = 100\n",
    "min_vote = 0\n",
    "max_vote = 16"
   ]
  },
  {
   "cell_type": "code",
   "execution_count": null,
   "metadata": {},
   "outputs": [],
   "source": [
    "# create badgeholder population\n",
    "n = 10\n",
    "badgeholder_list = []\n",
    "for ii in range(n):\n",
    "    badgeholder_id = ii\n",
    "    agent = QuorumBadgeholder(\n",
    "        badgeholder_id=badgeholder_id,\n",
    "        total_funds=total_funds,\n",
    "        min_vote=min_vote,  \n",
    "        max_vote=max_vote,\n",
    "        # TODO: these should be random variablescdxsz\n",
    "        laziness=1,\n",
    "        expertise=1,\n",
    "        coi_factor=0\n",
    "    )\n",
    "    badgeholder_list.append(agent)\n",
    "badgeholders = QuorumBadgeholderPopulation(badgeholder_list)"
   ]
  },
  {
   "cell_type": "code",
   "execution_count": null,
   "metadata": {},
   "outputs": [],
   "source": [
    "# create projects\n",
    "N = 50\n",
    "projects = []\n",
    "for ii in range(N):\n",
    "    project_id = ii\n",
    "    project = Project(\n",
    "        project_id=project_id,\n",
    "        true_impact=1,  # TODO: this should be a random variable\n",
    "        owner_id=None,  # used for COI modeling\n",
    "    )"
   ]
  },
  {
   "cell_type": "code",
   "execution_count": null,
   "metadata": {},
   "outputs": [],
   "source": [
    "# instantiate a funding model\n",
    "fund_distribution_model = ThresholdAndAggregate()"
   ]
  },
  {
   "cell_type": "code",
   "execution_count": null,
   "metadata": {},
   "outputs": [],
   "source": [
    "# create and run a simulation\n",
    "simulation_obj = RoundSimulation(\n",
    "    badgeholder_population=badgeholders,\n",
    "    projects=projects,\n",
    "    funding_design=fund_distribution_model,\n",
    ")\n",
    "simulation_obj.run()"
   ]
  },
  {
   "cell_type": "code",
   "execution_count": null,
   "metadata": {},
   "outputs": [],
   "source": [
    "# get metrics"
   ]
  }
 ],
 "metadata": {
  "language_info": {
   "name": "python"
  }
 },
 "nbformat": 4,
 "nbformat_minor": 2
}

{
 "cells": [
  {
   "cell_type": "code",
   "execution_count": 3,
   "metadata": {},
   "outputs": [
    {
     "name": "stdout",
     "output_type": "stream",
     "text": [
      "The autoreload extension is already loaded. To reload it, use:\n",
      "  %reload_ext autoreload\n"
     ]
    }
   ],
   "source": [
    "%load_ext autoreload\n",
    "%autoreload 2"
   ]
  },
  {
   "cell_type": "code",
   "execution_count": 26,
   "metadata": {},
   "outputs": [],
   "source": [
    "from voting_mechanism_design.agents.quorum_badgeholder import QuorumBadgeholder, QuorumBadgeholderPopulation\n",
    "from voting_mechanism_design.projects.project import Project, ProjectPopulation\n",
    "from voting_mechanism_design.funds_distribution.threshold_and_aggregate import ThresholdAndAggregate\n",
    "from voting_mechanism_design.sim import RoundSimulation"
   ]
  },
  {
   "cell_type": "code",
   "execution_count": 7,
   "metadata": {},
   "outputs": [],
   "source": [
    "# Round design variables\n",
    "total_funds = 100\n",
    "min_vote = 0\n",
    "max_vote = 16"
   ]
  },
  {
   "cell_type": "code",
   "execution_count": 56,
   "metadata": {},
   "outputs": [
    {
     "name": "stdout",
     "output_type": "stream",
     "text": [
      "10\n"
     ]
    }
   ],
   "source": [
    "# create badgeholder population\n",
    "n = 10\n",
    "badgeholder_list = []\n",
    "for ii in range(n):\n",
    "    badgeholder_id = ii\n",
    "    agent = QuorumBadgeholder(\n",
    "        badgeholder_id=badgeholder_id,\n",
    "        total_funds=total_funds,\n",
    "        min_vote=min_vote,  \n",
    "        max_vote=max_vote,\n",
    "        # TODO: these should be random variablescdxsz\n",
    "        laziness=1,\n",
    "        expertise=1,\n",
    "        coi_factor=0\n",
    "    )\n",
    "    badgeholder_list.append(agent)\n",
    "\n",
    "#badgeholder_list\n",
    "#badgeholders = QuorumBadgeholderPopulation(badgeholder_list)\n",
    "\n",
    "badgeholders = QuorumBadgeholderPopulation()\n",
    "badgeholders.add_badgeholders(badgeholder_list)\n",
    "\n",
    "print(len(badgeholders.badgeholders))"
   ]
  },
  {
   "cell_type": "code",
   "execution_count": 59,
   "metadata": {},
   "outputs": [
    {
     "name": "stdout",
     "output_type": "stream",
     "text": [
      "50\n"
     ]
    }
   ],
   "source": [
    "# create projects\n",
    "N = 50\n",
    "projects = []\n",
    "for ii in range(N):\n",
    "    project_id = ii\n",
    "    project = Project(\n",
    "        project_id=project_id,\n",
    "        true_impact=1,  # TODO: this should be a random variable\n",
    "        owner_id=None,  # used for COI modeling\n",
    "    )\n",
    "    projects.append(project)\n",
    "project_population = ProjectPopulation()\n",
    "project_population.add_projects(projects)\n",
    "\n",
    "print(project_population.num_projects)"
   ]
  },
  {
   "cell_type": "code",
   "execution_count": 28,
   "metadata": {},
   "outputs": [],
   "source": [
    "# instantiate a funding model\n",
    "fund_distribution_model = ThresholdAndAggregate()"
   ]
  },
  {
   "cell_type": "code",
   "execution_count": 68,
   "metadata": {},
   "outputs": [
    {
     "name": "stdout",
     "output_type": "stream",
     "text": [
      "50\n"
     ]
    },
    {
     "ename": "TypeError",
     "evalue": "cast_votes() takes 1 positional argument but 2 were given",
     "output_type": "error",
     "traceback": [
      "\u001b[1;31m---------------------------------------------------------------------------\u001b[0m",
      "\u001b[1;31mTypeError\u001b[0m                                 Traceback (most recent call last)",
      "Cell \u001b[1;32mIn[68], line 17\u001b[0m\n\u001b[0;32m     15\u001b[0m \u001b[38;5;28mprint\u001b[39m(\u001b[38;5;28mlen\u001b[39m(voting_view))\n\u001b[0;32m     16\u001b[0m \u001b[38;5;66;03m# Pass the dictionary as keyword arguments\u001b[39;00m\n\u001b[1;32m---> 17\u001b[0m \u001b[43msimulation_obj\u001b[49m\u001b[38;5;241;43m.\u001b[39;49m\u001b[43mrun\u001b[49m\u001b[43m(\u001b[49m\u001b[43mcast_votes_kwargs\u001b[49m\u001b[38;5;241;43m=\u001b[39;49m\u001b[43m{\u001b[49m\u001b[38;5;124;43m'\u001b[39;49m\u001b[38;5;124;43mview\u001b[39;49m\u001b[38;5;124;43m'\u001b[39;49m\u001b[43m:\u001b[49m\u001b[43m \u001b[49m\u001b[43mvoting_view\u001b[49m\u001b[43m}\u001b[49m\u001b[43m)\u001b[49m\n\u001b[0;32m     24\u001b[0m voting_view_ix \u001b[38;5;241m=\u001b[39m itertools\u001b[38;5;241m.\u001b[39mcombinations(\u001b[38;5;28mrange\u001b[39m(project_population\u001b[38;5;241m.\u001b[39mnum_projects), \u001b[38;5;241m2\u001b[39m)\n\u001b[0;32m     25\u001b[0m voting_view \u001b[38;5;241m=\u001b[39m []\n",
      "File \u001b[1;32mc:\\users\\martingale guest\\documents\\github\\voting_mechanism_design\\voting_mechanism_design\\sim.py:41\u001b[0m, in \u001b[0;36mRoundSimulation.run\u001b[1;34m(self, cast_votes_kwargs)\u001b[0m\n\u001b[0;32m     39\u001b[0m \u001b[38;5;28mself\u001b[39m\u001b[38;5;241m.\u001b[39mbadgeholder_population\u001b[38;5;241m.\u001b[39msend_application_information(\u001b[38;5;28mself\u001b[39m\u001b[38;5;241m.\u001b[39mprojects)\n\u001b[0;32m     40\u001b[0m \u001b[38;5;28mself\u001b[39m\u001b[38;5;241m.\u001b[39mbadgeholder_population\u001b[38;5;241m.\u001b[39mcommunicate()\n\u001b[1;32m---> 41\u001b[0m \u001b[38;5;28;43mself\u001b[39;49m\u001b[38;5;241;43m.\u001b[39;49m\u001b[43mbadgeholder_population\u001b[49m\u001b[38;5;241;43m.\u001b[39;49m\u001b[43mcast_votes\u001b[49m\u001b[43m(\u001b[49m\u001b[38;5;241;43m*\u001b[39;49m\u001b[38;5;241;43m*\u001b[39;49m\u001b[43mcast_votes_kwargs\u001b[49m\u001b[43m)\u001b[49m \u001b[38;5;66;03m# this step updates internal variables for each project\u001b[39;00m\n\u001b[0;32m     42\u001b[0m \u001b[38;5;28mself\u001b[39m\u001b[38;5;241m.\u001b[39mfunding_design\u001b[38;5;241m.\u001b[39mallocate_funds(\u001b[38;5;28mself\u001b[39m\u001b[38;5;241m.\u001b[39mprojects)\n",
      "File \u001b[1;32mc:\\users\\martingale guest\\documents\\github\\voting_mechanism_design\\voting_mechanism_design\\agents\\quorum_badgeholder.py:97\u001b[0m, in \u001b[0;36mQuorumBadgeholderPopulation.cast_votes\u001b[1;34m(self, view)\u001b[0m\n\u001b[0;32m     95\u001b[0m     view \u001b[38;5;241m=\u001b[39m []\n\u001b[0;32m     96\u001b[0m \u001b[38;5;28;01mfor\u001b[39;00m badgeholder \u001b[38;5;129;01min\u001b[39;00m \u001b[38;5;28mself\u001b[39m\u001b[38;5;241m.\u001b[39mbadgeholders:\n\u001b[1;32m---> 97\u001b[0m     \u001b[43mbadgeholder\u001b[49m\u001b[38;5;241;43m.\u001b[39;49m\u001b[43mcast_votes\u001b[49m\u001b[43m(\u001b[49m\u001b[43mview\u001b[49m\u001b[43m)\u001b[49m\n",
      "\u001b[1;31mTypeError\u001b[0m: cast_votes() takes 1 positional argument but 2 were given"
     ]
    }
   ],
   "source": [
    "# create and run a simulation\n",
    "simulation_obj = RoundSimulation(\n",
    "    badgeholder_population=badgeholders,\n",
    "    projects=project_population,\n",
    "    funding_design=fund_distribution_model,\n",
    ")\n",
    "\n",
    "\n",
    "\n",
    "\n",
    "# Prepare projects list\n",
    "voting_view = []\n",
    "for ix in range(project_population.num_projects):\n",
    "    voting_view.append(project_population.get_project(ix))\n",
    "print(len(voting_view))\n",
    "# Pass the dictionary as keyword arguments\n",
    "simulation_obj.run(cast_votes_kwargs={'view': voting_view})\n",
    "\n",
    "\n",
    "\n",
    "\n",
    "\n",
    "\n",
    "voting_view_ix = itertools.combinations(range(project_population.num_projects), 2)\n",
    "voting_view = []\n",
    "for ix1, ix2 in voting_view_ix:\n",
    "    voting_view.append((project_population.get_project(ix1), project_population.get_project(ix2)))\n",
    "# print(voting_view)\n",
    "simulation_obj.run(cast_votes_kwargs={'view': voting_view})"
   ]
  },
  {
   "cell_type": "code",
   "execution_count": 38,
   "metadata": {},
   "outputs": [],
   "source": [
    "# get metrics\n",
    "import numpy as np\n",
    "\n",
    "all_votes= simulation_obj.badgeholder_population.get_all_votes()\n",
    "\n",
    "project_list = simulation_obj.projects.projects\n",
    "N = len(project_list)\n",
    "project_vote_matrix = np.zeros((N, N))\n",
    "project2ix = {p: ix for ix, p in enumerate(project_list)}\n"
   ]
  },
  {
   "cell_type": "code",
   "execution_count": 51,
   "metadata": {},
   "outputs": [
    {
     "name": "stdout",
     "output_type": "stream",
     "text": [
      "[]\n"
     ]
    }
   ],
   "source": [
    "all_votes = simulation_obj.badgeholder_population.get_all_votes()\n",
    "\n",
    "print(all_votes)\n",
    "for v in all_votes:\n",
    "    project_index = project2ix[v.project]  # assuming each vote knows its project\n",
    "    project_votes[project_index] += 1  # Or add the specific vote amount or weight if applicable\n",
    "    print(project_votes)"
   ]
  },
  {
   "cell_type": "code",
   "execution_count": 48,
   "metadata": {},
   "outputs": [
    {
     "ename": "NameError",
     "evalue": "name 'project_index' is not defined",
     "output_type": "error",
     "traceback": [
      "\u001b[1;31m---------------------------------------------------------------------------\u001b[0m",
      "\u001b[1;31mNameError\u001b[0m                                 Traceback (most recent call last)",
      "Cell \u001b[1;32mIn[48], line 1\u001b[0m\n\u001b[1;32m----> 1\u001b[0m \u001b[43mproject_index\u001b[49m\n",
      "\u001b[1;31mNameError\u001b[0m: name 'project_index' is not defined"
     ]
    }
   ],
   "source": [
    "project_index"
   ]
  },
  {
   "cell_type": "code",
   "execution_count": null,
   "metadata": {},
   "outputs": [],
   "source": []
  }
 ],
 "metadata": {
  "kernelspec": {
   "display_name": "quorum-voting-env",
   "language": "python",
   "name": "quorum-voting-env"
  },
  "language_info": {
   "codemirror_mode": {
    "name": "ipython",
    "version": 3
   },
   "file_extension": ".py",
   "mimetype": "text/x-python",
   "name": "python",
   "nbconvert_exporter": "python",
   "pygments_lexer": "ipython3",
   "version": "3.8.19"
  }
 },
 "nbformat": 4,
 "nbformat_minor": 4
}
